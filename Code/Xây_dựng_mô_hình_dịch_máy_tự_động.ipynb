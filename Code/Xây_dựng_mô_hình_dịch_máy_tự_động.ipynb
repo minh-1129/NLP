{
  "nbformat": 4,
  "nbformat_minor": 0,
  "metadata": {
    "colab": {
      "provenance": [],
      "collapsed_sections": [
        "haA45g0WT6V7",
        "6ERv3jnTOuND",
        "PXEcYwx8Ozez"
      ]
    },
    "kernelspec": {
      "name": "python3",
      "display_name": "Python 3"
    },
    "language_info": {
      "name": "python"
    },
    "widgets": {
      "application/vnd.jupyter.widget-state+json": {
        "c4721b61b8994e5d8bbf3f2d077d7398": {
          "model_module": "@jupyter-widgets/controls",
          "model_name": "HBoxModel",
          "model_module_version": "1.5.0",
          "state": {
            "_dom_classes": [],
            "_model_module": "@jupyter-widgets/controls",
            "_model_module_version": "1.5.0",
            "_model_name": "HBoxModel",
            "_view_count": null,
            "_view_module": "@jupyter-widgets/controls",
            "_view_module_version": "1.5.0",
            "_view_name": "HBoxView",
            "box_style": "",
            "children": [
              "IPY_MODEL_d450a00009c0498db51fc3280688f4d4",
              "IPY_MODEL_990666b85b5c41b8a0b3709cff2c0922",
              "IPY_MODEL_d808331ff5774939a855e63e2200a0df"
            ],
            "layout": "IPY_MODEL_6587e98ab75747fc87acb836adea6f74"
          }
        },
        "d450a00009c0498db51fc3280688f4d4": {
          "model_module": "@jupyter-widgets/controls",
          "model_name": "HTMLModel",
          "model_module_version": "1.5.0",
          "state": {
            "_dom_classes": [],
            "_model_module": "@jupyter-widgets/controls",
            "_model_module_version": "1.5.0",
            "_model_name": "HTMLModel",
            "_view_count": null,
            "_view_module": "@jupyter-widgets/controls",
            "_view_module_version": "1.5.0",
            "_view_name": "HTMLView",
            "description": "",
            "description_tooltip": null,
            "layout": "IPY_MODEL_4053246c05734140a5b7d728a3531354",
            "placeholder": "​",
            "style": "IPY_MODEL_44b7371b680e474795a212ca7d550ee8",
            "value": "Map: 100%"
          }
        },
        "990666b85b5c41b8a0b3709cff2c0922": {
          "model_module": "@jupyter-widgets/controls",
          "model_name": "FloatProgressModel",
          "model_module_version": "1.5.0",
          "state": {
            "_dom_classes": [],
            "_model_module": "@jupyter-widgets/controls",
            "_model_module_version": "1.5.0",
            "_model_name": "FloatProgressModel",
            "_view_count": null,
            "_view_module": "@jupyter-widgets/controls",
            "_view_module_version": "1.5.0",
            "_view_name": "ProgressView",
            "bar_style": "success",
            "description": "",
            "description_tooltip": null,
            "layout": "IPY_MODEL_6c2bbefd864140c9af0b2c0df6735c9b",
            "max": 25,
            "min": 0,
            "orientation": "horizontal",
            "style": "IPY_MODEL_6aca7f3c47fb4331b93a250a6e0fdb7f",
            "value": 25
          }
        },
        "d808331ff5774939a855e63e2200a0df": {
          "model_module": "@jupyter-widgets/controls",
          "model_name": "HTMLModel",
          "model_module_version": "1.5.0",
          "state": {
            "_dom_classes": [],
            "_model_module": "@jupyter-widgets/controls",
            "_model_module_version": "1.5.0",
            "_model_name": "HTMLModel",
            "_view_count": null,
            "_view_module": "@jupyter-widgets/controls",
            "_view_module_version": "1.5.0",
            "_view_name": "HTMLView",
            "description": "",
            "description_tooltip": null,
            "layout": "IPY_MODEL_de22b652a1914c058586a94a4720bc8a",
            "placeholder": "​",
            "style": "IPY_MODEL_9891305647a84d4183abbbbccf2fe2b4",
            "value": " 25/25 [00:00&lt;00:00, 529.09 examples/s]"
          }
        },
        "6587e98ab75747fc87acb836adea6f74": {
          "model_module": "@jupyter-widgets/base",
          "model_name": "LayoutModel",
          "model_module_version": "1.2.0",
          "state": {
            "_model_module": "@jupyter-widgets/base",
            "_model_module_version": "1.2.0",
            "_model_name": "LayoutModel",
            "_view_count": null,
            "_view_module": "@jupyter-widgets/base",
            "_view_module_version": "1.2.0",
            "_view_name": "LayoutView",
            "align_content": null,
            "align_items": null,
            "align_self": null,
            "border": null,
            "bottom": null,
            "display": null,
            "flex": null,
            "flex_flow": null,
            "grid_area": null,
            "grid_auto_columns": null,
            "grid_auto_flow": null,
            "grid_auto_rows": null,
            "grid_column": null,
            "grid_gap": null,
            "grid_row": null,
            "grid_template_areas": null,
            "grid_template_columns": null,
            "grid_template_rows": null,
            "height": null,
            "justify_content": null,
            "justify_items": null,
            "left": null,
            "margin": null,
            "max_height": null,
            "max_width": null,
            "min_height": null,
            "min_width": null,
            "object_fit": null,
            "object_position": null,
            "order": null,
            "overflow": null,
            "overflow_x": null,
            "overflow_y": null,
            "padding": null,
            "right": null,
            "top": null,
            "visibility": null,
            "width": null
          }
        },
        "4053246c05734140a5b7d728a3531354": {
          "model_module": "@jupyter-widgets/base",
          "model_name": "LayoutModel",
          "model_module_version": "1.2.0",
          "state": {
            "_model_module": "@jupyter-widgets/base",
            "_model_module_version": "1.2.0",
            "_model_name": "LayoutModel",
            "_view_count": null,
            "_view_module": "@jupyter-widgets/base",
            "_view_module_version": "1.2.0",
            "_view_name": "LayoutView",
            "align_content": null,
            "align_items": null,
            "align_self": null,
            "border": null,
            "bottom": null,
            "display": null,
            "flex": null,
            "flex_flow": null,
            "grid_area": null,
            "grid_auto_columns": null,
            "grid_auto_flow": null,
            "grid_auto_rows": null,
            "grid_column": null,
            "grid_gap": null,
            "grid_row": null,
            "grid_template_areas": null,
            "grid_template_columns": null,
            "grid_template_rows": null,
            "height": null,
            "justify_content": null,
            "justify_items": null,
            "left": null,
            "margin": null,
            "max_height": null,
            "max_width": null,
            "min_height": null,
            "min_width": null,
            "object_fit": null,
            "object_position": null,
            "order": null,
            "overflow": null,
            "overflow_x": null,
            "overflow_y": null,
            "padding": null,
            "right": null,
            "top": null,
            "visibility": null,
            "width": null
          }
        },
        "44b7371b680e474795a212ca7d550ee8": {
          "model_module": "@jupyter-widgets/controls",
          "model_name": "DescriptionStyleModel",
          "model_module_version": "1.5.0",
          "state": {
            "_model_module": "@jupyter-widgets/controls",
            "_model_module_version": "1.5.0",
            "_model_name": "DescriptionStyleModel",
            "_view_count": null,
            "_view_module": "@jupyter-widgets/base",
            "_view_module_version": "1.2.0",
            "_view_name": "StyleView",
            "description_width": ""
          }
        },
        "6c2bbefd864140c9af0b2c0df6735c9b": {
          "model_module": "@jupyter-widgets/base",
          "model_name": "LayoutModel",
          "model_module_version": "1.2.0",
          "state": {
            "_model_module": "@jupyter-widgets/base",
            "_model_module_version": "1.2.0",
            "_model_name": "LayoutModel",
            "_view_count": null,
            "_view_module": "@jupyter-widgets/base",
            "_view_module_version": "1.2.0",
            "_view_name": "LayoutView",
            "align_content": null,
            "align_items": null,
            "align_self": null,
            "border": null,
            "bottom": null,
            "display": null,
            "flex": null,
            "flex_flow": null,
            "grid_area": null,
            "grid_auto_columns": null,
            "grid_auto_flow": null,
            "grid_auto_rows": null,
            "grid_column": null,
            "grid_gap": null,
            "grid_row": null,
            "grid_template_areas": null,
            "grid_template_columns": null,
            "grid_template_rows": null,
            "height": null,
            "justify_content": null,
            "justify_items": null,
            "left": null,
            "margin": null,
            "max_height": null,
            "max_width": null,
            "min_height": null,
            "min_width": null,
            "object_fit": null,
            "object_position": null,
            "order": null,
            "overflow": null,
            "overflow_x": null,
            "overflow_y": null,
            "padding": null,
            "right": null,
            "top": null,
            "visibility": null,
            "width": null
          }
        },
        "6aca7f3c47fb4331b93a250a6e0fdb7f": {
          "model_module": "@jupyter-widgets/controls",
          "model_name": "ProgressStyleModel",
          "model_module_version": "1.5.0",
          "state": {
            "_model_module": "@jupyter-widgets/controls",
            "_model_module_version": "1.5.0",
            "_model_name": "ProgressStyleModel",
            "_view_count": null,
            "_view_module": "@jupyter-widgets/base",
            "_view_module_version": "1.2.0",
            "_view_name": "StyleView",
            "bar_color": null,
            "description_width": ""
          }
        },
        "de22b652a1914c058586a94a4720bc8a": {
          "model_module": "@jupyter-widgets/base",
          "model_name": "LayoutModel",
          "model_module_version": "1.2.0",
          "state": {
            "_model_module": "@jupyter-widgets/base",
            "_model_module_version": "1.2.0",
            "_model_name": "LayoutModel",
            "_view_count": null,
            "_view_module": "@jupyter-widgets/base",
            "_view_module_version": "1.2.0",
            "_view_name": "LayoutView",
            "align_content": null,
            "align_items": null,
            "align_self": null,
            "border": null,
            "bottom": null,
            "display": null,
            "flex": null,
            "flex_flow": null,
            "grid_area": null,
            "grid_auto_columns": null,
            "grid_auto_flow": null,
            "grid_auto_rows": null,
            "grid_column": null,
            "grid_gap": null,
            "grid_row": null,
            "grid_template_areas": null,
            "grid_template_columns": null,
            "grid_template_rows": null,
            "height": null,
            "justify_content": null,
            "justify_items": null,
            "left": null,
            "margin": null,
            "max_height": null,
            "max_width": null,
            "min_height": null,
            "min_width": null,
            "object_fit": null,
            "object_position": null,
            "order": null,
            "overflow": null,
            "overflow_x": null,
            "overflow_y": null,
            "padding": null,
            "right": null,
            "top": null,
            "visibility": null,
            "width": null
          }
        },
        "9891305647a84d4183abbbbccf2fe2b4": {
          "model_module": "@jupyter-widgets/controls",
          "model_name": "DescriptionStyleModel",
          "model_module_version": "1.5.0",
          "state": {
            "_model_module": "@jupyter-widgets/controls",
            "_model_module_version": "1.5.0",
            "_model_name": "DescriptionStyleModel",
            "_view_count": null,
            "_view_module": "@jupyter-widgets/base",
            "_view_module_version": "1.2.0",
            "_view_name": "StyleView",
            "description_width": ""
          }
        },
        "ab7f6a338c5c4182a64f63448f339f0b": {
          "model_module": "@jupyter-widgets/controls",
          "model_name": "HBoxModel",
          "model_module_version": "1.5.0",
          "state": {
            "_dom_classes": [],
            "_model_module": "@jupyter-widgets/controls",
            "_model_module_version": "1.5.0",
            "_model_name": "HBoxModel",
            "_view_count": null,
            "_view_module": "@jupyter-widgets/controls",
            "_view_module_version": "1.5.0",
            "_view_name": "HBoxView",
            "box_style": "",
            "children": [
              "IPY_MODEL_749640a98fd242d58b0bf6dbc233f83f",
              "IPY_MODEL_9f42e899a9b14dd6ba6bb8bb3c82f804",
              "IPY_MODEL_7de027ab83424857946e36701dd78056"
            ],
            "layout": "IPY_MODEL_aa1e16de550a4761893b90c6966ef657"
          }
        },
        "749640a98fd242d58b0bf6dbc233f83f": {
          "model_module": "@jupyter-widgets/controls",
          "model_name": "HTMLModel",
          "model_module_version": "1.5.0",
          "state": {
            "_dom_classes": [],
            "_model_module": "@jupyter-widgets/controls",
            "_model_module_version": "1.5.0",
            "_model_name": "HTMLModel",
            "_view_count": null,
            "_view_module": "@jupyter-widgets/controls",
            "_view_module_version": "1.5.0",
            "_view_name": "HTMLView",
            "description": "",
            "description_tooltip": null,
            "layout": "IPY_MODEL_5bdc9420c50c44eeae80fe578dd7576c",
            "placeholder": "​",
            "style": "IPY_MODEL_e6eaf5981b504cf9b762d5e41ecc5ec4",
            "value": "Map: 100%"
          }
        },
        "9f42e899a9b14dd6ba6bb8bb3c82f804": {
          "model_module": "@jupyter-widgets/controls",
          "model_name": "FloatProgressModel",
          "model_module_version": "1.5.0",
          "state": {
            "_dom_classes": [],
            "_model_module": "@jupyter-widgets/controls",
            "_model_module_version": "1.5.0",
            "_model_name": "FloatProgressModel",
            "_view_count": null,
            "_view_module": "@jupyter-widgets/controls",
            "_view_module_version": "1.5.0",
            "_view_name": "ProgressView",
            "bar_style": "success",
            "description": "",
            "description_tooltip": null,
            "layout": "IPY_MODEL_2b9970a8a7d749839bcd39a90897abe1",
            "max": 2666,
            "min": 0,
            "orientation": "horizontal",
            "style": "IPY_MODEL_e04c22440e2d47e69cba663d07ed1c67",
            "value": 2666
          }
        },
        "7de027ab83424857946e36701dd78056": {
          "model_module": "@jupyter-widgets/controls",
          "model_name": "HTMLModel",
          "model_module_version": "1.5.0",
          "state": {
            "_dom_classes": [],
            "_model_module": "@jupyter-widgets/controls",
            "_model_module_version": "1.5.0",
            "_model_name": "HTMLModel",
            "_view_count": null,
            "_view_module": "@jupyter-widgets/controls",
            "_view_module_version": "1.5.0",
            "_view_name": "HTMLView",
            "description": "",
            "description_tooltip": null,
            "layout": "IPY_MODEL_e7b1cead25174cd5b7168112389abd78",
            "placeholder": "​",
            "style": "IPY_MODEL_03816b1075c04c1d9ec05c82c6bec390",
            "value": " 2666/2666 [00:00&lt;00:00, 5679.22 examples/s]"
          }
        },
        "aa1e16de550a4761893b90c6966ef657": {
          "model_module": "@jupyter-widgets/base",
          "model_name": "LayoutModel",
          "model_module_version": "1.2.0",
          "state": {
            "_model_module": "@jupyter-widgets/base",
            "_model_module_version": "1.2.0",
            "_model_name": "LayoutModel",
            "_view_count": null,
            "_view_module": "@jupyter-widgets/base",
            "_view_module_version": "1.2.0",
            "_view_name": "LayoutView",
            "align_content": null,
            "align_items": null,
            "align_self": null,
            "border": null,
            "bottom": null,
            "display": null,
            "flex": null,
            "flex_flow": null,
            "grid_area": null,
            "grid_auto_columns": null,
            "grid_auto_flow": null,
            "grid_auto_rows": null,
            "grid_column": null,
            "grid_gap": null,
            "grid_row": null,
            "grid_template_areas": null,
            "grid_template_columns": null,
            "grid_template_rows": null,
            "height": null,
            "justify_content": null,
            "justify_items": null,
            "left": null,
            "margin": null,
            "max_height": null,
            "max_width": null,
            "min_height": null,
            "min_width": null,
            "object_fit": null,
            "object_position": null,
            "order": null,
            "overflow": null,
            "overflow_x": null,
            "overflow_y": null,
            "padding": null,
            "right": null,
            "top": null,
            "visibility": null,
            "width": null
          }
        },
        "5bdc9420c50c44eeae80fe578dd7576c": {
          "model_module": "@jupyter-widgets/base",
          "model_name": "LayoutModel",
          "model_module_version": "1.2.0",
          "state": {
            "_model_module": "@jupyter-widgets/base",
            "_model_module_version": "1.2.0",
            "_model_name": "LayoutModel",
            "_view_count": null,
            "_view_module": "@jupyter-widgets/base",
            "_view_module_version": "1.2.0",
            "_view_name": "LayoutView",
            "align_content": null,
            "align_items": null,
            "align_self": null,
            "border": null,
            "bottom": null,
            "display": null,
            "flex": null,
            "flex_flow": null,
            "grid_area": null,
            "grid_auto_columns": null,
            "grid_auto_flow": null,
            "grid_auto_rows": null,
            "grid_column": null,
            "grid_gap": null,
            "grid_row": null,
            "grid_template_areas": null,
            "grid_template_columns": null,
            "grid_template_rows": null,
            "height": null,
            "justify_content": null,
            "justify_items": null,
            "left": null,
            "margin": null,
            "max_height": null,
            "max_width": null,
            "min_height": null,
            "min_width": null,
            "object_fit": null,
            "object_position": null,
            "order": null,
            "overflow": null,
            "overflow_x": null,
            "overflow_y": null,
            "padding": null,
            "right": null,
            "top": null,
            "visibility": null,
            "width": null
          }
        },
        "e6eaf5981b504cf9b762d5e41ecc5ec4": {
          "model_module": "@jupyter-widgets/controls",
          "model_name": "DescriptionStyleModel",
          "model_module_version": "1.5.0",
          "state": {
            "_model_module": "@jupyter-widgets/controls",
            "_model_module_version": "1.5.0",
            "_model_name": "DescriptionStyleModel",
            "_view_count": null,
            "_view_module": "@jupyter-widgets/base",
            "_view_module_version": "1.2.0",
            "_view_name": "StyleView",
            "description_width": ""
          }
        },
        "2b9970a8a7d749839bcd39a90897abe1": {
          "model_module": "@jupyter-widgets/base",
          "model_name": "LayoutModel",
          "model_module_version": "1.2.0",
          "state": {
            "_model_module": "@jupyter-widgets/base",
            "_model_module_version": "1.2.0",
            "_model_name": "LayoutModel",
            "_view_count": null,
            "_view_module": "@jupyter-widgets/base",
            "_view_module_version": "1.2.0",
            "_view_name": "LayoutView",
            "align_content": null,
            "align_items": null,
            "align_self": null,
            "border": null,
            "bottom": null,
            "display": null,
            "flex": null,
            "flex_flow": null,
            "grid_area": null,
            "grid_auto_columns": null,
            "grid_auto_flow": null,
            "grid_auto_rows": null,
            "grid_column": null,
            "grid_gap": null,
            "grid_row": null,
            "grid_template_areas": null,
            "grid_template_columns": null,
            "grid_template_rows": null,
            "height": null,
            "justify_content": null,
            "justify_items": null,
            "left": null,
            "margin": null,
            "max_height": null,
            "max_width": null,
            "min_height": null,
            "min_width": null,
            "object_fit": null,
            "object_position": null,
            "order": null,
            "overflow": null,
            "overflow_x": null,
            "overflow_y": null,
            "padding": null,
            "right": null,
            "top": null,
            "visibility": null,
            "width": null
          }
        },
        "e04c22440e2d47e69cba663d07ed1c67": {
          "model_module": "@jupyter-widgets/controls",
          "model_name": "ProgressStyleModel",
          "model_module_version": "1.5.0",
          "state": {
            "_model_module": "@jupyter-widgets/controls",
            "_model_module_version": "1.5.0",
            "_model_name": "ProgressStyleModel",
            "_view_count": null,
            "_view_module": "@jupyter-widgets/base",
            "_view_module_version": "1.2.0",
            "_view_name": "StyleView",
            "bar_color": null,
            "description_width": ""
          }
        },
        "e7b1cead25174cd5b7168112389abd78": {
          "model_module": "@jupyter-widgets/base",
          "model_name": "LayoutModel",
          "model_module_version": "1.2.0",
          "state": {
            "_model_module": "@jupyter-widgets/base",
            "_model_module_version": "1.2.0",
            "_model_name": "LayoutModel",
            "_view_count": null,
            "_view_module": "@jupyter-widgets/base",
            "_view_module_version": "1.2.0",
            "_view_name": "LayoutView",
            "align_content": null,
            "align_items": null,
            "align_self": null,
            "border": null,
            "bottom": null,
            "display": null,
            "flex": null,
            "flex_flow": null,
            "grid_area": null,
            "grid_auto_columns": null,
            "grid_auto_flow": null,
            "grid_auto_rows": null,
            "grid_column": null,
            "grid_gap": null,
            "grid_row": null,
            "grid_template_areas": null,
            "grid_template_columns": null,
            "grid_template_rows": null,
            "height": null,
            "justify_content": null,
            "justify_items": null,
            "left": null,
            "margin": null,
            "max_height": null,
            "max_width": null,
            "min_height": null,
            "min_width": null,
            "object_fit": null,
            "object_position": null,
            "order": null,
            "overflow": null,
            "overflow_x": null,
            "overflow_y": null,
            "padding": null,
            "right": null,
            "top": null,
            "visibility": null,
            "width": null
          }
        },
        "03816b1075c04c1d9ec05c82c6bec390": {
          "model_module": "@jupyter-widgets/controls",
          "model_name": "DescriptionStyleModel",
          "model_module_version": "1.5.0",
          "state": {
            "_model_module": "@jupyter-widgets/controls",
            "_model_module_version": "1.5.0",
            "_model_name": "DescriptionStyleModel",
            "_view_count": null,
            "_view_module": "@jupyter-widgets/base",
            "_view_module_version": "1.2.0",
            "_view_name": "StyleView",
            "description_width": ""
          }
        }
      }
    }
  },
  "cells": [
    {
      "cell_type": "code",
      "execution_count": null,
      "metadata": {
        "id": "oAvh3_K_7gKg"
      },
      "outputs": [],
      "source": [
        "%%capture\n",
        "# Transformers installation\n",
        "! pip install datasets\n",
        "! pip install transformers[torch]\n",
        "! pip install accelerate\n",
        "! pip install evaluate\n",
        "! pip install sacrebleu\n",
        "# To install from source instead of the last release, comment the command above and uncomment the following one.\n",
        "# ! pip install git+https://github.com/huggingface/transformers.git"
      ]
    },
    {
      "cell_type": "markdown",
      "source": [
        "#  Thực hiện load bộ dataset\n",
        "\n",
        "Để demo, code dưới đây chỉ load 2% dữ liệu huấn luyện và training. Nếu muốn load full thì bỏ đi option split.\n"
      ],
      "metadata": {
        "id": "haA45g0WT6V7"
      }
    },
    {
      "cell_type": "code",
      "source": [
        "%%capture\n",
        "from datasets import load_dataset\n",
        "import datasets\n",
        "\n",
        "mt_dataset = load_dataset(\"mt_eng_vietnamese\", \"iwslt2015-vi-en\", split={\n",
        "    'test': datasets.ReadInstruction('test', to=2, unit='%'),\n",
        "    'train': datasets.ReadInstruction('train', to=2, unit='%')\n",
        "})\n"
      ],
      "metadata": {
        "id": "Dlot8hmRFGw8"
      },
      "execution_count": null,
      "outputs": []
    },
    {
      "cell_type": "code",
      "source": [
        "mt_dataset"
      ],
      "metadata": {
        "colab": {
          "base_uri": "https://localhost:8080/"
        },
        "id": "alb2yfj7FLsx",
        "outputId": "a3127c9f-3ce7-4836-e1a6-c3d5e9894c4b"
      },
      "execution_count": null,
      "outputs": [
        {
          "output_type": "execute_result",
          "data": {
            "text/plain": [
              "DatasetDict({\n",
              "    test: Dataset({\n",
              "        features: ['translation'],\n",
              "        num_rows: 25\n",
              "    })\n",
              "    train: Dataset({\n",
              "        features: ['translation'],\n",
              "        num_rows: 2666\n",
              "    })\n",
              "})"
            ]
          },
          "metadata": {},
          "execution_count": 28
        }
      ]
    },
    {
      "cell_type": "markdown",
      "source": [
        "# Tiền xử lý\n",
        "\n",
        "**Tiền xử lý bao gồm các bước sau**:\n",
        "\n",
        "1. Thêm tiền tố vào đầu đầu vào với một câu gợi ý (prompt) để mô hình biết đây là một nhiệm vụ dịch. Một số mô hình có khả năng thực hiện nhiều nhiệm vụ NLP sẽ cần câu gợi ý (prompting) cho từng nhiệm vụ cụ thể.\n",
        "\n",
        "2. Tokenize chuỗi đầu vào (tiếng Việt) và đầu ra (tiếng Anh) riêng biệt vì không thể tách từng phần của văn bản tiếng Việt bằng một tokenizer được huấn luyện trước trên từ vựng tiếng Anh.\n",
        "\n",
        "3. Cắt giữa các chuỗi sao cho chúng không dài hơn độ dài tối đa được đặt bởi tham số max_length."
      ],
      "metadata": {
        "id": "6ERv3jnTOuND"
      }
    },
    {
      "cell_type": "code",
      "source": [
        "# @title Load tokenizer\n",
        "variable_name = \"VietAI/vit5-base\" # @param [\"VietAI/vit5-base\", \"VietAI/vit5-large\", \"minhtoan/t5-small-wikilingua-vietnamese\"]\n",
        "from transformers import AutoTokenizer\n",
        "\n",
        "# checkpoint = \"t5-small\"\n",
        "checkpoint=\"VietAI/vit5-base\"\n",
        "tokenizer = AutoTokenizer.from_pretrained(checkpoint)"
      ],
      "metadata": {
        "id": "_I6X2q36FNDG"
      },
      "execution_count": null,
      "outputs": []
    },
    {
      "cell_type": "code",
      "source": [
        "source_lang = \"vi\"\n",
        "target_lang = \"en\"\n",
        "prefix = \"dịch đoạn sau sang Tiếng Anh: \"\n",
        "\n",
        "\n",
        "def preprocess_function(examples):\n",
        "    inputs = [prefix + example[source_lang] for example in examples[\"translation\"]]\n",
        "    targets = [example[target_lang] for example in examples[\"translation\"]]\n",
        "    model_inputs = tokenizer(inputs, text_target=targets, max_length=128, truncation=True)\n",
        "    return model_inputs"
      ],
      "metadata": {
        "id": "goeFpx9RFPnT"
      },
      "execution_count": null,
      "outputs": []
    },
    {
      "cell_type": "markdown",
      "source": [
        "Để áp dụng chức năng tiền xử lý trên toàn bộ bộ dữ liệu, sử dụng phương thức [map](https://huggingface.co/docs/datasets/main/en/package_reference/main_classes#datasets.Dataset.map). Bạn có thể tăng tốc độ của hàm `map` bằng cách đặt `batched=True` để xử lý theo batch."
      ],
      "metadata": {
        "id": "SueAyi1wOYZk"
      }
    },
    {
      "cell_type": "code",
      "source": [
        "tokenized_mt_dataset = mt_dataset.map(preprocess_function, batched=True)"
      ],
      "metadata": {
        "colab": {
          "base_uri": "https://localhost:8080/",
          "height": 109,
          "referenced_widgets": [
            "c4721b61b8994e5d8bbf3f2d077d7398",
            "d450a00009c0498db51fc3280688f4d4",
            "990666b85b5c41b8a0b3709cff2c0922",
            "d808331ff5774939a855e63e2200a0df",
            "6587e98ab75747fc87acb836adea6f74",
            "4053246c05734140a5b7d728a3531354",
            "44b7371b680e474795a212ca7d550ee8",
            "6c2bbefd864140c9af0b2c0df6735c9b",
            "6aca7f3c47fb4331b93a250a6e0fdb7f",
            "de22b652a1914c058586a94a4720bc8a",
            "9891305647a84d4183abbbbccf2fe2b4",
            "ab7f6a338c5c4182a64f63448f339f0b",
            "749640a98fd242d58b0bf6dbc233f83f",
            "9f42e899a9b14dd6ba6bb8bb3c82f804",
            "7de027ab83424857946e36701dd78056",
            "aa1e16de550a4761893b90c6966ef657",
            "5bdc9420c50c44eeae80fe578dd7576c",
            "e6eaf5981b504cf9b762d5e41ecc5ec4",
            "2b9970a8a7d749839bcd39a90897abe1",
            "e04c22440e2d47e69cba663d07ed1c67",
            "e7b1cead25174cd5b7168112389abd78",
            "03816b1075c04c1d9ec05c82c6bec390"
          ]
        },
        "id": "AEEyui54OYLS",
        "outputId": "ccc1914a-ee31-4675-e110-b0a8a3dd03fc"
      },
      "execution_count": null,
      "outputs": [
        {
          "output_type": "display_data",
          "data": {
            "text/plain": [
              "Map:   0%|          | 0/25 [00:00<?, ? examples/s]"
            ],
            "application/vnd.jupyter.widget-view+json": {
              "version_major": 2,
              "version_minor": 0,
              "model_id": "c4721b61b8994e5d8bbf3f2d077d7398"
            }
          },
          "metadata": {}
        },
        {
          "output_type": "display_data",
          "data": {
            "text/plain": [
              "Map:   0%|          | 0/2666 [00:00<?, ? examples/s]"
            ],
            "application/vnd.jupyter.widget-view+json": {
              "version_major": 2,
              "version_minor": 0,
              "model_id": "ab7f6a338c5c4182a64f63448f339f0b"
            }
          },
          "metadata": {}
        }
      ]
    },
    {
      "cell_type": "markdown",
      "source": [
        "Tạo một batch bằng cách sử dụng [DataCollatorForSeq2Seq](https://huggingface.co/docs/transformers/main/en/main_classes/data_collator#transformers.DataCollatorForSeq2Seq). Việc padding các câu thành với max_lengt là độ dài câu dài nhất trong batch đó hiệu quả hơn là padding toàn bộ bộ dữ liệu đến độ dài tối đa."
      ],
      "metadata": {
        "id": "Z8IN1IRXOmP_"
      }
    },
    {
      "cell_type": "code",
      "source": [
        "from transformers import DataCollatorForSeq2Seq\n",
        "\n",
        "data_collator = DataCollatorForSeq2Seq(tokenizer=tokenizer, model=checkpoint)"
      ],
      "metadata": {
        "id": "sqDWxbhSOa7r"
      },
      "execution_count": null,
      "outputs": []
    },
    {
      "cell_type": "markdown",
      "source": [
        "# Hàm đánh giá"
      ],
      "metadata": {
        "id": "PXEcYwx8Ozez"
      }
    },
    {
      "cell_type": "markdown",
      "source": [
        "Sử dụng một hàm đánh giá trong quá trình huấn luyện thường rất hữu ích để đánh giá hiệu suất của mô hình một cách thường xuyên, giúp phát hiện được lỗi sớm, tránh lãng phí thời gian. Ta có thể nhanh chóng tải một phương pháp đánh giá bằng thư viện 🤗 [Evaluate](https://huggingface.co/docs/evaluate/index). Đối với bài toán dịch máy, sử dụng metric SacreBLEU (xem [hướng dẫn nhanh](https://huggingface.co/docs/evaluate/a_quick_tour) của 🤗 Evaluate để tìm hiểu thêm về cách tải và cách tính toán metric)"
      ],
      "metadata": {
        "id": "AkT5_dxcO5_h"
      }
    },
    {
      "cell_type": "code",
      "source": [
        "%%capture\n",
        "import evaluate\n",
        "metric = evaluate.load(\"sacrebleu\")"
      ],
      "metadata": {
        "id": "Ro2QoB9_Oq3_"
      },
      "execution_count": null,
      "outputs": []
    },
    {
      "cell_type": "markdown",
      "source": [
        "Sau đó, hãy tạo một hàm để truyền dự đoán và nhãn để hàm [compute](https://huggingface.co/docs/evaluate/main/en/package_reference/main_classes#evaluate.EvaluationModule.compute) tính toán điểm SacreBLEU:"
      ],
      "metadata": {
        "id": "UES8O7HRPICh"
      }
    },
    {
      "cell_type": "code",
      "source": [
        "import numpy as np\n",
        "\n",
        "\n",
        "def postprocess_text(preds, labels):\n",
        "    preds = [pred.strip() for pred in preds]\n",
        "    labels = [[label.strip()] for label in labels]\n",
        "\n",
        "    return preds, labels\n",
        "\n",
        "\n",
        "def compute_metrics(eval_preds):\n",
        "    preds, labels = eval_preds\n",
        "    if isinstance(preds, tuple):\n",
        "        preds = preds[0]\n",
        "    decoded_preds = tokenizer.batch_decode(preds, skip_special_tokens=True)\n",
        "\n",
        "    labels = np.where(labels != -100, labels, tokenizer.pad_token_id)\n",
        "    decoded_labels = tokenizer.batch_decode(labels, skip_special_tokens=True)\n",
        "\n",
        "    decoded_preds, decoded_labels = postprocess_text(decoded_preds, decoded_labels)\n",
        "\n",
        "    result = metric.compute(predictions=decoded_preds, references=decoded_labels)\n",
        "    result = {\"bleu\": result[\"score\"]}\n",
        "\n",
        "    prediction_lens = [np.count_nonzero(pred != tokenizer.pad_token_id) for pred in preds]\n",
        "    result[\"gen_len\"] = np.mean(prediction_lens)\n",
        "    result = {k: round(v, 4) for k, v in result.items()}\n",
        "    return result"
      ],
      "metadata": {
        "id": "2eVlwVnoO9DE"
      },
      "execution_count": null,
      "outputs": []
    },
    {
      "cell_type": "markdown",
      "source": [
        "# Huấn luyện mô hình"
      ],
      "metadata": {
        "id": "raOjNBqBPTZ-"
      }
    },
    {
      "cell_type": "markdown",
      "source": [
        "Các thành phần đã sẵn sàng, việc tiếp theo là load mô hình."
      ],
      "metadata": {
        "id": "7IjkbessPYDO"
      }
    },
    {
      "cell_type": "code",
      "source": [
        "from transformers import AutoModelForSeq2SeqLM\n",
        "\n",
        "model = AutoModelForSeq2SeqLM.from_pretrained(checkpoint)"
      ],
      "metadata": {
        "id": "0TG3u2gzPPqD"
      },
      "execution_count": null,
      "outputs": []
    },
    {
      "cell_type": "markdown",
      "source": [
        "3 bước tiếp theo cần thực hiện để huấn luyện được mô hình:\n",
        "\n",
        "1. Xác định các siêu tham số có trong class [Seq2SeqTrainingArguments](https://huggingface.co/docs/transformers/main/en/main_classes/trainer#transformers.Seq2SeqTrainingArguments). Tham số bắt buộc duy nhất là `output_dir`, chỉ định nơi lưu trữ mô hình. Cuối mỗi epoch, Trainer sẽ đánh giá mô hình dựa trên độ đo `SacreBLEU` và lưu điểm kiểm tra của quá trình huấn luyện.\n",
        "\n",
        "2. Truyền các tham số vừa config vào instance `Seq2SeqTrainer` kèm với model, dataset, tokenizer, data_collator và hàm compute_metrics.\n",
        "\n",
        "3. Gọi train() để huấn luyện mô hình."
      ],
      "metadata": {
        "id": "wlXXzTN_PeNk"
      }
    },
    {
      "cell_type": "code",
      "source": [
        "from transformers import  Seq2SeqTrainingArguments, Seq2SeqTrainer\n",
        "\n",
        "training_args = Seq2SeqTrainingArguments(\n",
        "    output_dir=\"my_translator_vi-en\",\n",
        "    evaluation_strategy=\"epoch\",\n",
        "    learning_rate=2e-5,\n",
        "    per_device_train_batch_size=4,\n",
        "    per_device_eval_batch_size=4,\n",
        "    weight_decay=0.01,\n",
        "    save_total_limit=3,\n",
        "    num_train_epochs=2,\n",
        "    predict_with_generate=True,\n",
        "    fp16=True,\n",
        "    # push_to_hub=False,\n",
        ")\n",
        "\n",
        "trainer = Seq2SeqTrainer(\n",
        "    model=model,\n",
        "    args=training_args,\n",
        "    train_dataset=tokenized_mt_dataset[\"train\"],\n",
        "    eval_dataset=tokenized_mt_dataset[\"test\"],\n",
        "    tokenizer=tokenizer,\n",
        "    data_collator=data_collator,\n",
        "    compute_metrics=compute_metrics,\n",
        ")\n",
        "\n",
        "trainer.train()"
      ],
      "metadata": {
        "colab": {
          "base_uri": "https://localhost:8080/",
          "height": 301
        },
        "id": "4qpZoJ7-PcBa",
        "outputId": "e87be51e-16f5-4e11-bc76-f50afab3b514"
      },
      "execution_count": null,
      "outputs": [
        {
          "output_type": "stream",
          "name": "stderr",
          "text": [
            "You're using a T5TokenizerFast tokenizer. Please note that with a fast tokenizer, using the `__call__` method is faster than using a method to encode the text followed by a call to the `pad` method to get a padded encoding.\n"
          ]
        },
        {
          "output_type": "display_data",
          "data": {
            "text/plain": [
              "<IPython.core.display.HTML object>"
            ],
            "text/html": [
              "\n",
              "    <div>\n",
              "      \n",
              "      <progress value='1334' max='1334' style='width:300px; height:20px; vertical-align: middle;'></progress>\n",
              "      [1334/1334 06:39, Epoch 2/2]\n",
              "    </div>\n",
              "    <table border=\"1\" class=\"dataframe\">\n",
              "  <thead>\n",
              " <tr style=\"text-align: left;\">\n",
              "      <th>Epoch</th>\n",
              "      <th>Training Loss</th>\n",
              "      <th>Validation Loss</th>\n",
              "      <th>Bleu</th>\n",
              "      <th>Gen Len</th>\n",
              "    </tr>\n",
              "  </thead>\n",
              "  <tbody>\n",
              "    <tr>\n",
              "      <td>1</td>\n",
              "      <td>3.955700</td>\n",
              "      <td>3.535253</td>\n",
              "      <td>1.751800</td>\n",
              "      <td>18.160000</td>\n",
              "    </tr>\n",
              "    <tr>\n",
              "      <td>2</td>\n",
              "      <td>3.249000</td>\n",
              "      <td>3.372021</td>\n",
              "      <td>2.647200</td>\n",
              "      <td>18.240000</td>\n",
              "    </tr>\n",
              "  </tbody>\n",
              "</table><p>"
            ]
          },
          "metadata": {}
        },
        {
          "output_type": "stream",
          "name": "stderr",
          "text": [
            "/usr/local/lib/python3.10/dist-packages/transformers/generation/utils.py:1260: UserWarning: Using the model-agnostic default `max_length` (=20) to control the generation length. We recommend setting `max_new_tokens` to control the maximum length of the generation.\n",
            "  warnings.warn(\n",
            "/usr/local/lib/python3.10/dist-packages/transformers/generation/utils.py:1260: UserWarning: Using the model-agnostic default `max_length` (=20) to control the generation length. We recommend setting `max_new_tokens` to control the maximum length of the generation.\n",
            "  warnings.warn(\n"
          ]
        },
        {
          "output_type": "execute_result",
          "data": {
            "text/plain": [
              "TrainOutput(global_step=1334, training_loss=3.4784665772582457, metrics={'train_runtime': 400.1466, 'train_samples_per_second': 13.325, 'train_steps_per_second': 3.334, 'total_flos': 331258820014080.0, 'train_loss': 3.4784665772582457, 'epoch': 2.0})"
            ]
          },
          "metadata": {},
          "execution_count": 36
        }
      ]
    },
    {
      "cell_type": "code",
      "source": [
        "trainer.save_model('./my_translator_vi-en-model')"
      ],
      "metadata": {
        "id": "uFh9VTrqV-dP"
      },
      "execution_count": null,
      "outputs": []
    },
    {
      "cell_type": "markdown",
      "source": [
        "# Dự đoán"
      ],
      "metadata": {
        "id": "LPTic2JeQSOT"
      }
    },
    {
      "cell_type": "markdown",
      "source": [
        "Great, now that you've finetuned a model, you can use it for inference!\n",
        "\n",
        "Come up with some text you'd like to translate to another language. For T5, you need to prefix your input depending on the task you're working on. For translation from English to French, you should prefix your input as shown below:"
      ],
      "metadata": {
        "id": "trqeLJErQjvq"
      }
    },
    {
      "cell_type": "code",
      "source": [
        "text = \"dịch đoạn sau sang Tiếng Anh: Tôi là sinh viên trường Đại học Công Nghệ, ĐHQGHN !\""
      ],
      "metadata": {
        "id": "OUfzS-S3P_Jl"
      },
      "execution_count": null,
      "outputs": []
    },
    {
      "cell_type": "markdown",
      "source": [
        "## 1. Sử dụng API Pipline của hugging-face\n",
        "\n",
        "The simplest way to try out your finetuned model for inference is to use it in a [pipeline()](https://huggingface.co/docs/transformers/main/en/main_classes/pipelines#transformers.pipeline). Instantiate a `pipeline` for translation with your model, and pass your text to it:\n",
        "\n",
        "Cách đơn giản nhất để thử nghiệm mô hình sau khi huấn luyện là sử dụng nó trong một `pipeline()`. Tạo một `pipeline` cho task `trasnlation` với tham số thứ hai là đường dẫn tới mô hình vừa được lưu. Sau đó, truyền trực tiếp văn bản để cho mô hình thực hiện nhiệm vụ dịch."
      ],
      "metadata": {
        "id": "diY4FQNzRDtR"
      }
    },
    {
      "cell_type": "code",
      "source": [
        "from transformers import pipeline\n",
        "\n",
        "translator = pipeline(\"translation\", model=\"/content/my_translator_vi-en-model\")\n",
        "translator(text)"
      ],
      "metadata": {
        "colab": {
          "base_uri": "https://localhost:8080/"
        },
        "id": "o8zBc08eQ0CF",
        "outputId": "e4d9f853-7a11-462f-c945-752349615239"
      },
      "execution_count": null,
      "outputs": [
        {
          "output_type": "stream",
          "name": "stderr",
          "text": [
            "Your input_length: 21 is bigger than 0.9 * max_length: 20. You might consider increasing your max_length manually, e.g. translator('...', max_length=400)\n"
          ]
        },
        {
          "output_type": "execute_result",
          "data": {
            "text/plain": [
              "[{'translation_text': 'I &apos;m going to school of Technology , ĐHQGHN .'}]"
            ]
          },
          "metadata": {},
          "execution_count": 49
        }
      ]
    },
    {
      "cell_type": "markdown",
      "source": [
        "## 2. Sử dụng API của mô hình"
      ],
      "metadata": {
        "id": "FcOutXlMRGVw"
      }
    },
    {
      "cell_type": "markdown",
      "source": [
        "Bước đầu tiên, ta cần tokenize đoạn văn bản đầu vào và trả về `input_ids`."
      ],
      "metadata": {
        "id": "TzKA5duKRRNV"
      }
    },
    {
      "cell_type": "code",
      "source": [
        "from transformers import AutoTokenizer\n",
        "\n",
        "tokenizer = AutoTokenizer.from_pretrained(\"/content/my_translator_vi-en-model\")\n",
        "inputs = tokenizer(text, return_tensors=\"pt\").input_ids"
      ],
      "metadata": {
        "id": "eoNutcgrRLTQ"
      },
      "execution_count": null,
      "outputs": []
    },
    {
      "cell_type": "markdown",
      "source": [
        "Sử dụng hàm [generate()](https://huggingface.co/docs/transformers/main/en/main_classes/text_generation#transformers.GenerationMixin.generate) để thực hiện việc infer và trả về đầu ra. Để biết thêm chi tiết về các chiến lược tạo văn bản khác nhau và các tham số để điều khiển quá trình tạo ra văn bản, bạn có thể kiểm tra tại [Text Generation API](https://huggingface.co/docs/transformers/main/en/tasks/../main_classes/text_generation)."
      ],
      "metadata": {
        "id": "NdD5uSsJRS3U"
      }
    },
    {
      "cell_type": "code",
      "source": [
        "from transformers import AutoModelForSeq2SeqLM\n",
        "\n",
        "model = AutoModelForSeq2SeqLM.from_pretrained(\"/content/my_translator_vi-en-model\")\n",
        "outputs = model.generate(inputs, max_new_tokens=40, do_sample=True, top_k=30, top_p=0.95)"
      ],
      "metadata": {
        "id": "wKbkfDM6RPMT"
      },
      "execution_count": null,
      "outputs": []
    },
    {
      "cell_type": "markdown",
      "source": [
        "Decode `input_ids` đầu ra để thấy được chuỗi đầu ra."
      ],
      "metadata": {
        "id": "17EtiDU1RX_d"
      }
    },
    {
      "cell_type": "code",
      "source": [
        "tokenizer.decode(outputs[0], skip_special_tokens=True)"
      ],
      "metadata": {
        "colab": {
          "base_uri": "https://localhost:8080/",
          "height": 35
        },
        "id": "AS2PzkxcRSmu",
        "outputId": "4c1b1f63-849e-4f69-be25-971b4119cf7a"
      },
      "execution_count": null,
      "outputs": [
        {
          "output_type": "execute_result",
          "data": {
            "text/plain": [
              "'I &apos;m not my student of Science and Technology!'"
            ],
            "application/vnd.google.colaboratory.intrinsic+json": {
              "type": "string"
            }
          },
          "metadata": {},
          "execution_count": 47
        }
      ]
    },
    {
      "cell_type": "markdown",
      "source": [
        "# Bài tập 1:  \n",
        "Sử dụng code trên, áp dụng với bộ dữ liệu [Opus Books](https://huggingface.co/datasets/opus_books) để huấn luyện mô hình dịch máy Tiếng Anh sang Tiếng Pháp và đánh giá hiệu quả trên tập test.\n",
        "\n",
        "# Bài tập 2:\n",
        "Đề xuất và implment phương pháp để tạo ra mô hình dịch máy 2 chiều (từ VN sang EN và ngược lại). Đánh giá hiệu quả dịch của mô hình với 2 chiều dịch đó."
      ],
      "metadata": {
        "id": "KQQKZyvhC9Z3"
      }
    }
  ]
}