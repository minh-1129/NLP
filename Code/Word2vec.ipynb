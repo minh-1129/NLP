{
  "nbformat": 4,
  "nbformat_minor": 0,
  "metadata": {
    "colab": {
      "provenance": [],
      "gpuType": "T4"
    },
    "kernelspec": {
      "name": "python3",
      "display_name": "Python 3"
    },
    "language_info": {
      "name": "python"
    },
    "accelerator": "GPU",
    "widgets": {
      "application/vnd.jupyter.widget-state+json": {
        "50dedb920f34485a83934a663dfd5235": {
          "model_module": "@jupyter-widgets/controls",
          "model_name": "HBoxModel",
          "model_module_version": "1.5.0",
          "state": {
            "_dom_classes": [],
            "_model_module": "@jupyter-widgets/controls",
            "_model_module_version": "1.5.0",
            "_model_name": "HBoxModel",
            "_view_count": null,
            "_view_module": "@jupyter-widgets/controls",
            "_view_module_version": "1.5.0",
            "_view_name": "HBoxView",
            "box_style": "",
            "children": [
              "IPY_MODEL_356614301c7640349f079bb5521333e4",
              "IPY_MODEL_7b42a277953b44f29d972f15abf4a19b",
              "IPY_MODEL_6a170fbb215441d3966fc3e7a7679f7d"
            ],
            "layout": "IPY_MODEL_051a7a1744864cda9f98800eadac043f"
          }
        },
        "356614301c7640349f079bb5521333e4": {
          "model_module": "@jupyter-widgets/controls",
          "model_name": "HTMLModel",
          "model_module_version": "1.5.0",
          "state": {
            "_dom_classes": [],
            "_model_module": "@jupyter-widgets/controls",
            "_model_module_version": "1.5.0",
            "_model_name": "HTMLModel",
            "_view_count": null,
            "_view_module": "@jupyter-widgets/controls",
            "_view_module_version": "1.5.0",
            "_view_name": "HTMLView",
            "description": "",
            "description_tooltip": null,
            "layout": "IPY_MODEL_d33e5c5ab927451cbbfe596d141fe150",
            "placeholder": "​",
            "style": "IPY_MODEL_469c556baf2c434981bd334171f135b8",
            "value": "Downloading (…)solve/main/vocab.txt: 100%"
          }
        },
        "7b42a277953b44f29d972f15abf4a19b": {
          "model_module": "@jupyter-widgets/controls",
          "model_name": "FloatProgressModel",
          "model_module_version": "1.5.0",
          "state": {
            "_dom_classes": [],
            "_model_module": "@jupyter-widgets/controls",
            "_model_module_version": "1.5.0",
            "_model_name": "FloatProgressModel",
            "_view_count": null,
            "_view_module": "@jupyter-widgets/controls",
            "_view_module_version": "1.5.0",
            "_view_name": "ProgressView",
            "bar_style": "success",
            "description": "",
            "description_tooltip": null,
            "layout": "IPY_MODEL_57695b359b244c0c8247b0fc3c6db71c",
            "max": 231508,
            "min": 0,
            "orientation": "horizontal",
            "style": "IPY_MODEL_74c4b7097bdd49d29af69ed7b32a6694",
            "value": 231508
          }
        },
        "6a170fbb215441d3966fc3e7a7679f7d": {
          "model_module": "@jupyter-widgets/controls",
          "model_name": "HTMLModel",
          "model_module_version": "1.5.0",
          "state": {
            "_dom_classes": [],
            "_model_module": "@jupyter-widgets/controls",
            "_model_module_version": "1.5.0",
            "_model_name": "HTMLModel",
            "_view_count": null,
            "_view_module": "@jupyter-widgets/controls",
            "_view_module_version": "1.5.0",
            "_view_name": "HTMLView",
            "description": "",
            "description_tooltip": null,
            "layout": "IPY_MODEL_e3d34c1cd098424ba4895241d3a2259e",
            "placeholder": "​",
            "style": "IPY_MODEL_77617c0a986d4f56960868cf1c05f35b",
            "value": " 232k/232k [00:00&lt;00:00, 1.96MB/s]"
          }
        },
        "051a7a1744864cda9f98800eadac043f": {
          "model_module": "@jupyter-widgets/base",
          "model_name": "LayoutModel",
          "model_module_version": "1.2.0",
          "state": {
            "_model_module": "@jupyter-widgets/base",
            "_model_module_version": "1.2.0",
            "_model_name": "LayoutModel",
            "_view_count": null,
            "_view_module": "@jupyter-widgets/base",
            "_view_module_version": "1.2.0",
            "_view_name": "LayoutView",
            "align_content": null,
            "align_items": null,
            "align_self": null,
            "border": null,
            "bottom": null,
            "display": null,
            "flex": null,
            "flex_flow": null,
            "grid_area": null,
            "grid_auto_columns": null,
            "grid_auto_flow": null,
            "grid_auto_rows": null,
            "grid_column": null,
            "grid_gap": null,
            "grid_row": null,
            "grid_template_areas": null,
            "grid_template_columns": null,
            "grid_template_rows": null,
            "height": null,
            "justify_content": null,
            "justify_items": null,
            "left": null,
            "margin": null,
            "max_height": null,
            "max_width": null,
            "min_height": null,
            "min_width": null,
            "object_fit": null,
            "object_position": null,
            "order": null,
            "overflow": null,
            "overflow_x": null,
            "overflow_y": null,
            "padding": null,
            "right": null,
            "top": null,
            "visibility": null,
            "width": null
          }
        },
        "d33e5c5ab927451cbbfe596d141fe150": {
          "model_module": "@jupyter-widgets/base",
          "model_name": "LayoutModel",
          "model_module_version": "1.2.0",
          "state": {
            "_model_module": "@jupyter-widgets/base",
            "_model_module_version": "1.2.0",
            "_model_name": "LayoutModel",
            "_view_count": null,
            "_view_module": "@jupyter-widgets/base",
            "_view_module_version": "1.2.0",
            "_view_name": "LayoutView",
            "align_content": null,
            "align_items": null,
            "align_self": null,
            "border": null,
            "bottom": null,
            "display": null,
            "flex": null,
            "flex_flow": null,
            "grid_area": null,
            "grid_auto_columns": null,
            "grid_auto_flow": null,
            "grid_auto_rows": null,
            "grid_column": null,
            "grid_gap": null,
            "grid_row": null,
            "grid_template_areas": null,
            "grid_template_columns": null,
            "grid_template_rows": null,
            "height": null,
            "justify_content": null,
            "justify_items": null,
            "left": null,
            "margin": null,
            "max_height": null,
            "max_width": null,
            "min_height": null,
            "min_width": null,
            "object_fit": null,
            "object_position": null,
            "order": null,
            "overflow": null,
            "overflow_x": null,
            "overflow_y": null,
            "padding": null,
            "right": null,
            "top": null,
            "visibility": null,
            "width": null
          }
        },
        "469c556baf2c434981bd334171f135b8": {
          "model_module": "@jupyter-widgets/controls",
          "model_name": "DescriptionStyleModel",
          "model_module_version": "1.5.0",
          "state": {
            "_model_module": "@jupyter-widgets/controls",
            "_model_module_version": "1.5.0",
            "_model_name": "DescriptionStyleModel",
            "_view_count": null,
            "_view_module": "@jupyter-widgets/base",
            "_view_module_version": "1.2.0",
            "_view_name": "StyleView",
            "description_width": ""
          }
        },
        "57695b359b244c0c8247b0fc3c6db71c": {
          "model_module": "@jupyter-widgets/base",
          "model_name": "LayoutModel",
          "model_module_version": "1.2.0",
          "state": {
            "_model_module": "@jupyter-widgets/base",
            "_model_module_version": "1.2.0",
            "_model_name": "LayoutModel",
            "_view_count": null,
            "_view_module": "@jupyter-widgets/base",
            "_view_module_version": "1.2.0",
            "_view_name": "LayoutView",
            "align_content": null,
            "align_items": null,
            "align_self": null,
            "border": null,
            "bottom": null,
            "display": null,
            "flex": null,
            "flex_flow": null,
            "grid_area": null,
            "grid_auto_columns": null,
            "grid_auto_flow": null,
            "grid_auto_rows": null,
            "grid_column": null,
            "grid_gap": null,
            "grid_row": null,
            "grid_template_areas": null,
            "grid_template_columns": null,
            "grid_template_rows": null,
            "height": null,
            "justify_content": null,
            "justify_items": null,
            "left": null,
            "margin": null,
            "max_height": null,
            "max_width": null,
            "min_height": null,
            "min_width": null,
            "object_fit": null,
            "object_position": null,
            "order": null,
            "overflow": null,
            "overflow_x": null,
            "overflow_y": null,
            "padding": null,
            "right": null,
            "top": null,
            "visibility": null,
            "width": null
          }
        },
        "74c4b7097bdd49d29af69ed7b32a6694": {
          "model_module": "@jupyter-widgets/controls",
          "model_name": "ProgressStyleModel",
          "model_module_version": "1.5.0",
          "state": {
            "_model_module": "@jupyter-widgets/controls",
            "_model_module_version": "1.5.0",
            "_model_name": "ProgressStyleModel",
            "_view_count": null,
            "_view_module": "@jupyter-widgets/base",
            "_view_module_version": "1.2.0",
            "_view_name": "StyleView",
            "bar_color": null,
            "description_width": ""
          }
        },
        "e3d34c1cd098424ba4895241d3a2259e": {
          "model_module": "@jupyter-widgets/base",
          "model_name": "LayoutModel",
          "model_module_version": "1.2.0",
          "state": {
            "_model_module": "@jupyter-widgets/base",
            "_model_module_version": "1.2.0",
            "_model_name": "LayoutModel",
            "_view_count": null,
            "_view_module": "@jupyter-widgets/base",
            "_view_module_version": "1.2.0",
            "_view_name": "LayoutView",
            "align_content": null,
            "align_items": null,
            "align_self": null,
            "border": null,
            "bottom": null,
            "display": null,
            "flex": null,
            "flex_flow": null,
            "grid_area": null,
            "grid_auto_columns": null,
            "grid_auto_flow": null,
            "grid_auto_rows": null,
            "grid_column": null,
            "grid_gap": null,
            "grid_row": null,
            "grid_template_areas": null,
            "grid_template_columns": null,
            "grid_template_rows": null,
            "height": null,
            "justify_content": null,
            "justify_items": null,
            "left": null,
            "margin": null,
            "max_height": null,
            "max_width": null,
            "min_height": null,
            "min_width": null,
            "object_fit": null,
            "object_position": null,
            "order": null,
            "overflow": null,
            "overflow_x": null,
            "overflow_y": null,
            "padding": null,
            "right": null,
            "top": null,
            "visibility": null,
            "width": null
          }
        },
        "77617c0a986d4f56960868cf1c05f35b": {
          "model_module": "@jupyter-widgets/controls",
          "model_name": "DescriptionStyleModel",
          "model_module_version": "1.5.0",
          "state": {
            "_model_module": "@jupyter-widgets/controls",
            "_model_module_version": "1.5.0",
            "_model_name": "DescriptionStyleModel",
            "_view_count": null,
            "_view_module": "@jupyter-widgets/base",
            "_view_module_version": "1.2.0",
            "_view_name": "StyleView",
            "description_width": ""
          }
        },
        "1205644c3d8b487f948d0a77611b1e85": {
          "model_module": "@jupyter-widgets/controls",
          "model_name": "HBoxModel",
          "model_module_version": "1.5.0",
          "state": {
            "_dom_classes": [],
            "_model_module": "@jupyter-widgets/controls",
            "_model_module_version": "1.5.0",
            "_model_name": "HBoxModel",
            "_view_count": null,
            "_view_module": "@jupyter-widgets/controls",
            "_view_module_version": "1.5.0",
            "_view_name": "HBoxView",
            "box_style": "",
            "children": [
              "IPY_MODEL_6d8696bb7d5a4dce8fc3b23f3dd8fcdd",
              "IPY_MODEL_bdad553b9a8048909ab019d862e6f3a6",
              "IPY_MODEL_bb27c0fb47bd40fca2deb74208af2bd0"
            ],
            "layout": "IPY_MODEL_7e6abd618e3048d3a73a7dfede2f0864"
          }
        },
        "6d8696bb7d5a4dce8fc3b23f3dd8fcdd": {
          "model_module": "@jupyter-widgets/controls",
          "model_name": "HTMLModel",
          "model_module_version": "1.5.0",
          "state": {
            "_dom_classes": [],
            "_model_module": "@jupyter-widgets/controls",
            "_model_module_version": "1.5.0",
            "_model_name": "HTMLModel",
            "_view_count": null,
            "_view_module": "@jupyter-widgets/controls",
            "_view_module_version": "1.5.0",
            "_view_name": "HTMLView",
            "description": "",
            "description_tooltip": null,
            "layout": "IPY_MODEL_cdb570d1e925407698749ce8d018376a",
            "placeholder": "​",
            "style": "IPY_MODEL_c784340aeef84287913f6a1d598f077d",
            "value": "Downloading (…)okenizer_config.json: 100%"
          }
        },
        "bdad553b9a8048909ab019d862e6f3a6": {
          "model_module": "@jupyter-widgets/controls",
          "model_name": "FloatProgressModel",
          "model_module_version": "1.5.0",
          "state": {
            "_dom_classes": [],
            "_model_module": "@jupyter-widgets/controls",
            "_model_module_version": "1.5.0",
            "_model_name": "FloatProgressModel",
            "_view_count": null,
            "_view_module": "@jupyter-widgets/controls",
            "_view_module_version": "1.5.0",
            "_view_name": "ProgressView",
            "bar_style": "success",
            "description": "",
            "description_tooltip": null,
            "layout": "IPY_MODEL_740b9e16a1824d0f8d7bd7d4a0a1272b",
            "max": 28,
            "min": 0,
            "orientation": "horizontal",
            "style": "IPY_MODEL_3b713c70287d4fcdaf0d31a0f4aa37bb",
            "value": 28
          }
        },
        "bb27c0fb47bd40fca2deb74208af2bd0": {
          "model_module": "@jupyter-widgets/controls",
          "model_name": "HTMLModel",
          "model_module_version": "1.5.0",
          "state": {
            "_dom_classes": [],
            "_model_module": "@jupyter-widgets/controls",
            "_model_module_version": "1.5.0",
            "_model_name": "HTMLModel",
            "_view_count": null,
            "_view_module": "@jupyter-widgets/controls",
            "_view_module_version": "1.5.0",
            "_view_name": "HTMLView",
            "description": "",
            "description_tooltip": null,
            "layout": "IPY_MODEL_67e45da4097248e990de3b0b812ac590",
            "placeholder": "​",
            "style": "IPY_MODEL_2adc6227f11f4be49be4f9fded1a148d",
            "value": " 28.0/28.0 [00:00&lt;00:00, 541B/s]"
          }
        },
        "7e6abd618e3048d3a73a7dfede2f0864": {
          "model_module": "@jupyter-widgets/base",
          "model_name": "LayoutModel",
          "model_module_version": "1.2.0",
          "state": {
            "_model_module": "@jupyter-widgets/base",
            "_model_module_version": "1.2.0",
            "_model_name": "LayoutModel",
            "_view_count": null,
            "_view_module": "@jupyter-widgets/base",
            "_view_module_version": "1.2.0",
            "_view_name": "LayoutView",
            "align_content": null,
            "align_items": null,
            "align_self": null,
            "border": null,
            "bottom": null,
            "display": null,
            "flex": null,
            "flex_flow": null,
            "grid_area": null,
            "grid_auto_columns": null,
            "grid_auto_flow": null,
            "grid_auto_rows": null,
            "grid_column": null,
            "grid_gap": null,
            "grid_row": null,
            "grid_template_areas": null,
            "grid_template_columns": null,
            "grid_template_rows": null,
            "height": null,
            "justify_content": null,
            "justify_items": null,
            "left": null,
            "margin": null,
            "max_height": null,
            "max_width": null,
            "min_height": null,
            "min_width": null,
            "object_fit": null,
            "object_position": null,
            "order": null,
            "overflow": null,
            "overflow_x": null,
            "overflow_y": null,
            "padding": null,
            "right": null,
            "top": null,
            "visibility": null,
            "width": null
          }
        },
        "cdb570d1e925407698749ce8d018376a": {
          "model_module": "@jupyter-widgets/base",
          "model_name": "LayoutModel",
          "model_module_version": "1.2.0",
          "state": {
            "_model_module": "@jupyter-widgets/base",
            "_model_module_version": "1.2.0",
            "_model_name": "LayoutModel",
            "_view_count": null,
            "_view_module": "@jupyter-widgets/base",
            "_view_module_version": "1.2.0",
            "_view_name": "LayoutView",
            "align_content": null,
            "align_items": null,
            "align_self": null,
            "border": null,
            "bottom": null,
            "display": null,
            "flex": null,
            "flex_flow": null,
            "grid_area": null,
            "grid_auto_columns": null,
            "grid_auto_flow": null,
            "grid_auto_rows": null,
            "grid_column": null,
            "grid_gap": null,
            "grid_row": null,
            "grid_template_areas": null,
            "grid_template_columns": null,
            "grid_template_rows": null,
            "height": null,
            "justify_content": null,
            "justify_items": null,
            "left": null,
            "margin": null,
            "max_height": null,
            "max_width": null,
            "min_height": null,
            "min_width": null,
            "object_fit": null,
            "object_position": null,
            "order": null,
            "overflow": null,
            "overflow_x": null,
            "overflow_y": null,
            "padding": null,
            "right": null,
            "top": null,
            "visibility": null,
            "width": null
          }
        },
        "c784340aeef84287913f6a1d598f077d": {
          "model_module": "@jupyter-widgets/controls",
          "model_name": "DescriptionStyleModel",
          "model_module_version": "1.5.0",
          "state": {
            "_model_module": "@jupyter-widgets/controls",
            "_model_module_version": "1.5.0",
            "_model_name": "DescriptionStyleModel",
            "_view_count": null,
            "_view_module": "@jupyter-widgets/base",
            "_view_module_version": "1.2.0",
            "_view_name": "StyleView",
            "description_width": ""
          }
        },
        "740b9e16a1824d0f8d7bd7d4a0a1272b": {
          "model_module": "@jupyter-widgets/base",
          "model_name": "LayoutModel",
          "model_module_version": "1.2.0",
          "state": {
            "_model_module": "@jupyter-widgets/base",
            "_model_module_version": "1.2.0",
            "_model_name": "LayoutModel",
            "_view_count": null,
            "_view_module": "@jupyter-widgets/base",
            "_view_module_version": "1.2.0",
            "_view_name": "LayoutView",
            "align_content": null,
            "align_items": null,
            "align_self": null,
            "border": null,
            "bottom": null,
            "display": null,
            "flex": null,
            "flex_flow": null,
            "grid_area": null,
            "grid_auto_columns": null,
            "grid_auto_flow": null,
            "grid_auto_rows": null,
            "grid_column": null,
            "grid_gap": null,
            "grid_row": null,
            "grid_template_areas": null,
            "grid_template_columns": null,
            "grid_template_rows": null,
            "height": null,
            "justify_content": null,
            "justify_items": null,
            "left": null,
            "margin": null,
            "max_height": null,
            "max_width": null,
            "min_height": null,
            "min_width": null,
            "object_fit": null,
            "object_position": null,
            "order": null,
            "overflow": null,
            "overflow_x": null,
            "overflow_y": null,
            "padding": null,
            "right": null,
            "top": null,
            "visibility": null,
            "width": null
          }
        },
        "3b713c70287d4fcdaf0d31a0f4aa37bb": {
          "model_module": "@jupyter-widgets/controls",
          "model_name": "ProgressStyleModel",
          "model_module_version": "1.5.0",
          "state": {
            "_model_module": "@jupyter-widgets/controls",
            "_model_module_version": "1.5.0",
            "_model_name": "ProgressStyleModel",
            "_view_count": null,
            "_view_module": "@jupyter-widgets/base",
            "_view_module_version": "1.2.0",
            "_view_name": "StyleView",
            "bar_color": null,
            "description_width": ""
          }
        },
        "67e45da4097248e990de3b0b812ac590": {
          "model_module": "@jupyter-widgets/base",
          "model_name": "LayoutModel",
          "model_module_version": "1.2.0",
          "state": {
            "_model_module": "@jupyter-widgets/base",
            "_model_module_version": "1.2.0",
            "_model_name": "LayoutModel",
            "_view_count": null,
            "_view_module": "@jupyter-widgets/base",
            "_view_module_version": "1.2.0",
            "_view_name": "LayoutView",
            "align_content": null,
            "align_items": null,
            "align_self": null,
            "border": null,
            "bottom": null,
            "display": null,
            "flex": null,
            "flex_flow": null,
            "grid_area": null,
            "grid_auto_columns": null,
            "grid_auto_flow": null,
            "grid_auto_rows": null,
            "grid_column": null,
            "grid_gap": null,
            "grid_row": null,
            "grid_template_areas": null,
            "grid_template_columns": null,
            "grid_template_rows": null,
            "height": null,
            "justify_content": null,
            "justify_items": null,
            "left": null,
            "margin": null,
            "max_height": null,
            "max_width": null,
            "min_height": null,
            "min_width": null,
            "object_fit": null,
            "object_position": null,
            "order": null,
            "overflow": null,
            "overflow_x": null,
            "overflow_y": null,
            "padding": null,
            "right": null,
            "top": null,
            "visibility": null,
            "width": null
          }
        },
        "2adc6227f11f4be49be4f9fded1a148d": {
          "model_module": "@jupyter-widgets/controls",
          "model_name": "DescriptionStyleModel",
          "model_module_version": "1.5.0",
          "state": {
            "_model_module": "@jupyter-widgets/controls",
            "_model_module_version": "1.5.0",
            "_model_name": "DescriptionStyleModel",
            "_view_count": null,
            "_view_module": "@jupyter-widgets/base",
            "_view_module_version": "1.2.0",
            "_view_name": "StyleView",
            "description_width": ""
          }
        },
        "78e0a0f5fd68494f90bf9bbcfc014a64": {
          "model_module": "@jupyter-widgets/controls",
          "model_name": "HBoxModel",
          "model_module_version": "1.5.0",
          "state": {
            "_dom_classes": [],
            "_model_module": "@jupyter-widgets/controls",
            "_model_module_version": "1.5.0",
            "_model_name": "HBoxModel",
            "_view_count": null,
            "_view_module": "@jupyter-widgets/controls",
            "_view_module_version": "1.5.0",
            "_view_name": "HBoxView",
            "box_style": "",
            "children": [
              "IPY_MODEL_325954e657ef427783846aaa4f3bcb73",
              "IPY_MODEL_385d09b0a48f41099c869f89988857a4",
              "IPY_MODEL_397e6c4e12e14433b91f1bee1021793f"
            ],
            "layout": "IPY_MODEL_da7de6fc7971473f974372829537a105"
          }
        },
        "325954e657ef427783846aaa4f3bcb73": {
          "model_module": "@jupyter-widgets/controls",
          "model_name": "HTMLModel",
          "model_module_version": "1.5.0",
          "state": {
            "_dom_classes": [],
            "_model_module": "@jupyter-widgets/controls",
            "_model_module_version": "1.5.0",
            "_model_name": "HTMLModel",
            "_view_count": null,
            "_view_module": "@jupyter-widgets/controls",
            "_view_module_version": "1.5.0",
            "_view_name": "HTMLView",
            "description": "",
            "description_tooltip": null,
            "layout": "IPY_MODEL_67f8e1370c5d489b9411357fad900a3c",
            "placeholder": "​",
            "style": "IPY_MODEL_b37edda1bbd14f52ba817372354fdd9d",
            "value": "Downloading (…)lve/main/config.json: 100%"
          }
        },
        "385d09b0a48f41099c869f89988857a4": {
          "model_module": "@jupyter-widgets/controls",
          "model_name": "FloatProgressModel",
          "model_module_version": "1.5.0",
          "state": {
            "_dom_classes": [],
            "_model_module": "@jupyter-widgets/controls",
            "_model_module_version": "1.5.0",
            "_model_name": "FloatProgressModel",
            "_view_count": null,
            "_view_module": "@jupyter-widgets/controls",
            "_view_module_version": "1.5.0",
            "_view_name": "ProgressView",
            "bar_style": "success",
            "description": "",
            "description_tooltip": null,
            "layout": "IPY_MODEL_10e5f3c2788a48e08bd95f0f022e462b",
            "max": 570,
            "min": 0,
            "orientation": "horizontal",
            "style": "IPY_MODEL_d4b3edce0eef4428b36be6e3aa1b21e6",
            "value": 570
          }
        },
        "397e6c4e12e14433b91f1bee1021793f": {
          "model_module": "@jupyter-widgets/controls",
          "model_name": "HTMLModel",
          "model_module_version": "1.5.0",
          "state": {
            "_dom_classes": [],
            "_model_module": "@jupyter-widgets/controls",
            "_model_module_version": "1.5.0",
            "_model_name": "HTMLModel",
            "_view_count": null,
            "_view_module": "@jupyter-widgets/controls",
            "_view_module_version": "1.5.0",
            "_view_name": "HTMLView",
            "description": "",
            "description_tooltip": null,
            "layout": "IPY_MODEL_07244b92354c4004ad664c8d433a70ff",
            "placeholder": "​",
            "style": "IPY_MODEL_44314a1b1095467989f198d69080e907",
            "value": " 570/570 [00:00&lt;00:00, 6.32kB/s]"
          }
        },
        "da7de6fc7971473f974372829537a105": {
          "model_module": "@jupyter-widgets/base",
          "model_name": "LayoutModel",
          "model_module_version": "1.2.0",
          "state": {
            "_model_module": "@jupyter-widgets/base",
            "_model_module_version": "1.2.0",
            "_model_name": "LayoutModel",
            "_view_count": null,
            "_view_module": "@jupyter-widgets/base",
            "_view_module_version": "1.2.0",
            "_view_name": "LayoutView",
            "align_content": null,
            "align_items": null,
            "align_self": null,
            "border": null,
            "bottom": null,
            "display": null,
            "flex": null,
            "flex_flow": null,
            "grid_area": null,
            "grid_auto_columns": null,
            "grid_auto_flow": null,
            "grid_auto_rows": null,
            "grid_column": null,
            "grid_gap": null,
            "grid_row": null,
            "grid_template_areas": null,
            "grid_template_columns": null,
            "grid_template_rows": null,
            "height": null,
            "justify_content": null,
            "justify_items": null,
            "left": null,
            "margin": null,
            "max_height": null,
            "max_width": null,
            "min_height": null,
            "min_width": null,
            "object_fit": null,
            "object_position": null,
            "order": null,
            "overflow": null,
            "overflow_x": null,
            "overflow_y": null,
            "padding": null,
            "right": null,
            "top": null,
            "visibility": null,
            "width": null
          }
        },
        "67f8e1370c5d489b9411357fad900a3c": {
          "model_module": "@jupyter-widgets/base",
          "model_name": "LayoutModel",
          "model_module_version": "1.2.0",
          "state": {
            "_model_module": "@jupyter-widgets/base",
            "_model_module_version": "1.2.0",
            "_model_name": "LayoutModel",
            "_view_count": null,
            "_view_module": "@jupyter-widgets/base",
            "_view_module_version": "1.2.0",
            "_view_name": "LayoutView",
            "align_content": null,
            "align_items": null,
            "align_self": null,
            "border": null,
            "bottom": null,
            "display": null,
            "flex": null,
            "flex_flow": null,
            "grid_area": null,
            "grid_auto_columns": null,
            "grid_auto_flow": null,
            "grid_auto_rows": null,
            "grid_column": null,
            "grid_gap": null,
            "grid_row": null,
            "grid_template_areas": null,
            "grid_template_columns": null,
            "grid_template_rows": null,
            "height": null,
            "justify_content": null,
            "justify_items": null,
            "left": null,
            "margin": null,
            "max_height": null,
            "max_width": null,
            "min_height": null,
            "min_width": null,
            "object_fit": null,
            "object_position": null,
            "order": null,
            "overflow": null,
            "overflow_x": null,
            "overflow_y": null,
            "padding": null,
            "right": null,
            "top": null,
            "visibility": null,
            "width": null
          }
        },
        "b37edda1bbd14f52ba817372354fdd9d": {
          "model_module": "@jupyter-widgets/controls",
          "model_name": "DescriptionStyleModel",
          "model_module_version": "1.5.0",
          "state": {
            "_model_module": "@jupyter-widgets/controls",
            "_model_module_version": "1.5.0",
            "_model_name": "DescriptionStyleModel",
            "_view_count": null,
            "_view_module": "@jupyter-widgets/base",
            "_view_module_version": "1.2.0",
            "_view_name": "StyleView",
            "description_width": ""
          }
        },
        "10e5f3c2788a48e08bd95f0f022e462b": {
          "model_module": "@jupyter-widgets/base",
          "model_name": "LayoutModel",
          "model_module_version": "1.2.0",
          "state": {
            "_model_module": "@jupyter-widgets/base",
            "_model_module_version": "1.2.0",
            "_model_name": "LayoutModel",
            "_view_count": null,
            "_view_module": "@jupyter-widgets/base",
            "_view_module_version": "1.2.0",
            "_view_name": "LayoutView",
            "align_content": null,
            "align_items": null,
            "align_self": null,
            "border": null,
            "bottom": null,
            "display": null,
            "flex": null,
            "flex_flow": null,
            "grid_area": null,
            "grid_auto_columns": null,
            "grid_auto_flow": null,
            "grid_auto_rows": null,
            "grid_column": null,
            "grid_gap": null,
            "grid_row": null,
            "grid_template_areas": null,
            "grid_template_columns": null,
            "grid_template_rows": null,
            "height": null,
            "justify_content": null,
            "justify_items": null,
            "left": null,
            "margin": null,
            "max_height": null,
            "max_width": null,
            "min_height": null,
            "min_width": null,
            "object_fit": null,
            "object_position": null,
            "order": null,
            "overflow": null,
            "overflow_x": null,
            "overflow_y": null,
            "padding": null,
            "right": null,
            "top": null,
            "visibility": null,
            "width": null
          }
        },
        "d4b3edce0eef4428b36be6e3aa1b21e6": {
          "model_module": "@jupyter-widgets/controls",
          "model_name": "ProgressStyleModel",
          "model_module_version": "1.5.0",
          "state": {
            "_model_module": "@jupyter-widgets/controls",
            "_model_module_version": "1.5.0",
            "_model_name": "ProgressStyleModel",
            "_view_count": null,
            "_view_module": "@jupyter-widgets/base",
            "_view_module_version": "1.2.0",
            "_view_name": "StyleView",
            "bar_color": null,
            "description_width": ""
          }
        },
        "07244b92354c4004ad664c8d433a70ff": {
          "model_module": "@jupyter-widgets/base",
          "model_name": "LayoutModel",
          "model_module_version": "1.2.0",
          "state": {
            "_model_module": "@jupyter-widgets/base",
            "_model_module_version": "1.2.0",
            "_model_name": "LayoutModel",
            "_view_count": null,
            "_view_module": "@jupyter-widgets/base",
            "_view_module_version": "1.2.0",
            "_view_name": "LayoutView",
            "align_content": null,
            "align_items": null,
            "align_self": null,
            "border": null,
            "bottom": null,
            "display": null,
            "flex": null,
            "flex_flow": null,
            "grid_area": null,
            "grid_auto_columns": null,
            "grid_auto_flow": null,
            "grid_auto_rows": null,
            "grid_column": null,
            "grid_gap": null,
            "grid_row": null,
            "grid_template_areas": null,
            "grid_template_columns": null,
            "grid_template_rows": null,
            "height": null,
            "justify_content": null,
            "justify_items": null,
            "left": null,
            "margin": null,
            "max_height": null,
            "max_width": null,
            "min_height": null,
            "min_width": null,
            "object_fit": null,
            "object_position": null,
            "order": null,
            "overflow": null,
            "overflow_x": null,
            "overflow_y": null,
            "padding": null,
            "right": null,
            "top": null,
            "visibility": null,
            "width": null
          }
        },
        "44314a1b1095467989f198d69080e907": {
          "model_module": "@jupyter-widgets/controls",
          "model_name": "DescriptionStyleModel",
          "model_module_version": "1.5.0",
          "state": {
            "_model_module": "@jupyter-widgets/controls",
            "_model_module_version": "1.5.0",
            "_model_name": "DescriptionStyleModel",
            "_view_count": null,
            "_view_module": "@jupyter-widgets/base",
            "_view_module_version": "1.2.0",
            "_view_name": "StyleView",
            "description_width": ""
          }
        },
        "e617f746723043f0b46ee4b8fcdd6b9d": {
          "model_module": "@jupyter-widgets/controls",
          "model_name": "HBoxModel",
          "model_module_version": "1.5.0",
          "state": {
            "_dom_classes": [],
            "_model_module": "@jupyter-widgets/controls",
            "_model_module_version": "1.5.0",
            "_model_name": "HBoxModel",
            "_view_count": null,
            "_view_module": "@jupyter-widgets/controls",
            "_view_module_version": "1.5.0",
            "_view_name": "HBoxView",
            "box_style": "",
            "children": [
              "IPY_MODEL_9794006780d744ccb761980dc385060b",
              "IPY_MODEL_f89bab9ad0c4476ea309d051d4689f43",
              "IPY_MODEL_32b5ecb970834208ba1e16770018f377"
            ],
            "layout": "IPY_MODEL_42e3f65e5ad941158655ada192eb390e"
          }
        },
        "9794006780d744ccb761980dc385060b": {
          "model_module": "@jupyter-widgets/controls",
          "model_name": "HTMLModel",
          "model_module_version": "1.5.0",
          "state": {
            "_dom_classes": [],
            "_model_module": "@jupyter-widgets/controls",
            "_model_module_version": "1.5.0",
            "_model_name": "HTMLModel",
            "_view_count": null,
            "_view_module": "@jupyter-widgets/controls",
            "_view_module_version": "1.5.0",
            "_view_name": "HTMLView",
            "description": "",
            "description_tooltip": null,
            "layout": "IPY_MODEL_2b9141b040874545af8cb742bb438b7d",
            "placeholder": "​",
            "style": "IPY_MODEL_61a8c7d57dee4656bbac0b0458b2af5d",
            "value": "Downloading model.safetensors: 100%"
          }
        },
        "f89bab9ad0c4476ea309d051d4689f43": {
          "model_module": "@jupyter-widgets/controls",
          "model_name": "FloatProgressModel",
          "model_module_version": "1.5.0",
          "state": {
            "_dom_classes": [],
            "_model_module": "@jupyter-widgets/controls",
            "_model_module_version": "1.5.0",
            "_model_name": "FloatProgressModel",
            "_view_count": null,
            "_view_module": "@jupyter-widgets/controls",
            "_view_module_version": "1.5.0",
            "_view_name": "ProgressView",
            "bar_style": "success",
            "description": "",
            "description_tooltip": null,
            "layout": "IPY_MODEL_ffc07bcc474047b8b76868baea166bba",
            "max": 440449768,
            "min": 0,
            "orientation": "horizontal",
            "style": "IPY_MODEL_98fce2b32a5c441b9dce03fdb5308df8",
            "value": 440449768
          }
        },
        "32b5ecb970834208ba1e16770018f377": {
          "model_module": "@jupyter-widgets/controls",
          "model_name": "HTMLModel",
          "model_module_version": "1.5.0",
          "state": {
            "_dom_classes": [],
            "_model_module": "@jupyter-widgets/controls",
            "_model_module_version": "1.5.0",
            "_model_name": "HTMLModel",
            "_view_count": null,
            "_view_module": "@jupyter-widgets/controls",
            "_view_module_version": "1.5.0",
            "_view_name": "HTMLView",
            "description": "",
            "description_tooltip": null,
            "layout": "IPY_MODEL_6bc50e09030b43b1b11c479586982506",
            "placeholder": "​",
            "style": "IPY_MODEL_9a4c80d507b94796a96d5f54264b1096",
            "value": " 440M/440M [00:04&lt;00:00, 96.5MB/s]"
          }
        },
        "42e3f65e5ad941158655ada192eb390e": {
          "model_module": "@jupyter-widgets/base",
          "model_name": "LayoutModel",
          "model_module_version": "1.2.0",
          "state": {
            "_model_module": "@jupyter-widgets/base",
            "_model_module_version": "1.2.0",
            "_model_name": "LayoutModel",
            "_view_count": null,
            "_view_module": "@jupyter-widgets/base",
            "_view_module_version": "1.2.0",
            "_view_name": "LayoutView",
            "align_content": null,
            "align_items": null,
            "align_self": null,
            "border": null,
            "bottom": null,
            "display": null,
            "flex": null,
            "flex_flow": null,
            "grid_area": null,
            "grid_auto_columns": null,
            "grid_auto_flow": null,
            "grid_auto_rows": null,
            "grid_column": null,
            "grid_gap": null,
            "grid_row": null,
            "grid_template_areas": null,
            "grid_template_columns": null,
            "grid_template_rows": null,
            "height": null,
            "justify_content": null,
            "justify_items": null,
            "left": null,
            "margin": null,
            "max_height": null,
            "max_width": null,
            "min_height": null,
            "min_width": null,
            "object_fit": null,
            "object_position": null,
            "order": null,
            "overflow": null,
            "overflow_x": null,
            "overflow_y": null,
            "padding": null,
            "right": null,
            "top": null,
            "visibility": null,
            "width": null
          }
        },
        "2b9141b040874545af8cb742bb438b7d": {
          "model_module": "@jupyter-widgets/base",
          "model_name": "LayoutModel",
          "model_module_version": "1.2.0",
          "state": {
            "_model_module": "@jupyter-widgets/base",
            "_model_module_version": "1.2.0",
            "_model_name": "LayoutModel",
            "_view_count": null,
            "_view_module": "@jupyter-widgets/base",
            "_view_module_version": "1.2.0",
            "_view_name": "LayoutView",
            "align_content": null,
            "align_items": null,
            "align_self": null,
            "border": null,
            "bottom": null,
            "display": null,
            "flex": null,
            "flex_flow": null,
            "grid_area": null,
            "grid_auto_columns": null,
            "grid_auto_flow": null,
            "grid_auto_rows": null,
            "grid_column": null,
            "grid_gap": null,
            "grid_row": null,
            "grid_template_areas": null,
            "grid_template_columns": null,
            "grid_template_rows": null,
            "height": null,
            "justify_content": null,
            "justify_items": null,
            "left": null,
            "margin": null,
            "max_height": null,
            "max_width": null,
            "min_height": null,
            "min_width": null,
            "object_fit": null,
            "object_position": null,
            "order": null,
            "overflow": null,
            "overflow_x": null,
            "overflow_y": null,
            "padding": null,
            "right": null,
            "top": null,
            "visibility": null,
            "width": null
          }
        },
        "61a8c7d57dee4656bbac0b0458b2af5d": {
          "model_module": "@jupyter-widgets/controls",
          "model_name": "DescriptionStyleModel",
          "model_module_version": "1.5.0",
          "state": {
            "_model_module": "@jupyter-widgets/controls",
            "_model_module_version": "1.5.0",
            "_model_name": "DescriptionStyleModel",
            "_view_count": null,
            "_view_module": "@jupyter-widgets/base",
            "_view_module_version": "1.2.0",
            "_view_name": "StyleView",
            "description_width": ""
          }
        },
        "ffc07bcc474047b8b76868baea166bba": {
          "model_module": "@jupyter-widgets/base",
          "model_name": "LayoutModel",
          "model_module_version": "1.2.0",
          "state": {
            "_model_module": "@jupyter-widgets/base",
            "_model_module_version": "1.2.0",
            "_model_name": "LayoutModel",
            "_view_count": null,
            "_view_module": "@jupyter-widgets/base",
            "_view_module_version": "1.2.0",
            "_view_name": "LayoutView",
            "align_content": null,
            "align_items": null,
            "align_self": null,
            "border": null,
            "bottom": null,
            "display": null,
            "flex": null,
            "flex_flow": null,
            "grid_area": null,
            "grid_auto_columns": null,
            "grid_auto_flow": null,
            "grid_auto_rows": null,
            "grid_column": null,
            "grid_gap": null,
            "grid_row": null,
            "grid_template_areas": null,
            "grid_template_columns": null,
            "grid_template_rows": null,
            "height": null,
            "justify_content": null,
            "justify_items": null,
            "left": null,
            "margin": null,
            "max_height": null,
            "max_width": null,
            "min_height": null,
            "min_width": null,
            "object_fit": null,
            "object_position": null,
            "order": null,
            "overflow": null,
            "overflow_x": null,
            "overflow_y": null,
            "padding": null,
            "right": null,
            "top": null,
            "visibility": null,
            "width": null
          }
        },
        "98fce2b32a5c441b9dce03fdb5308df8": {
          "model_module": "@jupyter-widgets/controls",
          "model_name": "ProgressStyleModel",
          "model_module_version": "1.5.0",
          "state": {
            "_model_module": "@jupyter-widgets/controls",
            "_model_module_version": "1.5.0",
            "_model_name": "ProgressStyleModel",
            "_view_count": null,
            "_view_module": "@jupyter-widgets/base",
            "_view_module_version": "1.2.0",
            "_view_name": "StyleView",
            "bar_color": null,
            "description_width": ""
          }
        },
        "6bc50e09030b43b1b11c479586982506": {
          "model_module": "@jupyter-widgets/base",
          "model_name": "LayoutModel",
          "model_module_version": "1.2.0",
          "state": {
            "_model_module": "@jupyter-widgets/base",
            "_model_module_version": "1.2.0",
            "_model_name": "LayoutModel",
            "_view_count": null,
            "_view_module": "@jupyter-widgets/base",
            "_view_module_version": "1.2.0",
            "_view_name": "LayoutView",
            "align_content": null,
            "align_items": null,
            "align_self": null,
            "border": null,
            "bottom": null,
            "display": null,
            "flex": null,
            "flex_flow": null,
            "grid_area": null,
            "grid_auto_columns": null,
            "grid_auto_flow": null,
            "grid_auto_rows": null,
            "grid_column": null,
            "grid_gap": null,
            "grid_row": null,
            "grid_template_areas": null,
            "grid_template_columns": null,
            "grid_template_rows": null,
            "height": null,
            "justify_content": null,
            "justify_items": null,
            "left": null,
            "margin": null,
            "max_height": null,
            "max_width": null,
            "min_height": null,
            "min_width": null,
            "object_fit": null,
            "object_position": null,
            "order": null,
            "overflow": null,
            "overflow_x": null,
            "overflow_y": null,
            "padding": null,
            "right": null,
            "top": null,
            "visibility": null,
            "width": null
          }
        },
        "9a4c80d507b94796a96d5f54264b1096": {
          "model_module": "@jupyter-widgets/controls",
          "model_name": "DescriptionStyleModel",
          "model_module_version": "1.5.0",
          "state": {
            "_model_module": "@jupyter-widgets/controls",
            "_model_module_version": "1.5.0",
            "_model_name": "DescriptionStyleModel",
            "_view_count": null,
            "_view_module": "@jupyter-widgets/base",
            "_view_module_version": "1.2.0",
            "_view_name": "StyleView",
            "description_width": ""
          }
        }
      }
    }
  },
  "cells": [
    {
      "cell_type": "markdown",
      "source": [
        "[Efficient Estimation of Word Representations in\n",
        "Vector Space](https://arxiv.org/pdf/1301.3781.pdf)"
      ],
      "metadata": {
        "id": "u3w1OG5aOX57"
      }
    },
    {
      "cell_type": "code",
      "source": [
        "!pip install -U sentence-transformers transformers"
      ],
      "metadata": {
        "colab": {
          "base_uri": "https://localhost:8080/"
        },
        "id": "ohcOG7aVYHjJ",
        "outputId": "817f049c-3436-4c14-a2d0-e1a59d216535"
      },
      "execution_count": null,
      "outputs": [
        {
          "output_type": "stream",
          "name": "stdout",
          "text": [
            "Collecting sentence-transformers\n",
            "  Downloading sentence-transformers-2.2.2.tar.gz (85 kB)\n",
            "\u001b[2K     \u001b[90m━━━━━━━━━━━━━━━━━━━━━━━━━━━━━━━━━━━━━━━━\u001b[0m \u001b[32m86.0/86.0 kB\u001b[0m \u001b[31m1.9 MB/s\u001b[0m eta \u001b[36m0:00:00\u001b[0m\n",
            "\u001b[?25h  Preparing metadata (setup.py) ... \u001b[?25l\u001b[?25hdone\n",
            "Requirement already satisfied: transformers in /usr/local/lib/python3.10/dist-packages (4.33.3)\n",
            "Requirement already satisfied: tqdm in /usr/local/lib/python3.10/dist-packages (from sentence-transformers) (4.66.1)\n",
            "Requirement already satisfied: torch>=1.6.0 in /usr/local/lib/python3.10/dist-packages (from sentence-transformers) (2.0.1+cu118)\n",
            "Requirement already satisfied: torchvision in /usr/local/lib/python3.10/dist-packages (from sentence-transformers) (0.15.2+cu118)\n",
            "Requirement already satisfied: numpy in /usr/local/lib/python3.10/dist-packages (from sentence-transformers) (1.23.5)\n",
            "Requirement already satisfied: scikit-learn in /usr/local/lib/python3.10/dist-packages (from sentence-transformers) (1.2.2)\n",
            "Requirement already satisfied: scipy in /usr/local/lib/python3.10/dist-packages (from sentence-transformers) (1.11.2)\n",
            "Requirement already satisfied: nltk in /usr/local/lib/python3.10/dist-packages (from sentence-transformers) (3.8.1)\n",
            "Collecting sentencepiece (from sentence-transformers)\n",
            "  Downloading sentencepiece-0.1.99-cp310-cp310-manylinux_2_17_x86_64.manylinux2014_x86_64.whl (1.3 MB)\n",
            "\u001b[2K     \u001b[90m━━━━━━━━━━━━━━━━━━━━━━━━━━━━━━━━━━━━━━━━\u001b[0m \u001b[32m1.3/1.3 MB\u001b[0m \u001b[31m25.1 MB/s\u001b[0m eta \u001b[36m0:00:00\u001b[0m\n",
            "\u001b[?25hRequirement already satisfied: huggingface-hub>=0.4.0 in /usr/local/lib/python3.10/dist-packages (from sentence-transformers) (0.17.3)\n",
            "Requirement already satisfied: filelock in /usr/local/lib/python3.10/dist-packages (from transformers) (3.12.2)\n",
            "Requirement already satisfied: packaging>=20.0 in /usr/local/lib/python3.10/dist-packages (from transformers) (23.1)\n",
            "Requirement already satisfied: pyyaml>=5.1 in /usr/local/lib/python3.10/dist-packages (from transformers) (6.0.1)\n",
            "Requirement already satisfied: regex!=2019.12.17 in /usr/local/lib/python3.10/dist-packages (from transformers) (2023.6.3)\n",
            "Requirement already satisfied: requests in /usr/local/lib/python3.10/dist-packages (from transformers) (2.31.0)\n",
            "Requirement already satisfied: tokenizers!=0.11.3,<0.14,>=0.11.1 in /usr/local/lib/python3.10/dist-packages (from transformers) (0.13.3)\n",
            "Requirement already satisfied: safetensors>=0.3.1 in /usr/local/lib/python3.10/dist-packages (from transformers) (0.3.3)\n",
            "Requirement already satisfied: fsspec in /usr/local/lib/python3.10/dist-packages (from huggingface-hub>=0.4.0->sentence-transformers) (2023.6.0)\n",
            "Requirement already satisfied: typing-extensions>=3.7.4.3 in /usr/local/lib/python3.10/dist-packages (from huggingface-hub>=0.4.0->sentence-transformers) (4.5.0)\n",
            "Requirement already satisfied: sympy in /usr/local/lib/python3.10/dist-packages (from torch>=1.6.0->sentence-transformers) (1.12)\n",
            "Requirement already satisfied: networkx in /usr/local/lib/python3.10/dist-packages (from torch>=1.6.0->sentence-transformers) (3.1)\n",
            "Requirement already satisfied: jinja2 in /usr/local/lib/python3.10/dist-packages (from torch>=1.6.0->sentence-transformers) (3.1.2)\n",
            "Requirement already satisfied: triton==2.0.0 in /usr/local/lib/python3.10/dist-packages (from torch>=1.6.0->sentence-transformers) (2.0.0)\n",
            "Requirement already satisfied: cmake in /usr/local/lib/python3.10/dist-packages (from triton==2.0.0->torch>=1.6.0->sentence-transformers) (3.27.4.1)\n",
            "Requirement already satisfied: lit in /usr/local/lib/python3.10/dist-packages (from triton==2.0.0->torch>=1.6.0->sentence-transformers) (16.0.6)\n",
            "Requirement already satisfied: click in /usr/local/lib/python3.10/dist-packages (from nltk->sentence-transformers) (8.1.7)\n",
            "Requirement already satisfied: joblib in /usr/local/lib/python3.10/dist-packages (from nltk->sentence-transformers) (1.3.2)\n",
            "Requirement already satisfied: charset-normalizer<4,>=2 in /usr/local/lib/python3.10/dist-packages (from requests->transformers) (3.2.0)\n",
            "Requirement already satisfied: idna<4,>=2.5 in /usr/local/lib/python3.10/dist-packages (from requests->transformers) (3.4)\n",
            "Requirement already satisfied: urllib3<3,>=1.21.1 in /usr/local/lib/python3.10/dist-packages (from requests->transformers) (2.0.4)\n",
            "Requirement already satisfied: certifi>=2017.4.17 in /usr/local/lib/python3.10/dist-packages (from requests->transformers) (2023.7.22)\n",
            "Requirement already satisfied: threadpoolctl>=2.0.0 in /usr/local/lib/python3.10/dist-packages (from scikit-learn->sentence-transformers) (3.2.0)\n",
            "Requirement already satisfied: pillow!=8.3.*,>=5.3.0 in /usr/local/lib/python3.10/dist-packages (from torchvision->sentence-transformers) (9.4.0)\n",
            "Requirement already satisfied: MarkupSafe>=2.0 in /usr/local/lib/python3.10/dist-packages (from jinja2->torch>=1.6.0->sentence-transformers) (2.1.3)\n",
            "Requirement already satisfied: mpmath>=0.19 in /usr/local/lib/python3.10/dist-packages (from sympy->torch>=1.6.0->sentence-transformers) (1.3.0)\n",
            "Building wheels for collected packages: sentence-transformers\n",
            "  Building wheel for sentence-transformers (setup.py) ... \u001b[?25l\u001b[?25hdone\n",
            "  Created wheel for sentence-transformers: filename=sentence_transformers-2.2.2-py3-none-any.whl size=125923 sha256=3084d9906192a21e344581b0f5ea46e7eed156f29fb236c63549bca0e53f4d35\n",
            "  Stored in directory: /root/.cache/pip/wheels/62/f2/10/1e606fd5f02395388f74e7462910fe851042f97238cbbd902f\n",
            "Successfully built sentence-transformers\n",
            "Installing collected packages: sentencepiece, sentence-transformers\n",
            "Successfully installed sentence-transformers-2.2.2 sentencepiece-0.1.99\n"
          ]
        }
      ]
    },
    {
      "cell_type": "code",
      "execution_count": null,
      "metadata": {
        "id": "lTAD8CAyONjm"
      },
      "outputs": [],
      "source": [
        "# Import thư viện\n",
        "from gensim.test.utils import common_texts\n",
        "from gensim.models import Word2Vec"
      ]
    },
    {
      "cell_type": "code",
      "source": [
        "common_texts"
      ],
      "metadata": {
        "colab": {
          "base_uri": "https://localhost:8080/"
        },
        "id": "rv1Jz5lvQvQB",
        "outputId": "a07fdfff-9f09-47c3-fe48-2d7f2e38db6e"
      },
      "execution_count": null,
      "outputs": [
        {
          "output_type": "execute_result",
          "data": {
            "text/plain": [
              "[['human', 'interface', 'computer'],\n",
              " ['survey', 'user', 'computer', 'system', 'response', 'time'],\n",
              " ['eps', 'user', 'interface', 'system'],\n",
              " ['system', 'human', 'system', 'eps'],\n",
              " ['user', 'response', 'time'],\n",
              " ['trees'],\n",
              " ['graph', 'trees'],\n",
              " ['graph', 'minors', 'trees'],\n",
              " ['graph', 'minors', 'survey']]"
            ]
          },
          "metadata": {},
          "execution_count": 2
        }
      ]
    },
    {
      "cell_type": "code",
      "source": [
        "# Tự xây dựng mô hình từ bộ dữ liệu có sẵn\n",
        "model = Word2Vec(sentences=common_texts, # Dữ liệu truyền vào\n",
        "                 vector_size=100,  # Độ lớn của vector\n",
        "                 window=5,  # Độ lớn cửa số huấn luyện\n",
        "                 min_count=1, # Ngưỡng tối thiểu của 1 từ\n",
        "                 workers=4,\n",
        "                 )"
      ],
      "metadata": {
        "id": "uR3REzyUOiIc"
      },
      "execution_count": null,
      "outputs": []
    },
    {
      "cell_type": "code",
      "source": [
        "# Lưu mô hình\n",
        "model.save(\"word2vec.model\")"
      ],
      "metadata": {
        "id": "PycIVeQaOkf8"
      },
      "execution_count": null,
      "outputs": []
    },
    {
      "cell_type": "code",
      "source": [
        "# Tải lại mô hình\n",
        "model = Word2Vec.load(\"word2vec.model\")"
      ],
      "metadata": {
        "id": "Z2uEFqoNOlO1"
      },
      "execution_count": null,
      "outputs": []
    },
    {
      "cell_type": "code",
      "source": [
        "# Huấn luyện tiếp mô hình\n",
        "# model.train([[\"system\", \"system\"]], epoch = 1)"
      ],
      "metadata": {
        "id": "iTUninL1RIZJ"
      },
      "execution_count": null,
      "outputs": []
    },
    {
      "cell_type": "code",
      "source": [
        "# Lấy vector biểu diễn của 1 từ\n",
        "vector = model.wv['computer']\n",
        "vector"
      ],
      "metadata": {
        "colab": {
          "base_uri": "https://localhost:8080/"
        },
        "id": "zVJyYQNSRULr",
        "outputId": "4fdc074d-b106-46d7-84e2-b8e5d60da81c"
      },
      "execution_count": null,
      "outputs": [
        {
          "output_type": "execute_result",
          "data": {
            "text/plain": [
              "array([-0.00515774, -0.00667028, -0.0077791 ,  0.00831315, -0.00198292,\n",
              "       -0.00685696, -0.0041556 ,  0.00514562, -0.00286997, -0.00375075,\n",
              "        0.0016219 , -0.0027771 , -0.00158482,  0.0010748 , -0.00297881,\n",
              "        0.00852176,  0.00391207, -0.00996176,  0.00626142, -0.00675622,\n",
              "        0.00076966,  0.00440552, -0.00510486, -0.00211128,  0.00809783,\n",
              "       -0.00424503, -0.00763848,  0.00926061, -0.00215612, -0.00472081,\n",
              "        0.00857329,  0.00428459,  0.0043261 ,  0.00928722, -0.00845554,\n",
              "        0.00525685,  0.00203994,  0.0041895 ,  0.00169839,  0.00446543,\n",
              "        0.0044876 ,  0.0061063 , -0.00320303, -0.00457706, -0.00042664,\n",
              "        0.00253447, -0.00326412,  0.00605948,  0.00415534,  0.00776685,\n",
              "        0.00257002,  0.00811905, -0.00138761,  0.00808028,  0.0037181 ,\n",
              "       -0.00804967, -0.00393476, -0.0024726 ,  0.00489447, -0.00087241,\n",
              "       -0.00283173,  0.00783599,  0.00932561, -0.0016154 , -0.00516075,\n",
              "       -0.00470313, -0.00484746, -0.00960562,  0.00137242, -0.00422615,\n",
              "        0.00252744,  0.00561612, -0.00406709, -0.00959937,  0.00154715,\n",
              "       -0.00670207,  0.0024959 , -0.00378173,  0.00708048,  0.00064041,\n",
              "        0.00356198, -0.00273993, -0.00171105,  0.00765502,  0.00140809,\n",
              "       -0.00585215, -0.00783678,  0.00123305,  0.00645651,  0.00555797,\n",
              "       -0.00897966,  0.00859466,  0.00404816,  0.00747178,  0.00974917,\n",
              "       -0.0072917 , -0.00904259,  0.0058377 ,  0.00939395,  0.00350795],\n",
              "      dtype=float32)"
            ]
          },
          "metadata": {},
          "execution_count": 11
        }
      ]
    },
    {
      "cell_type": "code",
      "source": [
        "# Tìm các từ tương tự\n",
        "sims = model.wv.most_similar('computer', topn=10)\n",
        "sims"
      ],
      "metadata": {
        "colab": {
          "base_uri": "https://localhost:8080/"
        },
        "id": "_b7A6tFnOr9x",
        "outputId": "25339f29-0004-45ac-dd1a-d451a4e0a957"
      },
      "execution_count": null,
      "outputs": [
        {
          "output_type": "execute_result",
          "data": {
            "text/plain": [
              "[('system', 0.21617139875888824),\n",
              " ('survey', 0.04468922317028046),\n",
              " ('interface', 0.015203381888568401),\n",
              " ('time', 0.0019510635174810886),\n",
              " ('trees', -0.03284316882491112),\n",
              " ('human', -0.07424270361661911),\n",
              " ('response', -0.09317591041326523),\n",
              " ('graph', -0.09575342386960983),\n",
              " ('eps', -0.10513808578252792),\n",
              " ('user', -0.16911619901657104)]"
            ]
          },
          "metadata": {},
          "execution_count": 30
        }
      ]
    },
    {
      "cell_type": "code",
      "source": [
        "# Danh sách các mô hình đã được huấn luyện\n",
        "list(gensim.downloader.info()['models'].keys())"
      ],
      "metadata": {
        "colab": {
          "base_uri": "https://localhost:8080/"
        },
        "id": "Noc-FQy8PSRU",
        "outputId": "d254f428-0821-4f56-de7e-68b48f27257d"
      },
      "execution_count": null,
      "outputs": [
        {
          "output_type": "execute_result",
          "data": {
            "text/plain": [
              "['fasttext-wiki-news-subwords-300',\n",
              " 'conceptnet-numberbatch-17-06-300',\n",
              " 'word2vec-ruscorpora-300',\n",
              " 'word2vec-google-news-300',\n",
              " 'glove-wiki-gigaword-50',\n",
              " 'glove-wiki-gigaword-100',\n",
              " 'glove-wiki-gigaword-200',\n",
              " 'glove-wiki-gigaword-300',\n",
              " 'glove-twitter-25',\n",
              " 'glove-twitter-50',\n",
              " 'glove-twitter-100',\n",
              " 'glove-twitter-200',\n",
              " '__testing_word2vec-matrix-synopsis']"
            ]
          },
          "metadata": {},
          "execution_count": 22
        }
      ]
    },
    {
      "cell_type": "code",
      "source": [
        "import gensim.downloader\n",
        "glove_vectors = gensim.downloader.load('fasttext-wiki-news-subwords-300')"
      ],
      "metadata": {
        "colab": {
          "base_uri": "https://localhost:8080/"
        },
        "id": "F2set0XxPE9o",
        "outputId": "84c749e6-0e77-4083-d6d5-52f89ee4ce5c"
      },
      "execution_count": null,
      "outputs": [
        {
          "output_type": "stream",
          "name": "stdout",
          "text": [
            "[==================================================] 100.0% 958.5/958.4MB downloaded\n"
          ]
        }
      ]
    },
    {
      "cell_type": "code",
      "source": [
        "glove_vectors[\"vietnam\"]"
      ],
      "metadata": {
        "colab": {
          "base_uri": "https://localhost:8080/"
        },
        "id": "cWh7I3-6RjDS",
        "outputId": "635b23e4-7040-4e71-c4c0-6697b63fb56d"
      },
      "execution_count": null,
      "outputs": [
        {
          "output_type": "execute_result",
          "data": {
            "text/plain": [
              "array([ 1.1109e-02, -6.7373e-02,  5.7753e-02,  1.0274e-01,  4.9490e-02,\n",
              "        6.0427e-02,  3.8547e-02, -7.9938e-02,  4.6827e-02,  2.8605e-02,\n",
              "       -2.8302e-02, -3.8657e-02,  2.8699e-02,  1.7875e-02,  1.6647e-02,\n",
              "        1.4170e-02,  1.6632e-01, -1.2334e-01,  6.6212e-02,  1.2802e-02,\n",
              "        6.9697e-02,  6.7726e-02, -3.1689e-02,  4.1474e-02, -3.0192e-03,\n",
              "       -1.2462e-01,  9.2833e-02, -6.1775e-02, -3.8054e-02, -5.7218e-02,\n",
              "        5.7590e-02,  2.7799e-02, -1.6179e-02, -6.4657e-03,  2.5825e-02,\n",
              "       -6.5993e-04,  5.3990e-02, -1.7085e-02,  2.3888e-02,  6.5464e-02,\n",
              "       -5.4564e-02, -7.7235e-02,  7.8561e-02, -2.2847e-02,  2.0318e-02,\n",
              "        8.7191e-02,  5.2792e-02,  2.0947e-03, -2.0514e-02,  2.5788e-02,\n",
              "       -1.9485e-02,  3.2866e-03, -1.1596e-02, -2.1559e-02, -1.1568e-01,\n",
              "       -5.2676e-02, -7.1225e-02,  4.4097e-02, -3.4331e-02,  1.7427e-02,\n",
              "       -5.6686e-02,  6.9721e-03,  1.0717e-01, -1.1596e-01, -4.0253e-02,\n",
              "       -3.8495e-02, -1.0143e-02, -1.2103e-01, -1.5410e-02,  6.3770e-02,\n",
              "       -4.3985e-02, -6.8270e-02, -2.4619e-02, -4.1216e-03,  6.3402e-03,\n",
              "       -5.6028e-02,  8.7761e-02,  2.4499e-02, -3.8297e-02, -1.0716e-02,\n",
              "        6.0859e-02,  5.6518e-02, -3.4129e-02,  1.1599e-01, -7.5963e-02,\n",
              "       -3.3678e-02, -7.0524e-02, -2.0234e-02, -8.1644e-02,  6.7313e-02,\n",
              "        1.9730e-02,  1.1086e-01, -1.1987e-02,  4.1643e-02,  2.5301e-02,\n",
              "        1.8419e-02, -2.9028e-02, -2.0835e-02, -2.8908e-02,  3.1629e-02,\n",
              "        1.0801e-01, -1.4674e-01,  2.9596e-02, -2.4826e-03,  9.0212e-02,\n",
              "       -5.2383e-02, -2.7619e-02,  5.8746e-02,  2.7429e-02,  1.1392e-02,\n",
              "       -2.0815e-02,  6.7365e-02,  1.1100e-02,  2.3833e-02,  2.9159e-02,\n",
              "       -3.3249e-02, -1.1363e-01,  5.0137e-02, -4.3297e-02,  4.4453e-02,\n",
              "       -2.6621e-02,  5.7754e-02, -8.0785e-02, -2.0205e-02,  3.3162e-03,\n",
              "        1.0458e-01,  1.6654e-02, -2.5162e-02, -1.5199e-02,  1.0099e-01,\n",
              "       -2.0075e-02, -2.9341e-02,  5.5392e-02,  3.6443e-04, -6.1315e-02,\n",
              "       -1.0455e-02, -4.1458e-02,  2.5465e-02, -8.4054e-02,  2.6042e-04,\n",
              "       -1.0492e-01,  2.4677e-02, -1.2552e-02,  8.7190e-02, -5.4856e-02,\n",
              "       -5.9459e-02,  7.7155e-02,  4.8515e-02,  5.3140e-02, -3.1811e-02,\n",
              "        4.1374e-02, -9.3276e-03,  3.0433e-02,  1.0347e-02, -6.7469e-02,\n",
              "       -5.5772e-02, -6.7015e-02, -2.2116e-03,  5.9843e-02, -5.4643e-02,\n",
              "        3.3805e-02, -3.5167e-02, -3.6425e-03, -7.2724e-02, -8.3919e-02,\n",
              "       -2.4235e-03,  7.9975e-02, -1.6446e-02,  1.3351e-02,  2.4912e-03,\n",
              "       -1.2265e-02,  1.0573e-02, -2.4692e-02,  3.6458e-02, -1.0865e-01,\n",
              "        1.1159e-01,  5.4853e-02,  1.0913e-02,  2.5175e-02,  8.5436e-02,\n",
              "       -1.4049e-02,  8.3404e-02, -6.8037e-02, -3.3474e-02,  6.7344e-02,\n",
              "       -8.9088e-02,  1.2067e-01,  1.3529e-01, -2.1591e-02, -2.8734e-02,\n",
              "        7.4535e-02,  4.2664e-02, -5.4926e-02,  1.7133e-02, -1.7773e-02,\n",
              "        3.1864e-02,  3.9255e-02, -8.8777e-03, -4.6711e-02,  1.4412e-01,\n",
              "       -9.8381e-02, -7.0482e-02,  1.1797e-02, -1.9321e-02, -1.3245e-02,\n",
              "       -3.4547e-02, -4.8413e-02, -4.3295e-02,  8.0285e-02, -1.0027e-02,\n",
              "        1.0933e-01, -2.9496e-02,  3.6491e-02, -1.9952e-02,  7.9219e-02,\n",
              "       -3.0960e-03, -1.8772e-02, -3.0021e-02,  6.8415e-02, -9.9970e-02,\n",
              "        5.1123e-02, -1.5717e-02,  1.5125e-02,  1.2393e-01, -8.5805e-02,\n",
              "        1.8885e-01, -1.5437e-04,  7.9085e-02, -8.7948e-02,  6.8182e-02,\n",
              "       -2.9915e-02, -4.0290e-02, -5.6183e-02,  3.6009e-02,  2.9806e-02,\n",
              "       -6.6775e-02, -1.2104e-02,  1.4278e-03,  1.8093e-02,  1.6939e-02,\n",
              "        7.3674e-02,  8.0653e-03,  5.7163e-02, -8.7417e-02, -2.2798e-02,\n",
              "       -3.3831e-02,  8.6396e-02,  6.0683e-03, -5.4025e-02,  2.9544e-02,\n",
              "        9.1981e-02,  1.1124e-01, -5.8372e-02,  8.4138e-02,  1.6450e-03,\n",
              "       -2.8268e-02,  8.4762e-02,  1.6093e-02,  5.2889e-02, -2.5692e-02,\n",
              "       -4.7651e-02,  5.9546e-03,  3.9226e-02, -4.4552e-03,  8.4827e-02,\n",
              "       -7.9380e-03, -1.6694e-02,  1.5494e-02, -1.6436e-03, -1.8684e-03,\n",
              "        2.1961e-02,  8.4190e-02, -1.5017e-02, -3.4795e-02,  4.6878e-02,\n",
              "       -7.5237e-03, -2.5115e-02,  1.8254e-02, -4.6328e-02,  5.0918e-02,\n",
              "        2.1008e-02,  3.3170e-02,  3.0357e-02, -2.9586e-02, -9.0648e-02,\n",
              "       -2.8445e-02, -8.0092e-03, -4.2205e-02, -2.9840e-02, -8.2709e-02,\n",
              "       -1.9927e-02, -8.0180e-05, -5.3679e-02, -7.6946e-03, -4.1777e-02,\n",
              "        1.9939e-02, -1.0281e-03,  3.1436e-02, -8.3132e-03, -7.8865e-02],\n",
              "      dtype=float32)"
            ]
          },
          "metadata": {},
          "execution_count": 13
        }
      ]
    },
    {
      "cell_type": "code",
      "source": [
        "glove_vectors.most_similar('vietnam')"
      ],
      "metadata": {
        "colab": {
          "base_uri": "https://localhost:8080/"
        },
        "id": "_bbnWUdkPeYY",
        "outputId": "6c290037-cd26-4f7d-d261-952b935f8245"
      },
      "execution_count": null,
      "outputs": [
        {
          "output_type": "execute_result",
          "data": {
            "text/plain": [
              "[('viet', 0.7330360412597656),\n",
              " ('vietnamese', 0.7146545648574829),\n",
              " ('cambodia', 0.7000673413276672),\n",
              " ('Vietnam', 0.6909278035163879),\n",
              " ('VietNam', 0.6730378866195679),\n",
              " ('indochina', 0.6349312663078308),\n",
              " ('Vietnam.', 0.6270760297775269),\n",
              " ('korea', 0.6190986633300781),\n",
              " ('iraq', 0.6147821545600891),\n",
              " ('Vietnam-', 0.6122502088546753)]"
            ]
          },
          "metadata": {},
          "execution_count": 14
        }
      ]
    },
    {
      "cell_type": "code",
      "source": [
        "glove_vectors.similarity(\"vietnam\", \"hanoi\")"
      ],
      "metadata": {
        "colab": {
          "base_uri": "https://localhost:8080/"
        },
        "id": "gfLxE-yoP3Rb",
        "outputId": "cbabf24e-d39d-4690-959f-2b15b896ace4"
      },
      "execution_count": null,
      "outputs": [
        {
          "output_type": "execute_result",
          "data": {
            "text/plain": [
              "0.5300986"
            ]
          },
          "metadata": {},
          "execution_count": 16
        }
      ]
    },
    {
      "cell_type": "code",
      "source": [
        "a1 = glove_vectors[\"grandfather\"]\n",
        "a2 = glove_vectors[\"grandmother\"]\n",
        "a3 = glove_vectors[\"woman\"]\n",
        "glove_vectors.most_similar(a3 + a1 - a2)"
      ],
      "metadata": {
        "colab": {
          "base_uri": "https://localhost:8080/"
        },
        "id": "NWVeP0R91Zt2",
        "outputId": "bbbefc9f-86d0-43ca-8569-8fdf82f59557"
      },
      "execution_count": null,
      "outputs": [
        {
          "output_type": "execute_result",
          "data": {
            "text/plain": [
              "[('woman', 0.9466252326965332),\n",
              " ('man', 0.8305793404579163),\n",
              " ('woman--', 0.750378429889679),\n",
              " ('lady', 0.7140040993690491),\n",
              " ('woman-', 0.7119115591049194),\n",
              " ('womans', 0.6951075196266174),\n",
              " ('women', 0.6931669116020203),\n",
              " ('-woman', 0.6903579831123352),\n",
              " ('girl', 0.6849371194839478),\n",
              " ('trans-woman', 0.6799917221069336)]"
            ]
          },
          "metadata": {},
          "execution_count": 20
        }
      ]
    },
    {
      "cell_type": "code",
      "source": [
        "glove_vectors.most_similar(negative=['grandson'], topn=10)"
      ],
      "metadata": {
        "colab": {
          "base_uri": "https://localhost:8080/"
        },
        "id": "mKuC7HaeTLhs",
        "outputId": "07e50c7b-79d6-4ac7-9c48-390cacfd84ad"
      },
      "execution_count": null,
      "outputs": [
        {
          "output_type": "execute_result",
          "data": {
            "text/plain": [
              "[('၌', 0.4003842771053314),\n",
              " ('போக', 0.39666804671287537),\n",
              " ('சர', 0.39361128211021423),\n",
              " ('பில', 0.3928391933441162),\n",
              " ('উন', 0.3924608528614044),\n",
              " ('यद', 0.39237889647483826),\n",
              " ('துப', 0.3917131721973419),\n",
              " ('माह', 0.38935428857803345),\n",
              " ('எனும', 0.3876834511756897),\n",
              " ('தகவல', 0.3865732252597809)]"
            ]
          },
          "metadata": {},
          "execution_count": 19
        }
      ]
    },
    {
      "cell_type": "code",
      "source": [
        "import numpy as np\n",
        "word1 = glove_vectors[\"vietnam\"]\n",
        "word2 = glove_vectors[\"hanoi\"]\n",
        "np.dot(word1, word2)/(np.linalg.norm(word1)* np.linalg.norm(word2))"
      ],
      "metadata": {
        "colab": {
          "base_uri": "https://localhost:8080/"
        },
        "id": "uUQ8gqfwQCL_",
        "outputId": "604b8588-4aa2-47a5-a2b5-786ac5942b2b"
      },
      "execution_count": null,
      "outputs": [
        {
          "output_type": "execute_result",
          "data": {
            "text/plain": [
              "0.73792803"
            ]
          },
          "metadata": {},
          "execution_count": 36
        }
      ]
    },
    {
      "cell_type": "code",
      "source": [
        "BERT embedding"
      ],
      "metadata": {
        "id": "-FiUmL4LSQPp"
      },
      "execution_count": null,
      "outputs": []
    },
    {
      "cell_type": "code",
      "source": [
        "!pip install transformers"
      ],
      "metadata": {
        "colab": {
          "base_uri": "https://localhost:8080/"
        },
        "id": "uyoifSAcSQ_k",
        "outputId": "2ba699cd-818b-402a-e78b-550a9af460f4"
      },
      "execution_count": null,
      "outputs": [
        {
          "output_type": "stream",
          "name": "stdout",
          "text": [
            "Collecting transformers\n",
            "  Downloading transformers-4.33.3-py3-none-any.whl (7.6 MB)\n",
            "\u001b[2K     \u001b[90m━━━━━━━━━━━━━━━━━━━━━━━━━━━━━━━━━━━━━━━━\u001b[0m \u001b[32m7.6/7.6 MB\u001b[0m \u001b[31m45.1 MB/s\u001b[0m eta \u001b[36m0:00:00\u001b[0m\n",
            "\u001b[?25hRequirement already satisfied: filelock in /usr/local/lib/python3.10/dist-packages (from transformers) (3.12.2)\n",
            "Collecting huggingface-hub<1.0,>=0.15.1 (from transformers)\n",
            "  Downloading huggingface_hub-0.17.3-py3-none-any.whl (295 kB)\n",
            "\u001b[2K     \u001b[90m━━━━━━━━━━━━━━━━━━━━━━━━━━━━━━━━━━━━━━\u001b[0m \u001b[32m295.0/295.0 kB\u001b[0m \u001b[31m25.0 MB/s\u001b[0m eta \u001b[36m0:00:00\u001b[0m\n",
            "\u001b[?25hRequirement already satisfied: numpy>=1.17 in /usr/local/lib/python3.10/dist-packages (from transformers) (1.23.5)\n",
            "Requirement already satisfied: packaging>=20.0 in /usr/local/lib/python3.10/dist-packages (from transformers) (23.1)\n",
            "Requirement already satisfied: pyyaml>=5.1 in /usr/local/lib/python3.10/dist-packages (from transformers) (6.0.1)\n",
            "Requirement already satisfied: regex!=2019.12.17 in /usr/local/lib/python3.10/dist-packages (from transformers) (2023.6.3)\n",
            "Requirement already satisfied: requests in /usr/local/lib/python3.10/dist-packages (from transformers) (2.31.0)\n",
            "Collecting tokenizers!=0.11.3,<0.14,>=0.11.1 (from transformers)\n",
            "  Downloading tokenizers-0.13.3-cp310-cp310-manylinux_2_17_x86_64.manylinux2014_x86_64.whl (7.8 MB)\n",
            "\u001b[2K     \u001b[90m━━━━━━━━━━━━━━━━━━━━━━━━━━━━━━━━━━━━━━━━\u001b[0m \u001b[32m7.8/7.8 MB\u001b[0m \u001b[31m85.3 MB/s\u001b[0m eta \u001b[36m0:00:00\u001b[0m\n",
            "\u001b[?25hCollecting safetensors>=0.3.1 (from transformers)\n",
            "  Downloading safetensors-0.3.3-cp310-cp310-manylinux_2_17_x86_64.manylinux2014_x86_64.whl (1.3 MB)\n",
            "\u001b[2K     \u001b[90m━━━━━━━━━━━━━━━━━━━━━━━━━━━━━━━━━━━━━━━━\u001b[0m \u001b[32m1.3/1.3 MB\u001b[0m \u001b[31m63.3 MB/s\u001b[0m eta \u001b[36m0:00:00\u001b[0m\n",
            "\u001b[?25hRequirement already satisfied: tqdm>=4.27 in /usr/local/lib/python3.10/dist-packages (from transformers) (4.66.1)\n",
            "Requirement already satisfied: fsspec in /usr/local/lib/python3.10/dist-packages (from huggingface-hub<1.0,>=0.15.1->transformers) (2023.6.0)\n",
            "Requirement already satisfied: typing-extensions>=3.7.4.3 in /usr/local/lib/python3.10/dist-packages (from huggingface-hub<1.0,>=0.15.1->transformers) (4.5.0)\n",
            "Requirement already satisfied: charset-normalizer<4,>=2 in /usr/local/lib/python3.10/dist-packages (from requests->transformers) (3.2.0)\n",
            "Requirement already satisfied: idna<4,>=2.5 in /usr/local/lib/python3.10/dist-packages (from requests->transformers) (3.4)\n",
            "Requirement already satisfied: urllib3<3,>=1.21.1 in /usr/local/lib/python3.10/dist-packages (from requests->transformers) (2.0.4)\n",
            "Requirement already satisfied: certifi>=2017.4.17 in /usr/local/lib/python3.10/dist-packages (from requests->transformers) (2023.7.22)\n",
            "Installing collected packages: tokenizers, safetensors, huggingface-hub, transformers\n",
            "Successfully installed huggingface-hub-0.17.3 safetensors-0.3.3 tokenizers-0.13.3 transformers-4.33.3\n"
          ]
        }
      ]
    },
    {
      "cell_type": "code",
      "source": [
        "import torch\n",
        "from transformers import BertTokenizer,BertModel\n",
        "\n",
        "tokenizer = BertTokenizer.from_pretrained('bert-base-uncased')\n",
        "model = BertModel.from_pretrained(\"bert-base-uncased\")"
      ],
      "metadata": {
        "colab": {
          "base_uri": "https://localhost:8080/",
          "height": 145,
          "referenced_widgets": [
            "50dedb920f34485a83934a663dfd5235",
            "356614301c7640349f079bb5521333e4",
            "7b42a277953b44f29d972f15abf4a19b",
            "6a170fbb215441d3966fc3e7a7679f7d",
            "051a7a1744864cda9f98800eadac043f",
            "d33e5c5ab927451cbbfe596d141fe150",
            "469c556baf2c434981bd334171f135b8",
            "57695b359b244c0c8247b0fc3c6db71c",
            "74c4b7097bdd49d29af69ed7b32a6694",
            "e3d34c1cd098424ba4895241d3a2259e",
            "77617c0a986d4f56960868cf1c05f35b",
            "1205644c3d8b487f948d0a77611b1e85",
            "6d8696bb7d5a4dce8fc3b23f3dd8fcdd",
            "bdad553b9a8048909ab019d862e6f3a6",
            "bb27c0fb47bd40fca2deb74208af2bd0",
            "7e6abd618e3048d3a73a7dfede2f0864",
            "cdb570d1e925407698749ce8d018376a",
            "c784340aeef84287913f6a1d598f077d",
            "740b9e16a1824d0f8d7bd7d4a0a1272b",
            "3b713c70287d4fcdaf0d31a0f4aa37bb",
            "67e45da4097248e990de3b0b812ac590",
            "2adc6227f11f4be49be4f9fded1a148d",
            "78e0a0f5fd68494f90bf9bbcfc014a64",
            "325954e657ef427783846aaa4f3bcb73",
            "385d09b0a48f41099c869f89988857a4",
            "397e6c4e12e14433b91f1bee1021793f",
            "da7de6fc7971473f974372829537a105",
            "67f8e1370c5d489b9411357fad900a3c",
            "b37edda1bbd14f52ba817372354fdd9d",
            "10e5f3c2788a48e08bd95f0f022e462b",
            "d4b3edce0eef4428b36be6e3aa1b21e6",
            "07244b92354c4004ad664c8d433a70ff",
            "44314a1b1095467989f198d69080e907",
            "e617f746723043f0b46ee4b8fcdd6b9d",
            "9794006780d744ccb761980dc385060b",
            "f89bab9ad0c4476ea309d051d4689f43",
            "32b5ecb970834208ba1e16770018f377",
            "42e3f65e5ad941158655ada192eb390e",
            "2b9141b040874545af8cb742bb438b7d",
            "61a8c7d57dee4656bbac0b0458b2af5d",
            "ffc07bcc474047b8b76868baea166bba",
            "98fce2b32a5c441b9dce03fdb5308df8",
            "6bc50e09030b43b1b11c479586982506",
            "9a4c80d507b94796a96d5f54264b1096"
          ]
        },
        "id": "97F_sNvDSXcb",
        "outputId": "5da9a079-cbb8-4231-ce38-2606f709da67"
      },
      "execution_count": null,
      "outputs": [
        {
          "output_type": "display_data",
          "data": {
            "text/plain": [
              "Downloading (…)solve/main/vocab.txt:   0%|          | 0.00/232k [00:00<?, ?B/s]"
            ],
            "application/vnd.jupyter.widget-view+json": {
              "version_major": 2,
              "version_minor": 0,
              "model_id": "50dedb920f34485a83934a663dfd5235"
            }
          },
          "metadata": {}
        },
        {
          "output_type": "display_data",
          "data": {
            "text/plain": [
              "Downloading (…)okenizer_config.json:   0%|          | 0.00/28.0 [00:00<?, ?B/s]"
            ],
            "application/vnd.jupyter.widget-view+json": {
              "version_major": 2,
              "version_minor": 0,
              "model_id": "1205644c3d8b487f948d0a77611b1e85"
            }
          },
          "metadata": {}
        },
        {
          "output_type": "display_data",
          "data": {
            "text/plain": [
              "Downloading (…)lve/main/config.json:   0%|          | 0.00/570 [00:00<?, ?B/s]"
            ],
            "application/vnd.jupyter.widget-view+json": {
              "version_major": 2,
              "version_minor": 0,
              "model_id": "78e0a0f5fd68494f90bf9bbcfc014a64"
            }
          },
          "metadata": {}
        },
        {
          "output_type": "display_data",
          "data": {
            "text/plain": [
              "Downloading model.safetensors:   0%|          | 0.00/440M [00:00<?, ?B/s]"
            ],
            "application/vnd.jupyter.widget-view+json": {
              "version_major": 2,
              "version_minor": 0,
              "model_id": "e617f746723043f0b46ee4b8fcdd6b9d"
            }
          },
          "metadata": {}
        }
      ]
    },
    {
      "cell_type": "code",
      "source": [
        "sentence = 'I really enjoyed this movie a lot.'\n",
        "\n",
        "tokens = tokenizer.tokenize(sentence)\n",
        "print(tokens)"
      ],
      "metadata": {
        "colab": {
          "base_uri": "https://localhost:8080/"
        },
        "id": "VqfvDEBpUNpO",
        "outputId": "510c7cce-73fb-47e8-a5d2-954bad85ba9f"
      },
      "execution_count": null,
      "outputs": [
        {
          "output_type": "stream",
          "name": "stdout",
          "text": [
            "['i', 'really', 'enjoyed', 'this', 'movie', 'a', 'lot', '.']\n"
          ]
        }
      ]
    },
    {
      "cell_type": "code",
      "source": [
        "tokens = ['[CLS]'] + tokens + ['[SEP]']\n",
        "tokens"
      ],
      "metadata": {
        "colab": {
          "base_uri": "https://localhost:8080/"
        },
        "id": "jEUDNBflUP_m",
        "outputId": "ab966229-6071-4bfb-f808-163d86627d24"
      },
      "execution_count": null,
      "outputs": [
        {
          "output_type": "execute_result",
          "data": {
            "text/plain": [
              "['[CLS]', 'i', 'really', 'enjoyed', 'this', 'movie', 'a', 'lot', '.', '[SEP]']"
            ]
          },
          "metadata": {},
          "execution_count": 62
        }
      ]
    },
    {
      "cell_type": "code",
      "source": [
        "max_length=15\n",
        "padded_tokens = tokens + ['[PAD]' for _ in range(max_length-len(tokens))]\n",
        "print(\"Padded tokens are \\n {} \".format(padded_tokens))\n",
        "attn_mask = [ 1 if token != '[PAD]' else 0 for token in padded_tokens  ]\n",
        "print(\"Attention Mask are \\n {} \".format(attn_mask))"
      ],
      "metadata": {
        "colab": {
          "base_uri": "https://localhost:8080/"
        },
        "id": "k9DswGfGUTPy",
        "outputId": "21ce050c-dedf-4ebc-fa91-b3a6fbc63ea5"
      },
      "execution_count": null,
      "outputs": [
        {
          "output_type": "stream",
          "name": "stdout",
          "text": [
            "Padded tokens are \n",
            " ['[CLS]', 'i', 'really', 'enjoyed', 'this', 'movie', 'a', 'lot', '.', '[SEP]', '[PAD]', '[PAD]', '[PAD]', '[PAD]', '[PAD]'] \n",
            "Attention Mask are \n",
            " [1, 1, 1, 1, 1, 1, 1, 1, 1, 1, 0, 0, 0, 0, 0] \n"
          ]
        }
      ]
    },
    {
      "cell_type": "code",
      "source": [
        "seg_ids = [0 for _ in range(len(padded_tokens))]"
      ],
      "metadata": {
        "id": "RQa5650JUajS"
      },
      "execution_count": null,
      "outputs": []
    },
    {
      "cell_type": "code",
      "source": [
        "sent_ids = tokenizer.convert_tokens_to_ids(padded_tokens)\n",
        "token_ids = torch.tensor(sent_ids).unsqueeze(0)\n",
        "attn_mask = torch.tensor(attn_mask).unsqueeze(0)\n",
        "seg_ids   = torch.tensor(seg_ids).unsqueeze(0)\n",
        "\n",
        "print(token_ids)\n",
        "print(attn_mask)\n",
        "print(seg_ids)"
      ],
      "metadata": {
        "colab": {
          "base_uri": "https://localhost:8080/"
        },
        "id": "xB1sE_vbUcDD",
        "outputId": "2df397c8-80c9-44ed-a475-1894344b0223"
      },
      "execution_count": null,
      "outputs": [
        {
          "output_type": "stream",
          "name": "stdout",
          "text": [
            "tensor([[ 101, 1045, 2428, 5632, 2023, 3185, 1037, 2843, 1012,  102,    0,    0,\n",
            "            0,    0,    0]])\n",
            "tensor([[1, 1, 1, 1, 1, 1, 1, 1, 1, 1, 0, 0, 0, 0, 0]])\n",
            "tensor([[0, 0, 0, 0, 0, 0, 0, 0, 0, 0, 0, 0, 0, 0, 0]])\n"
          ]
        }
      ]
    },
    {
      "cell_type": "code",
      "source": [
        "output = model(token_ids, attention_mask=attn_mask,token_type_ids=seg_ids)\n",
        "last_hidden_state, pooler_output = output[0], output[1]\n",
        "\n",
        "print(last_hidden_state.shape) #hidden states of each token\n",
        "print(pooler_output.shape) #hidden states of [cls] (forward one linear layer and Tanh activation)"
      ],
      "metadata": {
        "colab": {
          "base_uri": "https://localhost:8080/"
        },
        "id": "tRPps1mhUc4d",
        "outputId": "7709f584-0112-4479-a1c4-166e600341e6"
      },
      "execution_count": null,
      "outputs": [
        {
          "output_type": "stream",
          "name": "stdout",
          "text": [
            "torch.Size([1, 15, 768])\n",
            "torch.Size([1, 768])\n"
          ]
        }
      ]
    },
    {
      "cell_type": "markdown",
      "source": [
        "[Sentence-BERT](https://arxiv.org/abs/1908.10084)"
      ],
      "metadata": {
        "id": "6vWAqDXkV-US"
      }
    },
    {
      "cell_type": "markdown",
      "source": [
        "![image.png](data:image/png;base64,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)"
      ],
      "metadata": {
        "id": "2aqSEsgVWDXR"
      }
    },
    {
      "cell_type": "code",
      "source": [
        "from sentence_transformers import SentenceTransformer, util\n",
        "sentences = [\"I'm boring\", \"I'm full of happiness\"]\n",
        "\n",
        "model = SentenceTransformer('sentence-transformers/all-MiniLM-L6-v2')\n",
        "\n",
        "\n",
        "embedding_1= model.encode(sentences[0], convert_to_tensor=True)\n",
        "embedding_2 = model.encode(sentences[1], convert_to_tensor=True)\n",
        "\n",
        "util.pytorch_cos_sim(embedding_1, embedding_2)"
      ],
      "metadata": {
        "colab": {
          "base_uri": "https://localhost:8080/"
        },
        "id": "CzttyjD4VurJ",
        "outputId": "ade00cf8-5f15-421e-99ea-252abfc66de7"
      },
      "execution_count": null,
      "outputs": [
        {
          "output_type": "execute_result",
          "data": {
            "text/plain": [
              "tensor([[0.3455]])"
            ]
          },
          "metadata": {},
          "execution_count": 73
        }
      ]
    },
    {
      "cell_type": "markdown",
      "source": [
        "Mô hình [E5](https://arxiv.org/abs/2212.03533)"
      ],
      "metadata": {
        "id": "s8oCE9tKYcRX"
      }
    },
    {
      "cell_type": "code",
      "source": [
        "import torch.nn.functional as F\n",
        "\n",
        "from torch import Tensor\n",
        "from transformers import AutoTokenizer, AutoModel\n",
        "\n",
        "\n",
        "def average_pool(last_hidden_states: Tensor,\n",
        "                 attention_mask: Tensor) -> Tensor:\n",
        "    last_hidden = last_hidden_states.masked_fill(~attention_mask[..., None].bool(), 0.0)\n",
        "    return last_hidden.sum(dim=1) / attention_mask.sum(dim=1)[..., None]\n",
        "\n",
        "\n",
        "\n",
        "input_texts = ['query: Tôi rất vui',\n",
        "               'query: It is very hot today',\n",
        "               \"passage: I'm very happy\",\n",
        "               \"passage: Hôm nay trời lạnh quá\",\n",
        "              ]\n",
        "\n",
        "tokenizer = AutoTokenizer.from_pretrained('intfloat/multilingual-e5-large')\n",
        "model = AutoModel.from_pretrained('intfloat/multilingual-e5-large')\n",
        "\n",
        "# Tokenize the input texts\n",
        "batch_dict = tokenizer(input_texts, max_length=512, padding=True, truncation=True, return_tensors='pt')\n",
        "\n",
        "outputs = model(**batch_dict)\n",
        "embeddings = average_pool(outputs.last_hidden_state, batch_dict['attention_mask'])\n",
        "\n",
        "# normalize embeddings\n",
        "embeddings = F.normalize(embeddings, p=2, dim=1)\n",
        "scores = (embeddings[:2] @ embeddings[2:].T) * 100\n",
        "print(scores.tolist())"
      ],
      "metadata": {
        "colab": {
          "base_uri": "https://localhost:8080/"
        },
        "id": "0q8kPT4wWwbb",
        "outputId": "de9bf52e-6040-4ff3-f770-b5fe2525257f"
      },
      "execution_count": null,
      "outputs": [
        {
          "output_type": "stream",
          "name": "stdout",
          "text": [
            "[[90.29885864257812, 78.70536804199219], [74.1211929321289, 77.53548431396484]]\n"
          ]
        }
      ]
    }
  ]
}