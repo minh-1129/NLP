{
  "cells": [
    {
      "cell_type": "code",
      "execution_count": null,
      "metadata": {
        "id": "a664cPCJvjJf"
      },
      "outputs": [],
      "source": [
        "import sys\n",
        "import numpy as np\n",
        "import pandas as pd\n",
        "import matplotlib.pyplot as plt\n",
        "import sklearn"
      ]
    },
    {
      "cell_type": "markdown",
      "metadata": {
        "id": "O_jd2VDDF-RF"
      },
      "source": [
        "# Numpy"
      ]
    },
    {
      "cell_type": "code",
      "execution_count": null,
      "metadata": {
        "id": "FDk4H5psMBk5"
      },
      "outputs": [],
      "source": [
        "l = list(range(100000))"
      ]
    },
    {
      "cell_type": "code",
      "execution_count": null,
      "metadata": {
        "id": "qX5MOzIaMC6n"
      },
      "outputs": [],
      "source": [
        "a = np.arange(100000)"
      ]
    },
    {
      "cell_type": "code",
      "source": [
        "a.shape"
      ],
      "metadata": {
        "colab": {
          "base_uri": "https://localhost:8080/"
        },
        "id": "b2cN3aYKpYxt",
        "outputId": "1ccf4ed4-5518-4c37-dfd7-34404da61b7f"
      },
      "execution_count": null,
      "outputs": [
        {
          "output_type": "execute_result",
          "data": {
            "text/plain": [
              "(100000,)"
            ]
          },
          "metadata": {},
          "execution_count": 4
        }
      ]
    },
    {
      "cell_type": "code",
      "execution_count": null,
      "metadata": {
        "colab": {
          "base_uri": "https://localhost:8080/"
        },
        "id": "ZYN_PcuuMETv",
        "outputId": "f57be267-eb01-4557-b0c0-d341a9284554"
      },
      "outputs": [
        {
          "output_type": "stream",
          "name": "stdout",
          "text": [
            "CPU times: user 1.33 ms, sys: 1.05 ms, total: 2.38 ms\n",
            "Wall time: 6.3 ms\n"
          ]
        },
        {
          "output_type": "execute_result",
          "data": {
            "text/plain": [
              "333328333350000"
            ]
          },
          "metadata": {},
          "execution_count": 5
        }
      ],
      "source": [
        "%time np.sum(a ** 2)"
      ]
    },
    {
      "cell_type": "code",
      "execution_count": null,
      "metadata": {
        "colab": {
          "base_uri": "https://localhost:8080/"
        },
        "id": "0Wov2DmBMH9f",
        "outputId": "14d30317-d921-4f16-8b07-768d48eaf984"
      },
      "outputs": [
        {
          "output_type": "stream",
          "name": "stdout",
          "text": [
            "CPU times: user 43.6 ms, sys: 0 ns, total: 43.6 ms\n",
            "Wall time: 46.5 ms\n"
          ]
        },
        {
          "output_type": "execute_result",
          "data": {
            "text/plain": [
              "333328333350000"
            ]
          },
          "metadata": {},
          "execution_count": 6
        }
      ],
      "source": [
        "%time sum([x ** 2 for x in l])"
      ]
    },
    {
      "cell_type": "code",
      "execution_count": null,
      "metadata": {
        "colab": {
          "base_uri": "https://localhost:8080/"
        },
        "id": "vPp_Wx-gGB4P",
        "outputId": "7ce22bb2-c812-4282-fbaf-32b0165bfe47"
      },
      "outputs": [
        {
          "output_type": "stream",
          "name": "stdout",
          "text": [
            " ones(shape, dtype=None, order='C', *, like=None)\n",
            "\n",
            "Return a new array of given shape and type, filled with ones.\n",
            "\n",
            "Parameters\n",
            "----------\n",
            "shape : int or sequence of ints\n",
            "    Shape of the new array, e.g., ``(2, 3)`` or ``2``.\n",
            "dtype : data-type, optional\n",
            "    The desired data-type for the array, e.g., `numpy.int8`.  Default is\n",
            "    `numpy.float64`.\n",
            "order : {'C', 'F'}, optional, default: C\n",
            "    Whether to store multi-dimensional data in row-major\n",
            "    (C-style) or column-major (Fortran-style) order in\n",
            "    memory.\n",
            "like : array_like, optional\n",
            "    Reference object to allow the creation of arrays which are not\n",
            "    NumPy arrays. If an array-like passed in as ``like`` supports\n",
            "    the ``__array_function__`` protocol, the result will be defined\n",
            "    by it. In this case, it ensures the creation of an array object\n",
            "    compatible with that passed in via this argument.\n",
            "\n",
            "    .. versionadded:: 1.20.0\n",
            "\n",
            "Returns\n",
            "-------\n",
            "out : ndarray\n",
            "    Array of ones with the given shape, dtype, and order.\n",
            "\n",
            "See Also\n",
            "--------\n",
            "ones_like : Return an array of ones with shape and type of input.\n",
            "empty : Return a new uninitialized array.\n",
            "zeros : Return a new array setting values to zero.\n",
            "full : Return a new array of given shape filled with value.\n",
            "\n",
            "\n",
            "Examples\n",
            "--------\n",
            ">>> np.ones(5)\n",
            "array([1., 1., 1., 1., 1.])\n",
            "\n",
            ">>> np.ones((5,), dtype=int)\n",
            "array([1, 1, 1, 1, 1])\n",
            "\n",
            ">>> np.ones((2, 1))\n",
            "array([[1.],\n",
            "       [1.]])\n",
            "\n",
            ">>> s = (2,2)\n",
            ">>> np.ones(s)\n",
            "array([[1.,  1.],\n",
            "       [1.,  1.]])\n"
          ]
        }
      ],
      "source": [
        "# Hiển thị mô tả của các hàm trong numpy\n",
        "np.info(np.ones, output=sys.stdout)"
      ]
    },
    {
      "cell_type": "code",
      "execution_count": null,
      "metadata": {
        "colab": {
          "base_uri": "https://localhost:8080/"
        },
        "id": "9gGieufwNNK8",
        "outputId": "19632c7b-2c1b-47d9-edf6-5a425f8c8b57"
      },
      "outputs": [
        {
          "output_type": "stream",
          "name": "stdout",
          "text": [
            "class:  ndarray\n",
            "shape:  (100000,)\n",
            "strides:  (8,)\n",
            "itemsize:  8\n",
            "aligned:  True\n",
            "contiguous:  True\n",
            "fortran:  True\n",
            "data pointer: 0x5bcdc1a23dc0\n",
            "byteorder:  little\n",
            "byteswap:  False\n",
            "type: int64\n"
          ]
        }
      ],
      "source": [
        "np.info(a)"
      ]
    },
    {
      "cell_type": "code",
      "execution_count": null,
      "metadata": {
        "colab": {
          "base_uri": "https://localhost:8080/"
        },
        "id": "MxsqwIiIGH91",
        "outputId": "9942e951-f67b-43e7-bb82-7bc3c977f11b"
      },
      "outputs": [
        {
          "output_type": "execute_result",
          "data": {
            "text/plain": [
              "array([1, 2, 3, 4])"
            ]
          },
          "metadata": {},
          "execution_count": 9
        }
      ],
      "source": [
        "mylist = [1, 2, 3, 4]\n",
        "x = np.array(mylist)\n",
        "x"
      ]
    },
    {
      "cell_type": "code",
      "execution_count": null,
      "metadata": {
        "id": "d_JMfpLuG4Yu"
      },
      "outputs": [],
      "source": [
        "a = np.array([1, 2, 3, 4])"
      ]
    },
    {
      "cell_type": "code",
      "execution_count": null,
      "metadata": {
        "id": "36vQTb-rG9av"
      },
      "outputs": [],
      "source": [
        "b = np.array([0, .5, 1, 1.5, 2])"
      ]
    },
    {
      "cell_type": "code",
      "source": [
        "b"
      ],
      "metadata": {
        "colab": {
          "base_uri": "https://localhost:8080/"
        },
        "id": "uMcZA8jUlfDv",
        "outputId": "ff8d4d58-9c3a-450e-db60-3abff192d118"
      },
      "execution_count": null,
      "outputs": [
        {
          "output_type": "execute_result",
          "data": {
            "text/plain": [
              "array([0. , 0.5, 1. , 1.5, 2. ])"
            ]
          },
          "metadata": {},
          "execution_count": 12
        }
      ]
    },
    {
      "cell_type": "code",
      "execution_count": null,
      "metadata": {
        "colab": {
          "base_uri": "https://localhost:8080/"
        },
        "id": "eFe5OHf4HBR6",
        "outputId": "877d5b78-3cb6-4b56-9f76-411f541deb0f"
      },
      "outputs": [
        {
          "output_type": "execute_result",
          "data": {
            "text/plain": [
              "(1, 2)"
            ]
          },
          "metadata": {},
          "execution_count": 13
        }
      ],
      "source": [
        "a[0], a[1]"
      ]
    },
    {
      "cell_type": "markdown",
      "metadata": {
        "id": "sltoGS53A0rQ"
      },
      "source": [
        "**Slicing**\n",
        "\n",
        "\n",
        "```x[start:stop:step]```\n",
        "\n"
      ]
    },
    {
      "cell_type": "code",
      "execution_count": null,
      "metadata": {
        "colab": {
          "base_uri": "https://localhost:8080/"
        },
        "id": "0Ppxwp0EHKXv",
        "outputId": "233e513d-5ed1-4d75-fe8d-c21cce9d14df"
      },
      "outputs": [
        {
          "output_type": "execute_result",
          "data": {
            "text/plain": [
              "array([2, 3])"
            ]
          },
          "metadata": {},
          "execution_count": 14
        }
      ],
      "source": [
        "a[1:3]"
      ]
    },
    {
      "cell_type": "code",
      "execution_count": null,
      "metadata": {
        "colab": {
          "base_uri": "https://localhost:8080/"
        },
        "id": "vjZvP_9GHO4C",
        "outputId": "4bc0768e-ad92-4fc0-f00d-fd4f636ee347"
      },
      "outputs": [
        {
          "output_type": "execute_result",
          "data": {
            "text/plain": [
              "array([2, 3])"
            ]
          },
          "metadata": {},
          "execution_count": 15
        }
      ],
      "source": [
        "a[1:-1]"
      ]
    },
    {
      "cell_type": "code",
      "execution_count": null,
      "metadata": {
        "colab": {
          "base_uri": "https://localhost:8080/"
        },
        "id": "pfVMLBWnHGBf",
        "outputId": "634791ca-1caa-4843-cf8f-6dfb1e1ff864"
      },
      "outputs": [
        {
          "output_type": "execute_result",
          "data": {
            "text/plain": [
              "array([1, 2, 3, 4])"
            ]
          },
          "metadata": {},
          "execution_count": 16
        }
      ],
      "source": [
        "a[0:]"
      ]
    },
    {
      "cell_type": "code",
      "execution_count": null,
      "metadata": {
        "colab": {
          "base_uri": "https://localhost:8080/"
        },
        "id": "bFma-sa-HbI6",
        "outputId": "7578b0d6-1966-49a0-cffd-d71723e5d004"
      },
      "outputs": [
        {
          "output_type": "execute_result",
          "data": {
            "text/plain": [
              "array([1, 3])"
            ]
          },
          "metadata": {},
          "execution_count": 17
        }
      ],
      "source": [
        "a[::2]"
      ]
    },
    {
      "cell_type": "code",
      "execution_count": null,
      "metadata": {
        "colab": {
          "base_uri": "https://localhost:8080/"
        },
        "id": "BFJjrZ5zHoGb",
        "outputId": "d30d6095-9eed-403a-89f5-3fd9aadd480d"
      },
      "outputs": [
        {
          "output_type": "execute_result",
          "data": {
            "text/plain": [
              "array([0. , 0.5, 1. , 1.5, 2. ])"
            ]
          },
          "metadata": {},
          "execution_count": 18
        }
      ],
      "source": [
        "b"
      ]
    },
    {
      "cell_type": "code",
      "execution_count": null,
      "metadata": {
        "colab": {
          "base_uri": "https://localhost:8080/"
        },
        "id": "tcWqIzSuHrcL",
        "outputId": "5ba4617e-d7a1-479f-c102-ebabace530d0"
      },
      "outputs": [
        {
          "output_type": "execute_result",
          "data": {
            "text/plain": [
              "(0.0, 1.0, 2.0)"
            ]
          },
          "metadata": {},
          "execution_count": 19
        }
      ],
      "source": [
        "b[0], b[2], b[-1]"
      ]
    },
    {
      "cell_type": "code",
      "execution_count": null,
      "metadata": {
        "colab": {
          "base_uri": "https://localhost:8080/"
        },
        "id": "7JahKTcGHwqh",
        "outputId": "9fb9af93-3547-40fc-8e86-26256137722c"
      },
      "outputs": [
        {
          "output_type": "execute_result",
          "data": {
            "text/plain": [
              "array([0., 1., 2.])"
            ]
          },
          "metadata": {},
          "execution_count": 20
        }
      ],
      "source": [
        "b[[0,2,-1]]"
      ]
    },
    {
      "cell_type": "markdown",
      "metadata": {
        "id": "iGEIVvI1IDqz"
      },
      "source": [
        "## Kiểu dữ liệu"
      ]
    },
    {
      "cell_type": "code",
      "execution_count": null,
      "metadata": {
        "colab": {
          "base_uri": "https://localhost:8080/"
        },
        "id": "8jpizFQaIDFD",
        "outputId": "cd94da6a-e36b-4a88-80f3-4f6245c37ab8"
      },
      "outputs": [
        {
          "output_type": "execute_result",
          "data": {
            "text/plain": [
              "array([1, 2, 3, 4])"
            ]
          },
          "metadata": {},
          "execution_count": 21
        }
      ],
      "source": [
        "a"
      ]
    },
    {
      "cell_type": "code",
      "execution_count": null,
      "metadata": {
        "colab": {
          "base_uri": "https://localhost:8080/"
        },
        "id": "XAA4QiBKH4oF",
        "outputId": "efcf7a41-00cd-42cd-9277-76fcdba6de19"
      },
      "outputs": [
        {
          "output_type": "execute_result",
          "data": {
            "text/plain": [
              "dtype('int64')"
            ]
          },
          "metadata": {},
          "execution_count": 22
        }
      ],
      "source": [
        "a.dtype"
      ]
    },
    {
      "cell_type": "code",
      "execution_count": null,
      "metadata": {
        "colab": {
          "base_uri": "https://localhost:8080/"
        },
        "id": "ERogG1v9IJvw",
        "outputId": "9e89c46a-0c0a-4ec1-acb0-a57ec851db16"
      },
      "outputs": [
        {
          "output_type": "execute_result",
          "data": {
            "text/plain": [
              "array([0. , 0.5, 1. , 1.5, 2. ])"
            ]
          },
          "metadata": {},
          "execution_count": 23
        }
      ],
      "source": [
        "b"
      ]
    },
    {
      "cell_type": "code",
      "execution_count": null,
      "metadata": {
        "colab": {
          "base_uri": "https://localhost:8080/"
        },
        "id": "Am9jn18qILbs",
        "outputId": "19eb3713-3bb4-4f9d-e3a9-eebdebaeb651"
      },
      "outputs": [
        {
          "output_type": "execute_result",
          "data": {
            "text/plain": [
              "dtype('float64')"
            ]
          },
          "metadata": {},
          "execution_count": 24
        }
      ],
      "source": [
        "b.dtype"
      ]
    },
    {
      "cell_type": "code",
      "execution_count": null,
      "metadata": {
        "colab": {
          "base_uri": "https://localhost:8080/"
        },
        "id": "YCRE3QlWINUn",
        "outputId": "3048bc2b-1a12-4ec1-c133-ae095ad78af4"
      },
      "outputs": [
        {
          "output_type": "stream",
          "name": "stderr",
          "text": [
            "<ipython-input-25-0f940a29e73f>:1: DeprecationWarning: `np.float` is a deprecated alias for the builtin `float`. To silence this warning, use `float` by itself. Doing this will not modify any behavior and is safe. If you specifically wanted the numpy scalar type, use `np.float64` here.\n",
            "Deprecated in NumPy 1.20; for more details and guidance: https://numpy.org/devdocs/release/1.20.0-notes.html#deprecations\n",
            "  x =np.array([1, 2, 3, 4], dtype=np.float)\n"
          ]
        },
        {
          "output_type": "execute_result",
          "data": {
            "text/plain": [
              "dtype('float64')"
            ]
          },
          "metadata": {},
          "execution_count": 25
        }
      ],
      "source": [
        "x =np.array([1, 2, 3, 4], dtype=np.float)\n",
        "x.dtype"
      ]
    },
    {
      "cell_type": "code",
      "execution_count": null,
      "metadata": {
        "colab": {
          "base_uri": "https://localhost:8080/"
        },
        "id": "b_06IJfnIQCT",
        "outputId": "85bdd1ef-fe4f-46aa-a8b1-f9a73458ca01"
      },
      "outputs": [
        {
          "output_type": "execute_result",
          "data": {
            "text/plain": [
              "array([1, 2, 3, 4], dtype=int8)"
            ]
          },
          "metadata": {},
          "execution_count": 26
        }
      ],
      "source": [
        "np.array([1, 2, 3, 4], dtype=np.int8)"
      ]
    },
    {
      "cell_type": "code",
      "execution_count": null,
      "metadata": {
        "id": "TlI6__J5IWmY"
      },
      "outputs": [],
      "source": [
        "c = np.array(['a', 'b', 'c'])"
      ]
    },
    {
      "cell_type": "code",
      "execution_count": null,
      "metadata": {
        "colab": {
          "base_uri": "https://localhost:8080/"
        },
        "id": "qIt1M0skIYDq",
        "outputId": "126d79a0-472f-4ce8-e50e-4b053a03d40a"
      },
      "outputs": [
        {
          "output_type": "execute_result",
          "data": {
            "text/plain": [
              "dtype('<U1')"
            ]
          },
          "metadata": {},
          "execution_count": 28
        }
      ],
      "source": [
        "c.dtype"
      ]
    },
    {
      "cell_type": "code",
      "execution_count": null,
      "metadata": {
        "id": "VVKjExM3IZ0z"
      },
      "outputs": [],
      "source": [
        "d = np.array([{'a': 1}])"
      ]
    },
    {
      "cell_type": "code",
      "execution_count": null,
      "metadata": {
        "colab": {
          "base_uri": "https://localhost:8080/"
        },
        "id": "gfkf9wZFIcGQ",
        "outputId": "b1448da7-2361-4444-c9f8-3d79e266c271"
      },
      "outputs": [
        {
          "output_type": "execute_result",
          "data": {
            "text/plain": [
              "dtype('O')"
            ]
          },
          "metadata": {},
          "execution_count": 30
        }
      ],
      "source": [
        "d.dtype"
      ]
    },
    {
      "cell_type": "markdown",
      "metadata": {
        "id": "ajIbark-IgjX"
      },
      "source": [
        "## Chiều dữ liệu (dimension and shapes)"
      ]
    },
    {
      "cell_type": "code",
      "execution_count": null,
      "metadata": {
        "id": "s5YiqWR4IknL"
      },
      "outputs": [],
      "source": [
        "A = np.array([\n",
        "    [1, 2, 3],\n",
        "    [4, 5, 6]\n",
        "])"
      ]
    },
    {
      "cell_type": "code",
      "execution_count": null,
      "metadata": {
        "colab": {
          "base_uri": "https://localhost:8080/"
        },
        "id": "FUSj1Q9fIm1t",
        "outputId": "129fcb44-f572-479c-ec0f-de741453f557"
      },
      "outputs": [
        {
          "output_type": "execute_result",
          "data": {
            "text/plain": [
              "(2, 3)"
            ]
          },
          "metadata": {},
          "execution_count": 32
        }
      ],
      "source": [
        "A.shape"
      ]
    },
    {
      "cell_type": "code",
      "execution_count": null,
      "metadata": {
        "colab": {
          "base_uri": "https://localhost:8080/"
        },
        "id": "L8ib1-QYIodd",
        "outputId": "9b2af123-bb98-447f-8f24-472720ebbb05"
      },
      "outputs": [
        {
          "output_type": "execute_result",
          "data": {
            "text/plain": [
              "2"
            ]
          },
          "metadata": {},
          "execution_count": 33
        }
      ],
      "source": [
        "A.ndim"
      ]
    },
    {
      "cell_type": "code",
      "execution_count": null,
      "metadata": {
        "colab": {
          "base_uri": "https://localhost:8080/"
        },
        "id": "aK9y5Nd4IpwE",
        "outputId": "84949cc8-3aaa-40da-80c1-91a4afa97683"
      },
      "outputs": [
        {
          "output_type": "execute_result",
          "data": {
            "text/plain": [
              "6"
            ]
          },
          "metadata": {},
          "execution_count": 34
        }
      ],
      "source": [
        "A.size"
      ]
    },
    {
      "cell_type": "code",
      "source": [
        "a.size"
      ],
      "metadata": {
        "colab": {
          "base_uri": "https://localhost:8080/"
        },
        "id": "zzOLpAkQneBd",
        "outputId": "4cb27e09-de6b-478b-e305-a721fc08bac3"
      },
      "execution_count": null,
      "outputs": [
        {
          "output_type": "execute_result",
          "data": {
            "text/plain": [
              "4"
            ]
          },
          "metadata": {},
          "execution_count": 35
        }
      ]
    },
    {
      "cell_type": "code",
      "execution_count": null,
      "metadata": {
        "colab": {
          "base_uri": "https://localhost:8080/"
        },
        "id": "6ilYEk3CIrCc",
        "outputId": "69987dde-5eea-4482-ed46-c88048d6d4a9"
      },
      "outputs": [
        {
          "output_type": "stream",
          "name": "stderr",
          "text": [
            "<ipython-input-36-9353149c23f9>:1: VisibleDeprecationWarning: Creating an ndarray from ragged nested sequences (which is a list-or-tuple of lists-or-tuples-or ndarrays with different lengths or shapes) is deprecated. If you meant to do this, you must specify 'dtype=object' when creating the ndarray.\n",
            "  B = np.array([\n"
          ]
        },
        {
          "output_type": "execute_result",
          "data": {
            "text/plain": [
              "array([[list([12, 11, 10]), list([9, 8, 7])],\n",
              "       [list([6, 5, 4]), list([3, 2, 1, 5])]], dtype=object)"
            ]
          },
          "metadata": {},
          "execution_count": 36
        }
      ],
      "source": [
        "B = np.array([\n",
        "    [\n",
        "        [12, 11, 10],\n",
        "        [9, 8, 7],\n",
        "    ],\n",
        "    [\n",
        "        [6, 5, 4],\n",
        "        [3, 2, 1,5]\n",
        "    ]\n",
        "])\n",
        "B"
      ]
    },
    {
      "cell_type": "code",
      "execution_count": null,
      "metadata": {
        "colab": {
          "base_uri": "https://localhost:8080/"
        },
        "id": "NeYjs1ALItHl",
        "outputId": "fbf691b5-ed8e-4492-d88e-1a5eb1e067eb"
      },
      "outputs": [
        {
          "output_type": "execute_result",
          "data": {
            "text/plain": [
              "(2, 2)"
            ]
          },
          "metadata": {},
          "execution_count": 37
        }
      ],
      "source": [
        "B.shape"
      ]
    },
    {
      "cell_type": "code",
      "execution_count": null,
      "metadata": {
        "colab": {
          "base_uri": "https://localhost:8080/"
        },
        "id": "BfyIV1kSIuv0",
        "outputId": "8278f1ab-a2c3-4ac9-f31e-df8a8a1fb6ca"
      },
      "outputs": [
        {
          "output_type": "execute_result",
          "data": {
            "text/plain": [
              "2"
            ]
          },
          "metadata": {},
          "execution_count": 38
        }
      ],
      "source": [
        "B.ndim"
      ]
    },
    {
      "cell_type": "code",
      "execution_count": null,
      "metadata": {
        "colab": {
          "base_uri": "https://localhost:8080/"
        },
        "id": "tHuS49MpIxhi",
        "outputId": "0223cfab-8c65-4b30-e394-a18e17af5e86"
      },
      "outputs": [
        {
          "output_type": "execute_result",
          "data": {
            "text/plain": [
              "4"
            ]
          },
          "metadata": {},
          "execution_count": 39
        }
      ],
      "source": [
        "B.size"
      ]
    },
    {
      "cell_type": "markdown",
      "metadata": {
        "id": "QimQYl8lI0hH"
      },
      "source": [
        "Nếu shape không đồng nhất, numpy sẽ hiểu đây là các object"
      ]
    },
    {
      "cell_type": "code",
      "execution_count": null,
      "metadata": {
        "colab": {
          "base_uri": "https://localhost:8080/"
        },
        "id": "4QLxlL3pIyB4",
        "outputId": "08f23098-ad38-4bce-f1f3-50ea10cb3a36"
      },
      "outputs": [
        {
          "output_type": "stream",
          "name": "stderr",
          "text": [
            "<ipython-input-40-39b57e6bbad9>:1: VisibleDeprecationWarning: Creating an ndarray from ragged nested sequences (which is a list-or-tuple of lists-or-tuples-or ndarrays with different lengths or shapes) is deprecated. If you meant to do this, you must specify 'dtype=object' when creating the ndarray.\n",
            "  C = np.array([\n"
          ]
        }
      ],
      "source": [
        "C = np.array([\n",
        "    [\n",
        "        [12, 11, 10],\n",
        "        [9, 8, 7],\n",
        "    ],\n",
        "    [\n",
        "        [6, 5, 4]\n",
        "    ]\n",
        "])"
      ]
    },
    {
      "cell_type": "code",
      "execution_count": null,
      "metadata": {
        "colab": {
          "base_uri": "https://localhost:8080/"
        },
        "id": "1Fv_2emZI450",
        "outputId": "5d290981-0fb3-4330-bd41-9e576fb32576"
      },
      "outputs": [
        {
          "output_type": "execute_result",
          "data": {
            "text/plain": [
              "dtype('O')"
            ]
          },
          "metadata": {},
          "execution_count": 41
        }
      ],
      "source": [
        "C.dtype"
      ]
    },
    {
      "cell_type": "code",
      "execution_count": null,
      "metadata": {
        "colab": {
          "base_uri": "https://localhost:8080/"
        },
        "id": "prb6y6iyI6Cd",
        "outputId": "cc6982a0-9179-47ca-928c-093db59cf5d1"
      },
      "outputs": [
        {
          "output_type": "execute_result",
          "data": {
            "text/plain": [
              "(2,)"
            ]
          },
          "metadata": {},
          "execution_count": 42
        }
      ],
      "source": [
        "C.shape"
      ]
    },
    {
      "cell_type": "code",
      "execution_count": null,
      "metadata": {
        "colab": {
          "base_uri": "https://localhost:8080/"
        },
        "id": "oIYyPnfFI7Me",
        "outputId": "84444ddf-95fa-4c94-b3d2-2d2234e69299"
      },
      "outputs": [
        {
          "output_type": "execute_result",
          "data": {
            "text/plain": [
              "2"
            ]
          },
          "metadata": {},
          "execution_count": 43
        }
      ],
      "source": [
        "C.size"
      ]
    },
    {
      "cell_type": "code",
      "execution_count": null,
      "metadata": {
        "colab": {
          "base_uri": "https://localhost:8080/"
        },
        "id": "CMPxujAqI9K6",
        "outputId": "b2c17903-1aa5-4f23-bdc4-0e3ff9d533b7"
      },
      "outputs": [
        {
          "output_type": "execute_result",
          "data": {
            "text/plain": [
              "(list, list)"
            ]
          },
          "metadata": {},
          "execution_count": 44
        }
      ],
      "source": [
        "type(C[0]), type(C[1])"
      ]
    },
    {
      "cell_type": "markdown",
      "metadata": {
        "id": "vDIs49Hvr6ow"
      },
      "source": [
        "## Truy vấn ma trận"
      ]
    },
    {
      "cell_type": "code",
      "execution_count": null,
      "metadata": {
        "colab": {
          "base_uri": "https://localhost:8080/"
        },
        "id": "ab1nOxqor9fI",
        "outputId": "0165f1ff-6f55-4880-a386-896ada900204"
      },
      "outputs": [
        {
          "output_type": "execute_result",
          "data": {
            "text/plain": [
              "(3, 3)"
            ]
          },
          "metadata": {},
          "execution_count": 45
        }
      ],
      "source": [
        "# Square matrix\n",
        "A = np.array([\n",
        "#.   0. 1. 2\n",
        "    [1, 2, 3], # 0\n",
        "    [4, 5, 6], # 1\n",
        "    [7, 8, 9]  # 2\n",
        "])\n",
        "A.shape"
      ]
    },
    {
      "cell_type": "code",
      "execution_count": null,
      "metadata": {
        "colab": {
          "base_uri": "https://localhost:8080/"
        },
        "id": "QI-k19lRsSzF",
        "outputId": "3866b3e2-3de8-4511-cfc7-d8f7c6cc05ae"
      },
      "outputs": [
        {
          "output_type": "execute_result",
          "data": {
            "text/plain": [
              "array([4, 5, 6])"
            ]
          },
          "metadata": {},
          "execution_count": 46
        }
      ],
      "source": [
        "A[1]"
      ]
    },
    {
      "cell_type": "code",
      "execution_count": null,
      "metadata": {
        "colab": {
          "base_uri": "https://localhost:8080/"
        },
        "id": "KgzeZaJXsW-_",
        "outputId": "701d4b3a-9753-48d8-ecf5-68d8f5a493f1"
      },
      "outputs": [
        {
          "output_type": "execute_result",
          "data": {
            "text/plain": [
              "4"
            ]
          },
          "metadata": {},
          "execution_count": 47
        }
      ],
      "source": [
        "A[1][0]"
      ]
    },
    {
      "cell_type": "code",
      "execution_count": null,
      "metadata": {
        "colab": {
          "base_uri": "https://localhost:8080/"
        },
        "id": "p8wGUGzPsZWY",
        "outputId": "010b6c5c-342a-4959-bb3a-ceb6e0ff0aa9"
      },
      "outputs": [
        {
          "output_type": "execute_result",
          "data": {
            "text/plain": [
              "4"
            ]
          },
          "metadata": {},
          "execution_count": 48
        }
      ],
      "source": [
        "A[1, 0]"
      ]
    },
    {
      "cell_type": "code",
      "execution_count": null,
      "metadata": {
        "colab": {
          "base_uri": "https://localhost:8080/"
        },
        "id": "Oe-_lJApshwj",
        "outputId": "90e46ab8-47b8-4728-8c47-9e07606b2b14"
      },
      "outputs": [
        {
          "output_type": "execute_result",
          "data": {
            "text/plain": [
              "array([[1, 2, 3],\n",
              "       [4, 5, 6]])"
            ]
          },
          "metadata": {},
          "execution_count": 49
        }
      ],
      "source": [
        "A[0:2]"
      ]
    },
    {
      "cell_type": "markdown",
      "metadata": {
        "id": "ggJOxV71sjb5"
      },
      "source": [
        "Làm việc với các chiều trong ma trận, sẽ thông qua dấu \",\""
      ]
    },
    {
      "cell_type": "code",
      "execution_count": null,
      "metadata": {
        "colab": {
          "base_uri": "https://localhost:8080/"
        },
        "id": "h5PI8JxCsife",
        "outputId": "66cf2b61-f47d-458e-ee68-7a9671dcb72d"
      },
      "outputs": [
        {
          "output_type": "execute_result",
          "data": {
            "text/plain": [
              "array([[1, 2],\n",
              "       [4, 5],\n",
              "       [7, 8]])"
            ]
          },
          "metadata": {},
          "execution_count": 50
        }
      ],
      "source": [
        "A[:, :2]"
      ]
    },
    {
      "cell_type": "code",
      "execution_count": null,
      "metadata": {
        "colab": {
          "base_uri": "https://localhost:8080/"
        },
        "id": "SL2iH1qlsoWu",
        "outputId": "16eb36a7-1016-4e6f-c7bb-646411d911c2"
      },
      "outputs": [
        {
          "output_type": "execute_result",
          "data": {
            "text/plain": [
              "array([[1, 2],\n",
              "       [4, 5]])"
            ]
          },
          "metadata": {},
          "execution_count": 51
        }
      ],
      "source": [
        "A[:2, :2]"
      ]
    },
    {
      "cell_type": "code",
      "execution_count": null,
      "metadata": {
        "colab": {
          "base_uri": "https://localhost:8080/"
        },
        "id": "-qzsHVAusqCX",
        "outputId": "51ec6f48-3e95-44f1-8603-4634df354787"
      },
      "outputs": [
        {
          "output_type": "execute_result",
          "data": {
            "text/plain": [
              "array([[3],\n",
              "       [6]])"
            ]
          },
          "metadata": {},
          "execution_count": 52
        }
      ],
      "source": [
        "A[:2, 2:]"
      ]
    },
    {
      "cell_type": "code",
      "execution_count": null,
      "metadata": {
        "id": "mtf7Cx1HtK94"
      },
      "outputs": [],
      "source": [
        "A[1] = np.array([10, 10, 10])"
      ]
    },
    {
      "cell_type": "code",
      "source": [
        "A"
      ],
      "metadata": {
        "colab": {
          "base_uri": "https://localhost:8080/"
        },
        "id": "2mCSL6BNo_mS",
        "outputId": "3b2152f7-3768-4eee-cbb5-ce6a5b1122dd"
      },
      "execution_count": null,
      "outputs": [
        {
          "output_type": "execute_result",
          "data": {
            "text/plain": [
              "array([[ 1,  2,  3],\n",
              "       [10, 10, 10],\n",
              "       [ 7,  8,  9]])"
            ]
          },
          "metadata": {},
          "execution_count": 54
        }
      ]
    },
    {
      "cell_type": "code",
      "execution_count": null,
      "metadata": {
        "id": "6FK771i7tLbT"
      },
      "outputs": [],
      "source": [
        "A[2] = 99"
      ]
    },
    {
      "cell_type": "code",
      "execution_count": null,
      "metadata": {
        "colab": {
          "base_uri": "https://localhost:8080/"
        },
        "id": "Z2vBkDETtYNX",
        "outputId": "b8219d3a-d870-41aa-9e24-a3b97c32a252"
      },
      "outputs": [
        {
          "output_type": "execute_result",
          "data": {
            "text/plain": [
              "array([[ 1,  2,  3],\n",
              "       [10, 10, 10],\n",
              "       [99, 99, 99]])"
            ]
          },
          "metadata": {},
          "execution_count": 56
        }
      ],
      "source": [
        "A"
      ]
    },
    {
      "cell_type": "markdown",
      "metadata": {
        "id": "wrzqgD21trut"
      },
      "source": [
        "## Thống kê"
      ]
    },
    {
      "cell_type": "code",
      "execution_count": null,
      "metadata": {
        "id": "sXtoFUOXt2RM"
      },
      "outputs": [],
      "source": [
        "a = np.array([1, 2, 3, 4])"
      ]
    },
    {
      "cell_type": "code",
      "execution_count": null,
      "metadata": {
        "colab": {
          "base_uri": "https://localhost:8080/"
        },
        "id": "jiadysnPt4KL",
        "outputId": "549a2915-3f44-44f0-c75f-eb61ef8fd241"
      },
      "outputs": [
        {
          "output_type": "execute_result",
          "data": {
            "text/plain": [
              "10"
            ]
          },
          "metadata": {},
          "execution_count": 58
        }
      ],
      "source": [
        "a.sum()"
      ]
    },
    {
      "cell_type": "code",
      "execution_count": null,
      "metadata": {
        "colab": {
          "base_uri": "https://localhost:8080/"
        },
        "id": "G2kmiqi-t5kc",
        "outputId": "a4c1ae3f-045e-43d7-abdb-7171e74a382a"
      },
      "outputs": [
        {
          "output_type": "execute_result",
          "data": {
            "text/plain": [
              "2.5"
            ]
          },
          "metadata": {},
          "execution_count": 59
        }
      ],
      "source": [
        "a.mean()"
      ]
    },
    {
      "cell_type": "code",
      "execution_count": null,
      "metadata": {
        "colab": {
          "base_uri": "https://localhost:8080/"
        },
        "id": "AdGMWXP4t60P",
        "outputId": "7e2389f9-fefc-4add-accb-941e2624f668"
      },
      "outputs": [
        {
          "output_type": "execute_result",
          "data": {
            "text/plain": [
              "1.118033988749895"
            ]
          },
          "metadata": {},
          "execution_count": 60
        }
      ],
      "source": [
        "a.std()"
      ]
    },
    {
      "cell_type": "code",
      "execution_count": null,
      "metadata": {
        "id": "U0063jimt765"
      },
      "outputs": [],
      "source": [
        "A = np.array([\n",
        "    [1, 2, 3],\n",
        "    [4, 5, 6],\n",
        "    [7, 8, 9]\n",
        "])"
      ]
    },
    {
      "cell_type": "code",
      "execution_count": null,
      "metadata": {
        "colab": {
          "base_uri": "https://localhost:8080/"
        },
        "id": "sa0RsHxsuJaz",
        "outputId": "258a8175-5fcc-4a37-8fc1-c8ffce3d3348"
      },
      "outputs": [
        {
          "output_type": "execute_result",
          "data": {
            "text/plain": [
              "45"
            ]
          },
          "metadata": {},
          "execution_count": 62
        }
      ],
      "source": [
        "A.sum()"
      ]
    },
    {
      "cell_type": "code",
      "execution_count": null,
      "metadata": {
        "colab": {
          "base_uri": "https://localhost:8080/"
        },
        "id": "eKXqWBr9uM2s",
        "outputId": "12c2cfd8-afcb-4179-d56e-bc18c14f18f3"
      },
      "outputs": [
        {
          "output_type": "execute_result",
          "data": {
            "text/plain": [
              "5.0"
            ]
          },
          "metadata": {},
          "execution_count": 63
        }
      ],
      "source": [
        "A.mean()"
      ]
    },
    {
      "cell_type": "code",
      "execution_count": null,
      "metadata": {
        "colab": {
          "base_uri": "https://localhost:8080/"
        },
        "id": "5TIcx8G5uR1f",
        "outputId": "664b03c3-efc7-4a77-c2d9-f8c5cbefcb38"
      },
      "outputs": [
        {
          "output_type": "execute_result",
          "data": {
            "text/plain": [
              "2.581988897471611"
            ]
          },
          "metadata": {},
          "execution_count": 64
        }
      ],
      "source": [
        "A.std()"
      ]
    },
    {
      "cell_type": "code",
      "execution_count": null,
      "metadata": {
        "colab": {
          "base_uri": "https://localhost:8080/"
        },
        "id": "GLPJuN4IuT5-",
        "outputId": "c19267f7-dd80-469e-f838-846682c54c53"
      },
      "outputs": [
        {
          "output_type": "execute_result",
          "data": {
            "text/plain": [
              "array([12, 15, 18])"
            ]
          },
          "metadata": {},
          "execution_count": 65
        }
      ],
      "source": [
        "A.sum(axis=0)"
      ]
    },
    {
      "cell_type": "code",
      "execution_count": null,
      "metadata": {
        "colab": {
          "base_uri": "https://localhost:8080/"
        },
        "id": "Y-H-j2IvudMj",
        "outputId": "4a30fb0c-96a6-46c1-98d0-ea2411ec00dc"
      },
      "outputs": [
        {
          "output_type": "execute_result",
          "data": {
            "text/plain": [
              "array([ 6, 15, 24])"
            ]
          },
          "metadata": {},
          "execution_count": 66
        }
      ],
      "source": [
        "A.sum(axis=1)"
      ]
    },
    {
      "cell_type": "code",
      "execution_count": null,
      "metadata": {
        "colab": {
          "base_uri": "https://localhost:8080/"
        },
        "id": "opz1kpm9uft4",
        "outputId": "af5ec60d-0551-4e9e-e769-eeba3cb75f1a"
      },
      "outputs": [
        {
          "output_type": "execute_result",
          "data": {
            "text/plain": [
              "array([2., 5., 8.])"
            ]
          },
          "metadata": {},
          "execution_count": 67
        }
      ],
      "source": [
        "A.mean(axis=1)"
      ]
    },
    {
      "cell_type": "code",
      "execution_count": null,
      "metadata": {
        "colab": {
          "base_uri": "https://localhost:8080/"
        },
        "id": "dJIucREkugS5",
        "outputId": "eaf5e9d7-efc8-49ba-f4c1-f8f9aa1b6c64"
      },
      "outputs": [
        {
          "output_type": "execute_result",
          "data": {
            "text/plain": [
              "array([2.44948974, 2.44948974, 2.44948974])"
            ]
          },
          "metadata": {},
          "execution_count": 68
        }
      ],
      "source": [
        "A.std(axis=0)"
      ]
    },
    {
      "cell_type": "code",
      "execution_count": null,
      "metadata": {
        "colab": {
          "base_uri": "https://localhost:8080/"
        },
        "id": "KpREevgGuiFE",
        "outputId": "7f565f8d-d516-4866-a4c0-817594f4fb7e"
      },
      "outputs": [
        {
          "output_type": "execute_result",
          "data": {
            "text/plain": [
              "array([0.81649658, 0.81649658, 0.81649658])"
            ]
          },
          "metadata": {},
          "execution_count": 69
        }
      ],
      "source": [
        "A.std(axis=1)"
      ]
    },
    {
      "cell_type": "markdown",
      "metadata": {
        "id": "ZgcNax2supm6"
      },
      "source": [
        "## Broadcasting and Vectorized operations\n",
        "![alt text](https://jakevdp.github.io/PythonDataScienceHandbook/figures/02.05-broadcasting.png)"
      ]
    },
    {
      "cell_type": "code",
      "execution_count": null,
      "metadata": {
        "colab": {
          "base_uri": "https://localhost:8080/"
        },
        "id": "3XBuv_XYy0XD",
        "outputId": "37567951-d2af-4d5c-b63c-ce7b408ce14b"
      },
      "outputs": [
        {
          "output_type": "execute_result",
          "data": {
            "text/plain": [
              "array([0, 1, 2, 3])"
            ]
          },
          "metadata": {},
          "execution_count": 70
        }
      ],
      "source": [
        "a = np.arange(4)\n",
        "a"
      ]
    },
    {
      "cell_type": "code",
      "execution_count": null,
      "metadata": {
        "colab": {
          "base_uri": "https://localhost:8080/"
        },
        "id": "rqN7u_B1y2N4",
        "outputId": "da8af3da-cb27-4142-d32c-e12e841e33b9"
      },
      "outputs": [
        {
          "output_type": "execute_result",
          "data": {
            "text/plain": [
              "array([10, 11, 12, 13])"
            ]
          },
          "metadata": {},
          "execution_count": 71
        }
      ],
      "source": [
        "a + 10"
      ]
    },
    {
      "cell_type": "code",
      "execution_count": null,
      "metadata": {
        "colab": {
          "base_uri": "https://localhost:8080/"
        },
        "id": "gELFBcoby3k8",
        "outputId": "37abb10b-276c-4094-d0f5-51f51efc24fe"
      },
      "outputs": [
        {
          "output_type": "execute_result",
          "data": {
            "text/plain": [
              "array([ 0, 10, 20, 30])"
            ]
          },
          "metadata": {},
          "execution_count": 72
        }
      ],
      "source": [
        "a * 10"
      ]
    },
    {
      "cell_type": "code",
      "execution_count": null,
      "metadata": {
        "colab": {
          "base_uri": "https://localhost:8080/"
        },
        "id": "AnuWIQTWy9b8",
        "outputId": "16407daf-0a7b-48bd-9a3d-c81405577cb5"
      },
      "outputs": [
        {
          "output_type": "execute_result",
          "data": {
            "text/plain": [
              "array([0, 1, 2, 3])"
            ]
          },
          "metadata": {},
          "execution_count": 73
        }
      ],
      "source": [
        "a = np.arange(4)\n",
        "a"
      ]
    },
    {
      "cell_type": "code",
      "execution_count": null,
      "metadata": {
        "colab": {
          "base_uri": "https://localhost:8080/"
        },
        "id": "4gqixaq5zCkg",
        "outputId": "91ee03dd-461b-4ce7-cbdf-d09ba624b3a9"
      },
      "outputs": [
        {
          "output_type": "execute_result",
          "data": {
            "text/plain": [
              "array([[1., 1., 1., 1.],\n",
              "       [1., 1., 1., 1.],\n",
              "       [1., 1., 1., 1.],\n",
              "       [1., 1., 1., 1.]])"
            ]
          },
          "metadata": {},
          "execution_count": 74
        }
      ],
      "source": [
        "b = np.ones((4,4))\n",
        "b"
      ]
    },
    {
      "cell_type": "code",
      "execution_count": null,
      "metadata": {
        "colab": {
          "base_uri": "https://localhost:8080/"
        },
        "id": "RXiK9vu9zERr",
        "outputId": "ade696f6-c88c-4b9e-fb30-1ca0ec4d9df3"
      },
      "outputs": [
        {
          "output_type": "execute_result",
          "data": {
            "text/plain": [
              "array([[1., 2., 3., 4.],\n",
              "       [1., 2., 3., 4.],\n",
              "       [1., 2., 3., 4.],\n",
              "       [1., 2., 3., 4.]])"
            ]
          },
          "metadata": {},
          "execution_count": 75
        }
      ],
      "source": [
        "a + b"
      ]
    },
    {
      "cell_type": "markdown",
      "metadata": {
        "id": "oz4WMBI1zIat"
      },
      "source": [
        "## Các phép toán ma trận"
      ]
    },
    {
      "cell_type": "code",
      "execution_count": null,
      "metadata": {
        "colab": {
          "base_uri": "https://localhost:8080/"
        },
        "id": "9klJvsWZzLaO",
        "outputId": "7dfcdb53-abb3-466c-bbf9-44cadc41204c"
      },
      "outputs": [
        {
          "output_type": "execute_result",
          "data": {
            "text/plain": [
              "(3, 3)"
            ]
          },
          "metadata": {},
          "execution_count": 76
        }
      ],
      "source": [
        "A = np.array([\n",
        "    [1, 2, 3],\n",
        "    [4, 5, 6],\n",
        "    [7, 8, 9]\n",
        "])\n",
        "A.shape"
      ]
    },
    {
      "cell_type": "code",
      "execution_count": null,
      "metadata": {
        "colab": {
          "base_uri": "https://localhost:8080/"
        },
        "id": "sSfBwSvxzVOh",
        "outputId": "b98b6ff5-ab1a-48d1-ce71-48a5c334a23a"
      },
      "outputs": [
        {
          "output_type": "execute_result",
          "data": {
            "text/plain": [
              "(3, 2)"
            ]
          },
          "metadata": {},
          "execution_count": 77
        }
      ],
      "source": [
        "B = np.array([\n",
        "    [6, 5],\n",
        "    [4, 3],\n",
        "    [2, 1]\n",
        "])\n",
        "B.shape"
      ]
    },
    {
      "cell_type": "code",
      "execution_count": null,
      "metadata": {
        "colab": {
          "base_uri": "https://localhost:8080/"
        },
        "id": "gQriwvWxzXG6",
        "outputId": "88f48a0d-76bf-4d67-cfc7-159f103f84f3"
      },
      "outputs": [
        {
          "output_type": "execute_result",
          "data": {
            "text/plain": [
              "((3, 2),\n",
              " array([[20, 14],\n",
              "        [56, 41],\n",
              "        [92, 68]]))"
            ]
          },
          "metadata": {},
          "execution_count": 78
        }
      ],
      "source": [
        "# nhân ma trận\n",
        "C = A.dot(B)\n",
        "C.shape,C"
      ]
    },
    {
      "cell_type": "code",
      "source": [
        "B.dot(A)"
      ],
      "metadata": {
        "colab": {
          "base_uri": "https://localhost:8080/",
          "height": 179
        },
        "id": "-Cij1qlprouM",
        "outputId": "70ac51e3-2601-43f7-b6b1-777e1b8321ba"
      },
      "execution_count": null,
      "outputs": [
        {
          "output_type": "error",
          "ename": "ValueError",
          "evalue": "ignored",
          "traceback": [
            "\u001b[0;31m---------------------------------------------------------------------------\u001b[0m",
            "\u001b[0;31mValueError\u001b[0m                                Traceback (most recent call last)",
            "\u001b[0;32m<ipython-input-79-d482a1f78eb8>\u001b[0m in \u001b[0;36m<cell line: 1>\u001b[0;34m()\u001b[0m\n\u001b[0;32m----> 1\u001b[0;31m \u001b[0mB\u001b[0m\u001b[0;34m.\u001b[0m\u001b[0mdot\u001b[0m\u001b[0;34m(\u001b[0m\u001b[0mA\u001b[0m\u001b[0;34m)\u001b[0m\u001b[0;34m\u001b[0m\u001b[0;34m\u001b[0m\u001b[0m\n\u001b[0m",
            "\u001b[0;31mValueError\u001b[0m: shapes (3,2) and (3,3) not aligned: 2 (dim 1) != 3 (dim 0)"
          ]
        }
      ]
    },
    {
      "cell_type": "code",
      "execution_count": null,
      "metadata": {
        "id": "PRCYBMg7zxab"
      },
      "outputs": [],
      "source": [
        "# nhân ma trận\n",
        "A @ B"
      ]
    },
    {
      "cell_type": "code",
      "execution_count": null,
      "metadata": {
        "id": "tBh_eGHKzzWM"
      },
      "outputs": [],
      "source": [
        "# nghịch đảo\n",
        "B.T"
      ]
    },
    {
      "cell_type": "code",
      "execution_count": null,
      "metadata": {
        "id": "-aOeR3x-z_HV"
      },
      "outputs": [],
      "source": [
        "B.T @ A"
      ]
    },
    {
      "cell_type": "code",
      "execution_count": null,
      "metadata": {
        "id": "Gy0eV5V40Asd"
      },
      "outputs": [],
      "source": [
        "A.shape, B.shape"
      ]
    },
    {
      "cell_type": "code",
      "execution_count": null,
      "metadata": {
        "id": "p71TSeee0Ck1"
      },
      "outputs": [],
      "source": [
        "# concatenate\n",
        "C = np.concatenate([A, B], axis=1)\n",
        "C.shape"
      ]
    },
    {
      "cell_type": "code",
      "source": [
        "C"
      ],
      "metadata": {
        "id": "88-i8-D5sF2V"
      },
      "execution_count": null,
      "outputs": []
    },
    {
      "cell_type": "code",
      "source": [
        "# concatenate\n",
        "C = np.concatenate([A, B], axis=0)\n",
        "C.shape"
      ],
      "metadata": {
        "id": "9PzloJJjsILI"
      },
      "execution_count": null,
      "outputs": []
    },
    {
      "cell_type": "markdown",
      "metadata": {
        "id": "abFNTeXe2KNa"
      },
      "source": [
        "## Boolean arrays"
      ]
    },
    {
      "cell_type": "code",
      "execution_count": null,
      "metadata": {
        "id": "JMIaRVy52OPr"
      },
      "outputs": [],
      "source": [
        "a = np.arange(4)\n",
        "a"
      ]
    },
    {
      "cell_type": "code",
      "execution_count": null,
      "metadata": {
        "id": "7F8vbtyp2RjC"
      },
      "outputs": [],
      "source": [
        "a >= 2"
      ]
    },
    {
      "cell_type": "code",
      "execution_count": null,
      "metadata": {
        "id": "qL6DCBIB2Sxw"
      },
      "outputs": [],
      "source": [
        "a[a >= 2]"
      ]
    },
    {
      "cell_type": "code",
      "execution_count": null,
      "metadata": {
        "id": "pWJSVisq2UQE"
      },
      "outputs": [],
      "source": [
        "a.mean()"
      ]
    },
    {
      "cell_type": "code",
      "execution_count": null,
      "metadata": {
        "id": "rA0W6MXJ2VgD"
      },
      "outputs": [],
      "source": [
        "a[a > a.mean()]"
      ]
    },
    {
      "cell_type": "code",
      "execution_count": null,
      "metadata": {
        "id": "GWKsJcdh2XPX"
      },
      "outputs": [],
      "source": [
        "a[~(a > a.mean())]"
      ]
    },
    {
      "cell_type": "code",
      "execution_count": null,
      "metadata": {
        "id": "Zp-y8Em_3S8C"
      },
      "outputs": [],
      "source": [
        "a[(a == 0) | (a == 1)]"
      ]
    },
    {
      "cell_type": "code",
      "execution_count": null,
      "metadata": {
        "id": "JHKwX6B63Ufl"
      },
      "outputs": [],
      "source": [
        "a[(a <= 2) & (a % 2 == 0)]"
      ]
    },
    {
      "cell_type": "code",
      "execution_count": null,
      "metadata": {
        "id": "7uUkzQMr3YCz"
      },
      "outputs": [],
      "source": [
        "A = np.random.randint(100, size=(3, 3))\n",
        "A"
      ]
    },
    {
      "cell_type": "code",
      "execution_count": null,
      "metadata": {
        "id": "zGh4snu23Yni"
      },
      "outputs": [],
      "source": [
        "A[np.array([\n",
        "    [True, False, True],\n",
        "    [False, True, False],\n",
        "    [True, False, True]\n",
        "])]"
      ]
    },
    {
      "cell_type": "code",
      "execution_count": null,
      "metadata": {
        "id": "Ax61fo4I3bkO"
      },
      "outputs": [],
      "source": [
        "A > 30"
      ]
    },
    {
      "cell_type": "code",
      "execution_count": null,
      "metadata": {
        "id": "59f2eRio3dBi"
      },
      "outputs": [],
      "source": [
        "A[A > 30]"
      ]
    },
    {
      "cell_type": "markdown",
      "metadata": {
        "id": "Zo4kvHWf3fCw"
      },
      "source": [
        "## Các hàm trong Numpy"
      ]
    },
    {
      "cell_type": "markdown",
      "metadata": {
        "id": "mOfiJsP73ica"
      },
      "source": [
        "\n",
        "\n",
        "```random```\n",
        "\n"
      ]
    },
    {
      "cell_type": "code",
      "execution_count": null,
      "metadata": {
        "id": "EakIv-S73hKE"
      },
      "outputs": [],
      "source": [
        "np.random.random(size=2)"
      ]
    },
    {
      "cell_type": "code",
      "execution_count": null,
      "metadata": {
        "id": "a_J42Ltb39Wb"
      },
      "outputs": [],
      "source": [
        "np.random.normal(size=2)"
      ]
    },
    {
      "cell_type": "code",
      "execution_count": null,
      "metadata": {
        "id": "QohB_VRF3_Lj"
      },
      "outputs": [],
      "source": [
        "np.random.rand(2, 4)"
      ]
    },
    {
      "cell_type": "markdown",
      "metadata": {
        "id": "VZ2UQpBx4CJJ"
      },
      "source": [
        "\n",
        "\n",
        "```arrange```\n",
        "\n"
      ]
    },
    {
      "cell_type": "code",
      "execution_count": null,
      "metadata": {
        "id": "8KXvGU4h4NKF"
      },
      "outputs": [],
      "source": [
        "np.arange(10)"
      ]
    },
    {
      "cell_type": "code",
      "execution_count": null,
      "metadata": {
        "id": "QghxLtHa4WKz"
      },
      "outputs": [],
      "source": [
        "np.arange(5, 10)"
      ]
    },
    {
      "cell_type": "code",
      "execution_count": null,
      "metadata": {
        "id": "HbimGPkq4XnD"
      },
      "outputs": [],
      "source": [
        "np.arange(0, 1, .1)"
      ]
    },
    {
      "cell_type": "markdown",
      "metadata": {
        "id": "JQ1I-I5b4Zuk"
      },
      "source": [
        "\n",
        "\n",
        "```reshape```\n",
        "\n"
      ]
    },
    {
      "cell_type": "code",
      "execution_count": null,
      "metadata": {
        "id": "xuRxUJ5k4dP8"
      },
      "outputs": [],
      "source": [
        "np.arange(10).reshape(2, 5)"
      ]
    },
    {
      "cell_type": "code",
      "execution_count": null,
      "metadata": {
        "id": "6p0bx5q94fD8"
      },
      "outputs": [],
      "source": [
        "np.arange(10).reshape(5, 2)"
      ]
    },
    {
      "cell_type": "markdown",
      "metadata": {
        "id": "CdAYrdLX4itc"
      },
      "source": [
        "`zeros`, `ones`, `empty`"
      ]
    },
    {
      "cell_type": "code",
      "execution_count": null,
      "metadata": {
        "id": "9FCbuJPv4n4H"
      },
      "outputs": [],
      "source": [
        "np.zeros(5)"
      ]
    },
    {
      "cell_type": "code",
      "execution_count": null,
      "metadata": {
        "id": "Xsu_hN1p4pz6"
      },
      "outputs": [],
      "source": [
        "np.zeros((3, 3))"
      ]
    },
    {
      "cell_type": "code",
      "execution_count": null,
      "metadata": {
        "id": "hzricL6P4qUe"
      },
      "outputs": [],
      "source": [
        "np.zeros((3, 3), dtype=np.int)"
      ]
    },
    {
      "cell_type": "code",
      "execution_count": null,
      "metadata": {
        "id": "vUz4ALvK4rm1"
      },
      "outputs": [],
      "source": [
        "np.ones(5)"
      ]
    },
    {
      "cell_type": "code",
      "execution_count": null,
      "metadata": {
        "id": "QhVoFpcT4sr5"
      },
      "outputs": [],
      "source": [
        "np.ones((3, 3))"
      ]
    },
    {
      "cell_type": "code",
      "execution_count": null,
      "metadata": {
        "id": "uer6jpYB4upP"
      },
      "outputs": [],
      "source": [
        "np.empty(5)"
      ]
    },
    {
      "cell_type": "code",
      "execution_count": null,
      "metadata": {
        "id": "r5KQtWS54wG2"
      },
      "outputs": [],
      "source": [
        "np.empty((2, 2))"
      ]
    },
    {
      "cell_type": "markdown",
      "metadata": {
        "id": "Io929nGd4zub"
      },
      "source": [
        "`identity`"
      ]
    },
    {
      "cell_type": "code",
      "execution_count": null,
      "metadata": {
        "id": "PzIzKRbg4zbq"
      },
      "outputs": [],
      "source": [
        "np.identity(3)"
      ]
    },
    {
      "cell_type": "markdown",
      "metadata": {
        "id": "ygEnLfub5CEc"
      },
      "source": [
        "**Exercises**"
      ]
    },
    {
      "cell_type": "markdown",
      "metadata": {
        "id": "1hvfuh8Y5K57"
      },
      "source": [
        "1. Create a numpy array of size 10, filled with zeros"
      ]
    },
    {
      "cell_type": "code",
      "execution_count": null,
      "metadata": {
        "id": "mj_u3FWL4-Qv"
      },
      "outputs": [],
      "source": [
        "# your code goes here\n"
      ]
    },
    {
      "cell_type": "markdown",
      "metadata": {
        "id": "SJstq5Ma5eR4"
      },
      "source": [
        "2. Create a numpy matrix of 2*2 integers, filled with ones."
      ]
    },
    {
      "cell_type": "code",
      "execution_count": null,
      "metadata": {
        "id": "ARBeJdsp5nkp"
      },
      "outputs": [],
      "source": [
        "# your code goes here\n"
      ]
    },
    {
      "cell_type": "markdown",
      "metadata": {
        "id": "ce6jlFfl5SAf"
      },
      "source": [
        "3. Create a numpy array with values ranging from 10 to 49"
      ]
    },
    {
      "cell_type": "code",
      "execution_count": null,
      "metadata": {
        "id": "aNYrxy8r50TW"
      },
      "outputs": [],
      "source": [
        "# your code goes here\n"
      ]
    },
    {
      "cell_type": "markdown",
      "metadata": {
        "id": "-oRQwhgx7Kog"
      },
      "source": [
        "4. Given the X numpy matrix, show the first two elements on the first two rows"
      ]
    },
    {
      "cell_type": "code",
      "execution_count": null,
      "metadata": {
        "id": "Wvhuc5hJ7Vh4"
      },
      "outputs": [],
      "source": [
        "X = np.array([\n",
        "    [1,   2,  3,  4],\n",
        "    [5,   6,  7,  8],\n",
        "    [9,  10, 11, 12],\n",
        "    [13, 14, 15, 16]\n",
        "])\n",
        "# your code goes here\n"
      ]
    },
    {
      "cell_type": "markdown",
      "metadata": {
        "id": "qY2sSbzg8oCd"
      },
      "source": [
        "5. Loss function: Mean Square Error (MSE)\n",
        "\n",
        "Mean square error (MSE) is calculated as the average of the square of the difference between predictions and actual observations. Mathematically we can represent it as follows :\n",
        "\n",
        "![](https://journaldev.nyc3.digitaloceanspaces.com/2020/12/Mean-square-error.png)"
      ]
    },
    {
      "cell_type": "code",
      "execution_count": null,
      "metadata": {
        "id": "Y_L9U0Xd6o21"
      },
      "outputs": [],
      "source": [
        "act = np.array([1.1, 2, 1.7])\n",
        "pred = np.array([1, 1.7, 1.5])\n",
        "# your code goes here\n"
      ]
    },
    {
      "cell_type": "markdown",
      "metadata": {
        "id": "53akMoStwWCZ"
      },
      "source": [
        "# Pandas"
      ]
    },
    {
      "cell_type": "markdown",
      "metadata": {
        "id": "It0iIOcmws35"
      },
      "source": [
        "**DataFrame composes of many Series**\n",
        "![box-plot](https://storage.googleapis.com/lds-media/images/series-and-dataframe.width-1200.png)"
      ]
    },
    {
      "cell_type": "markdown",
      "metadata": {
        "id": "RoooRwl5w3_l"
      },
      "source": [
        "## Đọc dữ liệu vào dataframe"
      ]
    },
    {
      "cell_type": "markdown",
      "metadata": {
        "id": "1tuMjfx1xLY2"
      },
      "source": [
        "### Đọc dữ liệu từ dict"
      ]
    },
    {
      "cell_type": "code",
      "execution_count": null,
      "metadata": {
        "id": "NH3WfDZ8w2N3"
      },
      "outputs": [],
      "source": [
        "data = {\n",
        "    'apples': [3, 2, 0, 1],\n",
        "    'oranges': [0, 3, 7, 2]\n",
        "}\n",
        "df = pd.DataFrame(data)\n",
        "print('Type of df:', type(df))\n",
        "df"
      ]
    },
    {
      "cell_type": "markdown",
      "metadata": {
        "id": "oLssgEYqxYMm"
      },
      "source": [
        "Mỗi (key, value) trong `data` tương ứng với một cột trong pandas dataframe.\n",
        "\n",
        "**Index** của DataFrame trong trường hợp này sẽ tự động tự tạo từ 0-3, tuy nhiên chúng ta có thể khởi tạo **Index** cho DataFrame\n",
        "\n",
        "Ví dụ khởi tạo Tên khách hàng cho **Index**"
      ]
    },
    {
      "cell_type": "code",
      "execution_count": null,
      "metadata": {
        "id": "GJImwug-yJPZ"
      },
      "outputs": [],
      "source": [
        "purchases = pd.DataFrame(data, index=['June', 'Robert', 'Lily', 'David'])\n",
        "purchases"
      ]
    },
    {
      "cell_type": "markdown",
      "metadata": {
        "id": "Qhgtwwmoxe65"
      },
      "source": [
        "### Đọc dữ liệu từ file csv"
      ]
    },
    {
      "cell_type": "code",
      "execution_count": null,
      "metadata": {
        "colab": {
          "base_uri": "https://localhost:8080/",
          "height": 423
        },
        "id": "AKkVhJuEvjJi",
        "outputId": "2e73c418-582d-4bc7-e84e-3941d17dcf0e"
      },
      "outputs": [
        {
          "output_type": "execute_result",
          "data": {
            "text/plain": [
              "     sepal.length  sepal.width  petal.length  petal.width    variety\n",
              "0             5.1          3.5           1.4          0.2     Setosa\n",
              "1             4.9          3.0           1.4          0.2     Setosa\n",
              "2             4.7          3.2           1.3          0.2     Setosa\n",
              "3             4.6          3.1           1.5          0.2     Setosa\n",
              "4             5.0          3.6           1.4          0.2     Setosa\n",
              "..            ...          ...           ...          ...        ...\n",
              "145           6.7          3.0           5.2          2.3  Virginica\n",
              "146           6.3          2.5           5.0          1.9  Virginica\n",
              "147           6.5          3.0           5.2          2.0  Virginica\n",
              "148           6.2          3.4           5.4          2.3  Virginica\n",
              "149           5.9          3.0           5.1          1.8  Virginica\n",
              "\n",
              "[150 rows x 5 columns]"
            ],
            "text/html": [
              "\n",
              "  <div id=\"df-09efced3-1dbf-4196-95a5-847906e7b474\" class=\"colab-df-container\">\n",
              "    <div>\n",
              "<style scoped>\n",
              "    .dataframe tbody tr th:only-of-type {\n",
              "        vertical-align: middle;\n",
              "    }\n",
              "\n",
              "    .dataframe tbody tr th {\n",
              "        vertical-align: top;\n",
              "    }\n",
              "\n",
              "    .dataframe thead th {\n",
              "        text-align: right;\n",
              "    }\n",
              "</style>\n",
              "<table border=\"1\" class=\"dataframe\">\n",
              "  <thead>\n",
              "    <tr style=\"text-align: right;\">\n",
              "      <th></th>\n",
              "      <th>sepal.length</th>\n",
              "      <th>sepal.width</th>\n",
              "      <th>petal.length</th>\n",
              "      <th>petal.width</th>\n",
              "      <th>variety</th>\n",
              "    </tr>\n",
              "  </thead>\n",
              "  <tbody>\n",
              "    <tr>\n",
              "      <th>0</th>\n",
              "      <td>5.1</td>\n",
              "      <td>3.5</td>\n",
              "      <td>1.4</td>\n",
              "      <td>0.2</td>\n",
              "      <td>Setosa</td>\n",
              "    </tr>\n",
              "    <tr>\n",
              "      <th>1</th>\n",
              "      <td>4.9</td>\n",
              "      <td>3.0</td>\n",
              "      <td>1.4</td>\n",
              "      <td>0.2</td>\n",
              "      <td>Setosa</td>\n",
              "    </tr>\n",
              "    <tr>\n",
              "      <th>2</th>\n",
              "      <td>4.7</td>\n",
              "      <td>3.2</td>\n",
              "      <td>1.3</td>\n",
              "      <td>0.2</td>\n",
              "      <td>Setosa</td>\n",
              "    </tr>\n",
              "    <tr>\n",
              "      <th>3</th>\n",
              "      <td>4.6</td>\n",
              "      <td>3.1</td>\n",
              "      <td>1.5</td>\n",
              "      <td>0.2</td>\n",
              "      <td>Setosa</td>\n",
              "    </tr>\n",
              "    <tr>\n",
              "      <th>4</th>\n",
              "      <td>5.0</td>\n",
              "      <td>3.6</td>\n",
              "      <td>1.4</td>\n",
              "      <td>0.2</td>\n",
              "      <td>Setosa</td>\n",
              "    </tr>\n",
              "    <tr>\n",
              "      <th>...</th>\n",
              "      <td>...</td>\n",
              "      <td>...</td>\n",
              "      <td>...</td>\n",
              "      <td>...</td>\n",
              "      <td>...</td>\n",
              "    </tr>\n",
              "    <tr>\n",
              "      <th>145</th>\n",
              "      <td>6.7</td>\n",
              "      <td>3.0</td>\n",
              "      <td>5.2</td>\n",
              "      <td>2.3</td>\n",
              "      <td>Virginica</td>\n",
              "    </tr>\n",
              "    <tr>\n",
              "      <th>146</th>\n",
              "      <td>6.3</td>\n",
              "      <td>2.5</td>\n",
              "      <td>5.0</td>\n",
              "      <td>1.9</td>\n",
              "      <td>Virginica</td>\n",
              "    </tr>\n",
              "    <tr>\n",
              "      <th>147</th>\n",
              "      <td>6.5</td>\n",
              "      <td>3.0</td>\n",
              "      <td>5.2</td>\n",
              "      <td>2.0</td>\n",
              "      <td>Virginica</td>\n",
              "    </tr>\n",
              "    <tr>\n",
              "      <th>148</th>\n",
              "      <td>6.2</td>\n",
              "      <td>3.4</td>\n",
              "      <td>5.4</td>\n",
              "      <td>2.3</td>\n",
              "      <td>Virginica</td>\n",
              "    </tr>\n",
              "    <tr>\n",
              "      <th>149</th>\n",
              "      <td>5.9</td>\n",
              "      <td>3.0</td>\n",
              "      <td>5.1</td>\n",
              "      <td>1.8</td>\n",
              "      <td>Virginica</td>\n",
              "    </tr>\n",
              "  </tbody>\n",
              "</table>\n",
              "<p>150 rows × 5 columns</p>\n",
              "</div>\n",
              "    <div class=\"colab-df-buttons\">\n",
              "\n",
              "  <div class=\"colab-df-container\">\n",
              "    <button class=\"colab-df-convert\" onclick=\"convertToInteractive('df-09efced3-1dbf-4196-95a5-847906e7b474')\"\n",
              "            title=\"Convert this dataframe to an interactive table.\"\n",
              "            style=\"display:none;\">\n",
              "\n",
              "  <svg xmlns=\"http://www.w3.org/2000/svg\" height=\"24px\" viewBox=\"0 -960 960 960\">\n",
              "    <path d=\"M120-120v-720h720v720H120Zm60-500h600v-160H180v160Zm220 220h160v-160H400v160Zm0 220h160v-160H400v160ZM180-400h160v-160H180v160Zm440 0h160v-160H620v160ZM180-180h160v-160H180v160Zm440 0h160v-160H620v160Z\"/>\n",
              "  </svg>\n",
              "    </button>\n",
              "\n",
              "  <style>\n",
              "    .colab-df-container {\n",
              "      display:flex;\n",
              "      gap: 12px;\n",
              "    }\n",
              "\n",
              "    .colab-df-convert {\n",
              "      background-color: #E8F0FE;\n",
              "      border: none;\n",
              "      border-radius: 50%;\n",
              "      cursor: pointer;\n",
              "      display: none;\n",
              "      fill: #1967D2;\n",
              "      height: 32px;\n",
              "      padding: 0 0 0 0;\n",
              "      width: 32px;\n",
              "    }\n",
              "\n",
              "    .colab-df-convert:hover {\n",
              "      background-color: #E2EBFA;\n",
              "      box-shadow: 0px 1px 2px rgba(60, 64, 67, 0.3), 0px 1px 3px 1px rgba(60, 64, 67, 0.15);\n",
              "      fill: #174EA6;\n",
              "    }\n",
              "\n",
              "    .colab-df-buttons div {\n",
              "      margin-bottom: 4px;\n",
              "    }\n",
              "\n",
              "    [theme=dark] .colab-df-convert {\n",
              "      background-color: #3B4455;\n",
              "      fill: #D2E3FC;\n",
              "    }\n",
              "\n",
              "    [theme=dark] .colab-df-convert:hover {\n",
              "      background-color: #434B5C;\n",
              "      box-shadow: 0px 1px 3px 1px rgba(0, 0, 0, 0.15);\n",
              "      filter: drop-shadow(0px 1px 2px rgba(0, 0, 0, 0.3));\n",
              "      fill: #FFFFFF;\n",
              "    }\n",
              "  </style>\n",
              "\n",
              "    <script>\n",
              "      const buttonEl =\n",
              "        document.querySelector('#df-09efced3-1dbf-4196-95a5-847906e7b474 button.colab-df-convert');\n",
              "      buttonEl.style.display =\n",
              "        google.colab.kernel.accessAllowed ? 'block' : 'none';\n",
              "\n",
              "      async function convertToInteractive(key) {\n",
              "        const element = document.querySelector('#df-09efced3-1dbf-4196-95a5-847906e7b474');\n",
              "        const dataTable =\n",
              "          await google.colab.kernel.invokeFunction('convertToInteractive',\n",
              "                                                    [key], {});\n",
              "        if (!dataTable) return;\n",
              "\n",
              "        const docLinkHtml = 'Like what you see? Visit the ' +\n",
              "          '<a target=\"_blank\" href=https://colab.research.google.com/notebooks/data_table.ipynb>data table notebook</a>'\n",
              "          + ' to learn more about interactive tables.';\n",
              "        element.innerHTML = '';\n",
              "        dataTable['output_type'] = 'display_data';\n",
              "        await google.colab.output.renderOutput(dataTable, element);\n",
              "        const docLink = document.createElement('div');\n",
              "        docLink.innerHTML = docLinkHtml;\n",
              "        element.appendChild(docLink);\n",
              "      }\n",
              "    </script>\n",
              "  </div>\n",
              "\n",
              "\n",
              "<div id=\"df-85d87fa5-bd45-4f82-b397-91b815232358\">\n",
              "  <button class=\"colab-df-quickchart\" onclick=\"quickchart('df-85d87fa5-bd45-4f82-b397-91b815232358')\"\n",
              "            title=\"Suggest charts.\"\n",
              "            style=\"display:none;\">\n",
              "\n",
              "<svg xmlns=\"http://www.w3.org/2000/svg\" height=\"24px\"viewBox=\"0 0 24 24\"\n",
              "     width=\"24px\">\n",
              "    <g>\n",
              "        <path d=\"M19 3H5c-1.1 0-2 .9-2 2v14c0 1.1.9 2 2 2h14c1.1 0 2-.9 2-2V5c0-1.1-.9-2-2-2zM9 17H7v-7h2v7zm4 0h-2V7h2v10zm4 0h-2v-4h2v4z\"/>\n",
              "    </g>\n",
              "</svg>\n",
              "  </button>\n",
              "\n",
              "<style>\n",
              "  .colab-df-quickchart {\n",
              "      --bg-color: #E8F0FE;\n",
              "      --fill-color: #1967D2;\n",
              "      --hover-bg-color: #E2EBFA;\n",
              "      --hover-fill-color: #174EA6;\n",
              "      --disabled-fill-color: #AAA;\n",
              "      --disabled-bg-color: #DDD;\n",
              "  }\n",
              "\n",
              "  [theme=dark] .colab-df-quickchart {\n",
              "      --bg-color: #3B4455;\n",
              "      --fill-color: #D2E3FC;\n",
              "      --hover-bg-color: #434B5C;\n",
              "      --hover-fill-color: #FFFFFF;\n",
              "      --disabled-bg-color: #3B4455;\n",
              "      --disabled-fill-color: #666;\n",
              "  }\n",
              "\n",
              "  .colab-df-quickchart {\n",
              "    background-color: var(--bg-color);\n",
              "    border: none;\n",
              "    border-radius: 50%;\n",
              "    cursor: pointer;\n",
              "    display: none;\n",
              "    fill: var(--fill-color);\n",
              "    height: 32px;\n",
              "    padding: 0;\n",
              "    width: 32px;\n",
              "  }\n",
              "\n",
              "  .colab-df-quickchart:hover {\n",
              "    background-color: var(--hover-bg-color);\n",
              "    box-shadow: 0 1px 2px rgba(60, 64, 67, 0.3), 0 1px 3px 1px rgba(60, 64, 67, 0.15);\n",
              "    fill: var(--button-hover-fill-color);\n",
              "  }\n",
              "\n",
              "  .colab-df-quickchart-complete:disabled,\n",
              "  .colab-df-quickchart-complete:disabled:hover {\n",
              "    background-color: var(--disabled-bg-color);\n",
              "    fill: var(--disabled-fill-color);\n",
              "    box-shadow: none;\n",
              "  }\n",
              "\n",
              "  .colab-df-spinner {\n",
              "    border: 2px solid var(--fill-color);\n",
              "    border-color: transparent;\n",
              "    border-bottom-color: var(--fill-color);\n",
              "    animation:\n",
              "      spin 1s steps(1) infinite;\n",
              "  }\n",
              "\n",
              "  @keyframes spin {\n",
              "    0% {\n",
              "      border-color: transparent;\n",
              "      border-bottom-color: var(--fill-color);\n",
              "      border-left-color: var(--fill-color);\n",
              "    }\n",
              "    20% {\n",
              "      border-color: transparent;\n",
              "      border-left-color: var(--fill-color);\n",
              "      border-top-color: var(--fill-color);\n",
              "    }\n",
              "    30% {\n",
              "      border-color: transparent;\n",
              "      border-left-color: var(--fill-color);\n",
              "      border-top-color: var(--fill-color);\n",
              "      border-right-color: var(--fill-color);\n",
              "    }\n",
              "    40% {\n",
              "      border-color: transparent;\n",
              "      border-right-color: var(--fill-color);\n",
              "      border-top-color: var(--fill-color);\n",
              "    }\n",
              "    60% {\n",
              "      border-color: transparent;\n",
              "      border-right-color: var(--fill-color);\n",
              "    }\n",
              "    80% {\n",
              "      border-color: transparent;\n",
              "      border-right-color: var(--fill-color);\n",
              "      border-bottom-color: var(--fill-color);\n",
              "    }\n",
              "    90% {\n",
              "      border-color: transparent;\n",
              "      border-bottom-color: var(--fill-color);\n",
              "    }\n",
              "  }\n",
              "</style>\n",
              "\n",
              "  <script>\n",
              "    async function quickchart(key) {\n",
              "      const quickchartButtonEl =\n",
              "        document.querySelector('#' + key + ' button');\n",
              "      quickchartButtonEl.disabled = true;  // To prevent multiple clicks.\n",
              "      quickchartButtonEl.classList.add('colab-df-spinner');\n",
              "      try {\n",
              "        const charts = await google.colab.kernel.invokeFunction(\n",
              "            'suggestCharts', [key], {});\n",
              "      } catch (error) {\n",
              "        console.error('Error during call to suggestCharts:', error);\n",
              "      }\n",
              "      quickchartButtonEl.classList.remove('colab-df-spinner');\n",
              "      quickchartButtonEl.classList.add('colab-df-quickchart-complete');\n",
              "    }\n",
              "    (() => {\n",
              "      let quickchartButtonEl =\n",
              "        document.querySelector('#df-85d87fa5-bd45-4f82-b397-91b815232358 button');\n",
              "      quickchartButtonEl.style.display =\n",
              "        google.colab.kernel.accessAllowed ? 'block' : 'none';\n",
              "    })();\n",
              "  </script>\n",
              "</div>\n",
              "    </div>\n",
              "  </div>\n"
            ]
          },
          "metadata": {},
          "execution_count": 80
        }
      ],
      "source": [
        "# Load dataset\n",
        "df = pd.read_csv(\"https://gist.githubusercontent.com/netj/8836201/raw/6f9306ad21398ea43cba4f7d537619d0e07d5ae3/iris.csv\")\n",
        "df"
      ]
    },
    {
      "cell_type": "markdown",
      "metadata": {
        "id": "DDk7fCDpyX4Y"
      },
      "source": [
        "## Truy vấn dữ liệu"
      ]
    },
    {
      "cell_type": "code",
      "execution_count": null,
      "metadata": {
        "id": "3CwaXtVnybY4"
      },
      "outputs": [],
      "source": [
        "# lấy theo cột\n",
        "df['sepal.length']"
      ]
    },
    {
      "cell_type": "code",
      "source": [
        "type(df['sepal.length'])"
      ],
      "metadata": {
        "id": "FKItCFFYxU4k"
      },
      "execution_count": null,
      "outputs": []
    },
    {
      "cell_type": "code",
      "execution_count": null,
      "metadata": {
        "id": "rxqaxDLzyow3"
      },
      "outputs": [],
      "source": [
        "df['sepal.length'][12]"
      ]
    },
    {
      "cell_type": "markdown",
      "metadata": {
        "id": "kRCdFhT1yuLK"
      },
      "source": [
        "**Exercises**\n",
        "\n",
        "Truy vấn giá trị thứ 13 của cột `variety`"
      ]
    },
    {
      "cell_type": "code",
      "execution_count": null,
      "metadata": {
        "id": "QYB6lAuYy9OY"
      },
      "outputs": [],
      "source": [
        "# your code here\n"
      ]
    },
    {
      "cell_type": "code",
      "execution_count": null,
      "metadata": {
        "id": "lpcofSMHzLx5"
      },
      "outputs": [],
      "source": [
        "# lấy theo dòng\n",
        "x = df.iloc[0]\n",
        "print('type(x)', type(x))\n",
        "x"
      ]
    },
    {
      "cell_type": "code",
      "execution_count": null,
      "metadata": {
        "id": "9OhLXNoJE3mP"
      },
      "outputs": [],
      "source": [
        "# truy vấn với điều kiện\n",
        "df_setosa = df[df['petal.length']> 1.3]\n",
        "df_setosa.head(8)"
      ]
    },
    {
      "cell_type": "markdown",
      "metadata": {
        "id": "voWx2QWHzq3a"
      },
      "source": [
        "## Một số hàm thường dùng trong pandas"
      ]
    },
    {
      "cell_type": "markdown",
      "metadata": {
        "id": "mJIz_Mubzx85"
      },
      "source": [
        "`info()` provides the essential details about your dataset, such as the number of rows and columns, the number of non-null values, what type of data is in each column, and how much memory your DataFrame is using"
      ]
    },
    {
      "cell_type": "code",
      "execution_count": null,
      "metadata": {
        "id": "P0Z3IdxlzuQ6"
      },
      "outputs": [],
      "source": [
        "df.info()"
      ]
    },
    {
      "cell_type": "markdown",
      "metadata": {
        "id": "e-l8ycGTCNYX"
      },
      "source": [
        "Using `describe()` on an entire DataFrame we can get a summary of the distribution of continuous variables:"
      ]
    },
    {
      "cell_type": "code",
      "execution_count": null,
      "metadata": {
        "id": "jC0ChT6NCSeV"
      },
      "outputs": [],
      "source": [
        "df.describe()"
      ]
    },
    {
      "cell_type": "markdown",
      "metadata": {
        "id": "3ofhLk9SCU8R"
      },
      "source": [
        "By using the correlation method `.corr()` we can generate the relationship between each continuous variable:"
      ]
    },
    {
      "cell_type": "code",
      "execution_count": null,
      "metadata": {
        "id": "lueAecE7CVVH"
      },
      "outputs": [],
      "source": [
        "df.corr()"
      ]
    },
    {
      "cell_type": "code",
      "execution_count": null,
      "metadata": {
        "id": "VPo9MQnHFNHt"
      },
      "outputs": [],
      "source": [
        "# Các giá trị phân biệt ở cột 'variety'\n",
        "df.variety.unique()"
      ]
    },
    {
      "cell_type": "markdown",
      "metadata": {
        "id": "4saGu2cQvjJl"
      },
      "source": [
        "## Trực quan hóa dữ liệu"
      ]
    },
    {
      "cell_type": "code",
      "execution_count": null,
      "metadata": {
        "id": "8VpkAUzgvjJl"
      },
      "outputs": [],
      "source": [
        "df.plot(x=\"petal.length\", y=\"petal.width\", kind=\"scatter\")"
      ]
    },
    {
      "cell_type": "markdown",
      "metadata": {
        "id": "uj69KTM61uo0"
      },
      "source": [
        "College Majors data: https://github.com/fivethirtyeight/data/tree/master/college-majors"
      ]
    },
    {
      "cell_type": "code",
      "execution_count": null,
      "metadata": {
        "id": "IQqenhRp1xdK"
      },
      "outputs": [],
      "source": [
        "download_url = (\n",
        "    \"https://raw.githubusercontent.com/fivethirtyeight/data/master/college-majors/recent-grads.csv\"\n",
        ")\n",
        "df2 = pd.read_csv(download_url)\n",
        "df2"
      ]
    },
    {
      "cell_type": "code",
      "execution_count": null,
      "metadata": {
        "id": "sT1AWlu42FHD"
      },
      "outputs": [],
      "source": [
        "df2.info()"
      ]
    },
    {
      "cell_type": "code",
      "execution_count": null,
      "metadata": {
        "id": "aS9v0QvD2NwU"
      },
      "outputs": [],
      "source": [
        "df2.describe()"
      ]
    },
    {
      "cell_type": "markdown",
      "metadata": {
        "id": "j05Whwy62eA6"
      },
      "source": [
        "**`.plot()` has several optional parameters. Most notably, the kind parameter accepts eleven different string values and determines which kind of plot you’ll create:**\n",
        "\n",
        "-    \"area\" is for area plots.\n",
        "-    \"bar\" is for vertical bar charts.\n",
        "-    \"barh\" is for horizontal bar charts.\n",
        "-    \"box\" is for box plots.\n",
        "-    \"hexbin\" is for hexbin plots.\n",
        "-    \"hist\" is for histograms.\n",
        "-    \"kde\" is for kernel density estimate charts.\n",
        "-    \"density\" is an alias for \"kde\".\n",
        "-    \"line\" is for line graphs.\n",
        "-    \"pie\" is for pie charts.\n",
        "-    \"scatter\" is for scatter plots."
      ]
    },
    {
      "cell_type": "markdown",
      "metadata": {
        "id": "gC057M9_2qx6"
      },
      "source": [
        "`.plot()` Dataframe. <br/>\n",
        "Example: the x-axis values represent the rank of each institution, and the \"P25th\", \"Median\", and \"P75th\" values are plotted on the y-axis."
      ]
    },
    {
      "cell_type": "code",
      "execution_count": null,
      "metadata": {
        "id": "dKc5XQ2b2UiN"
      },
      "outputs": [],
      "source": [
        "import matplotlib.pyplot as plt\n",
        "df2.plot(x=\"Rank\", y=[\"P25th\", \"Median\", \"P75th\"])\n",
        "plt.show()"
      ]
    },
    {
      "cell_type": "markdown",
      "metadata": {
        "id": "SVvtHS8e4LH8"
      },
      "source": [
        "### Distributions and Histograms\n",
        "`.plot(kind=\"hist\")` The histogram shows the data grouped into ten bins ranging from \\\\$20,000 - \\\\$120,000 and each bin has a width of \\\\$10,000. The histogram has a different shape than the normal distribution, which has a symmetric bell shape with a peak in the middle."
      ]
    },
    {
      "cell_type": "code",
      "execution_count": null,
      "metadata": {
        "id": "51hclJRk4Kdc"
      },
      "outputs": [],
      "source": [
        "median_column = df2[\"Median\"]\n",
        "median_column.plot(kind=\"hist\", bins=10)"
      ]
    },
    {
      "cell_type": "code",
      "execution_count": null,
      "metadata": {
        "id": "Pa-pAaL94ydj"
      },
      "outputs": [],
      "source": [
        "median_column = df2[\"Unemployment_rate\"]\n",
        "median_column.plot(kind=\"hist\", bins=10)"
      ]
    },
    {
      "cell_type": "markdown",
      "metadata": {
        "id": "ZHCrJzO158c6"
      },
      "source": [
        "**We can see Median column with kind box, also check outliers**\n",
        "![box-plot](https://i1.wp.com/flowingdata.com/wp-content/uploads/2008/02/box-plot-explained.gif)"
      ]
    },
    {
      "cell_type": "code",
      "execution_count": null,
      "metadata": {
        "id": "B1IsSPrX57_u"
      },
      "outputs": [],
      "source": [
        "median_column.plot(kind='box')"
      ]
    },
    {
      "cell_type": "markdown",
      "metadata": {
        "id": "i0S1DLyN9rcU"
      },
      "source": [
        "### Analyze Categorical Data\n",
        "To process bigger chunks of information, the human mind consciously and unconsciously sorts data into categories. This technique is often useful, but it’s far from flawless.\n",
        "\n",
        "Sometimes we put things into a category that, upon further examination, aren’t all that similar. In this section, you’ll get to know some tools for examining categories and verifying whether a given categorization makes sense.\n",
        "\n",
        "Many datasets already contain some explicit or implicit categorization. In the current example, the 173 majors are divided into 16 categories."
      ]
    },
    {
      "cell_type": "code",
      "execution_count": null,
      "metadata": {
        "id": "Fe79SPVN9yPh"
      },
      "outputs": [],
      "source": [
        "category_totals = df2.groupby(\"Major_category\")[\"Total\"].sum().sort_values()\n",
        "category_totals.plot(kind=\"barh\")"
      ]
    },
    {
      "cell_type": "code",
      "execution_count": null,
      "metadata": {
        "id": "WODhf9XP-hCH"
      },
      "outputs": [],
      "source": [
        "category_totals.plot(kind=\"pie\", label=\"\")"
      ]
    },
    {
      "cell_type": "code",
      "execution_count": null,
      "metadata": {
        "id": "BHdfNFUp-sS7"
      },
      "outputs": [],
      "source": [
        "category_totals = df2.groupby(\"Major_category\")[\"ShareWomen\"].mean().sort_values()\n",
        "plt.title('Mean percentage of women in each Major_category ')\n",
        "category_totals.plot(kind=\"barh\")"
      ]
    },
    {
      "cell_type": "markdown",
      "metadata": {
        "id": "kHrhJJM3-6KU"
      },
      "source": [
        "### Check correlation\n",
        "Often you want to see whether two columns of a dataset are connected. If you pick a major with higher median earnings, do you also have a lower chance of unemployment? As a first step, create a scatter plot with those two columns:"
      ]
    },
    {
      "cell_type": "code",
      "execution_count": null,
      "metadata": {
        "id": "99n3KX0u-52N"
      },
      "outputs": [],
      "source": [
        "df2.plot(x=\"Median\", y=\"Unemployment_rate\", kind=\"scatter\")"
      ]
    },
    {
      "cell_type": "markdown",
      "metadata": {
        "id": "VWpoG9zJ_Ejh"
      },
      "source": [
        "A quick glance at this figure shows that there’s **NO significant correlation** between the earnings and unemployment rate."
      ]
    },
    {
      "cell_type": "code",
      "execution_count": null,
      "metadata": {
        "id": "L92a8p19_B75"
      },
      "outputs": [],
      "source": [
        "df2.plot(x=\"Non_college_jobs\", y=\"Unemployment_rate\", kind=\"scatter\")"
      ]
    },
    {
      "cell_type": "code",
      "execution_count": null,
      "metadata": {
        "id": "p1gTG6RD_JTJ"
      },
      "outputs": [],
      "source": [
        "df2.plot(x=\"Median\", y=\"ShareWomen\", kind=\"scatter\")"
      ]
    },
    {
      "cell_type": "code",
      "execution_count": null,
      "metadata": {
        "id": "AQ3-lRa2_J21"
      },
      "outputs": [],
      "source": [
        "df2.plot(x=\"Median\", y=\"Low_wage_jobs\", kind=\"scatter\")"
      ]
    },
    {
      "cell_type": "markdown",
      "metadata": {
        "id": "M3Vnsr-nvjJm"
      },
      "source": [
        "# Sklearn"
      ]
    },
    {
      "cell_type": "code",
      "execution_count": null,
      "metadata": {
        "id": "XwOWMvIgGXgg"
      },
      "outputs": [],
      "source": [
        "from sklearn.neighbors import KNeighborsClassifier\n",
        "from sklearn.metrics import classification_report, confusion_matrix, accuracy_score\n",
        "from sklearn.model_selection import train_test_split"
      ]
    },
    {
      "cell_type": "code",
      "source": [
        "df"
      ],
      "metadata": {
        "colab": {
          "base_uri": "https://localhost:8080/",
          "height": 423
        },
        "id": "pyN-2pe39aT-",
        "outputId": "b8c7fefc-1668-458b-fc5e-76dacde7e51b"
      },
      "execution_count": null,
      "outputs": [
        {
          "output_type": "execute_result",
          "data": {
            "text/plain": [
              "     sepal.length  sepal.width  petal.length  petal.width    variety\n",
              "0             5.1          3.5           1.4          0.2     Setosa\n",
              "1             4.9          3.0           1.4          0.2     Setosa\n",
              "2             4.7          3.2           1.3          0.2     Setosa\n",
              "3             4.6          3.1           1.5          0.2     Setosa\n",
              "4             5.0          3.6           1.4          0.2     Setosa\n",
              "..            ...          ...           ...          ...        ...\n",
              "145           6.7          3.0           5.2          2.3  Virginica\n",
              "146           6.3          2.5           5.0          1.9  Virginica\n",
              "147           6.5          3.0           5.2          2.0  Virginica\n",
              "148           6.2          3.4           5.4          2.3  Virginica\n",
              "149           5.9          3.0           5.1          1.8  Virginica\n",
              "\n",
              "[150 rows x 5 columns]"
            ],
            "text/html": [
              "\n",
              "  <div id=\"df-19cb9eb2-cb1c-4001-ad92-ceb4ede4d3d2\" class=\"colab-df-container\">\n",
              "    <div>\n",
              "<style scoped>\n",
              "    .dataframe tbody tr th:only-of-type {\n",
              "        vertical-align: middle;\n",
              "    }\n",
              "\n",
              "    .dataframe tbody tr th {\n",
              "        vertical-align: top;\n",
              "    }\n",
              "\n",
              "    .dataframe thead th {\n",
              "        text-align: right;\n",
              "    }\n",
              "</style>\n",
              "<table border=\"1\" class=\"dataframe\">\n",
              "  <thead>\n",
              "    <tr style=\"text-align: right;\">\n",
              "      <th></th>\n",
              "      <th>sepal.length</th>\n",
              "      <th>sepal.width</th>\n",
              "      <th>petal.length</th>\n",
              "      <th>petal.width</th>\n",
              "      <th>variety</th>\n",
              "    </tr>\n",
              "  </thead>\n",
              "  <tbody>\n",
              "    <tr>\n",
              "      <th>0</th>\n",
              "      <td>5.1</td>\n",
              "      <td>3.5</td>\n",
              "      <td>1.4</td>\n",
              "      <td>0.2</td>\n",
              "      <td>Setosa</td>\n",
              "    </tr>\n",
              "    <tr>\n",
              "      <th>1</th>\n",
              "      <td>4.9</td>\n",
              "      <td>3.0</td>\n",
              "      <td>1.4</td>\n",
              "      <td>0.2</td>\n",
              "      <td>Setosa</td>\n",
              "    </tr>\n",
              "    <tr>\n",
              "      <th>2</th>\n",
              "      <td>4.7</td>\n",
              "      <td>3.2</td>\n",
              "      <td>1.3</td>\n",
              "      <td>0.2</td>\n",
              "      <td>Setosa</td>\n",
              "    </tr>\n",
              "    <tr>\n",
              "      <th>3</th>\n",
              "      <td>4.6</td>\n",
              "      <td>3.1</td>\n",
              "      <td>1.5</td>\n",
              "      <td>0.2</td>\n",
              "      <td>Setosa</td>\n",
              "    </tr>\n",
              "    <tr>\n",
              "      <th>4</th>\n",
              "      <td>5.0</td>\n",
              "      <td>3.6</td>\n",
              "      <td>1.4</td>\n",
              "      <td>0.2</td>\n",
              "      <td>Setosa</td>\n",
              "    </tr>\n",
              "    <tr>\n",
              "      <th>...</th>\n",
              "      <td>...</td>\n",
              "      <td>...</td>\n",
              "      <td>...</td>\n",
              "      <td>...</td>\n",
              "      <td>...</td>\n",
              "    </tr>\n",
              "    <tr>\n",
              "      <th>145</th>\n",
              "      <td>6.7</td>\n",
              "      <td>3.0</td>\n",
              "      <td>5.2</td>\n",
              "      <td>2.3</td>\n",
              "      <td>Virginica</td>\n",
              "    </tr>\n",
              "    <tr>\n",
              "      <th>146</th>\n",
              "      <td>6.3</td>\n",
              "      <td>2.5</td>\n",
              "      <td>5.0</td>\n",
              "      <td>1.9</td>\n",
              "      <td>Virginica</td>\n",
              "    </tr>\n",
              "    <tr>\n",
              "      <th>147</th>\n",
              "      <td>6.5</td>\n",
              "      <td>3.0</td>\n",
              "      <td>5.2</td>\n",
              "      <td>2.0</td>\n",
              "      <td>Virginica</td>\n",
              "    </tr>\n",
              "    <tr>\n",
              "      <th>148</th>\n",
              "      <td>6.2</td>\n",
              "      <td>3.4</td>\n",
              "      <td>5.4</td>\n",
              "      <td>2.3</td>\n",
              "      <td>Virginica</td>\n",
              "    </tr>\n",
              "    <tr>\n",
              "      <th>149</th>\n",
              "      <td>5.9</td>\n",
              "      <td>3.0</td>\n",
              "      <td>5.1</td>\n",
              "      <td>1.8</td>\n",
              "      <td>Virginica</td>\n",
              "    </tr>\n",
              "  </tbody>\n",
              "</table>\n",
              "<p>150 rows × 5 columns</p>\n",
              "</div>\n",
              "    <div class=\"colab-df-buttons\">\n",
              "\n",
              "  <div class=\"colab-df-container\">\n",
              "    <button class=\"colab-df-convert\" onclick=\"convertToInteractive('df-19cb9eb2-cb1c-4001-ad92-ceb4ede4d3d2')\"\n",
              "            title=\"Convert this dataframe to an interactive table.\"\n",
              "            style=\"display:none;\">\n",
              "\n",
              "  <svg xmlns=\"http://www.w3.org/2000/svg\" height=\"24px\" viewBox=\"0 -960 960 960\">\n",
              "    <path d=\"M120-120v-720h720v720H120Zm60-500h600v-160H180v160Zm220 220h160v-160H400v160Zm0 220h160v-160H400v160ZM180-400h160v-160H180v160Zm440 0h160v-160H620v160ZM180-180h160v-160H180v160Zm440 0h160v-160H620v160Z\"/>\n",
              "  </svg>\n",
              "    </button>\n",
              "\n",
              "  <style>\n",
              "    .colab-df-container {\n",
              "      display:flex;\n",
              "      gap: 12px;\n",
              "    }\n",
              "\n",
              "    .colab-df-convert {\n",
              "      background-color: #E8F0FE;\n",
              "      border: none;\n",
              "      border-radius: 50%;\n",
              "      cursor: pointer;\n",
              "      display: none;\n",
              "      fill: #1967D2;\n",
              "      height: 32px;\n",
              "      padding: 0 0 0 0;\n",
              "      width: 32px;\n",
              "    }\n",
              "\n",
              "    .colab-df-convert:hover {\n",
              "      background-color: #E2EBFA;\n",
              "      box-shadow: 0px 1px 2px rgba(60, 64, 67, 0.3), 0px 1px 3px 1px rgba(60, 64, 67, 0.15);\n",
              "      fill: #174EA6;\n",
              "    }\n",
              "\n",
              "    .colab-df-buttons div {\n",
              "      margin-bottom: 4px;\n",
              "    }\n",
              "\n",
              "    [theme=dark] .colab-df-convert {\n",
              "      background-color: #3B4455;\n",
              "      fill: #D2E3FC;\n",
              "    }\n",
              "\n",
              "    [theme=dark] .colab-df-convert:hover {\n",
              "      background-color: #434B5C;\n",
              "      box-shadow: 0px 1px 3px 1px rgba(0, 0, 0, 0.15);\n",
              "      filter: drop-shadow(0px 1px 2px rgba(0, 0, 0, 0.3));\n",
              "      fill: #FFFFFF;\n",
              "    }\n",
              "  </style>\n",
              "\n",
              "    <script>\n",
              "      const buttonEl =\n",
              "        document.querySelector('#df-19cb9eb2-cb1c-4001-ad92-ceb4ede4d3d2 button.colab-df-convert');\n",
              "      buttonEl.style.display =\n",
              "        google.colab.kernel.accessAllowed ? 'block' : 'none';\n",
              "\n",
              "      async function convertToInteractive(key) {\n",
              "        const element = document.querySelector('#df-19cb9eb2-cb1c-4001-ad92-ceb4ede4d3d2');\n",
              "        const dataTable =\n",
              "          await google.colab.kernel.invokeFunction('convertToInteractive',\n",
              "                                                    [key], {});\n",
              "        if (!dataTable) return;\n",
              "\n",
              "        const docLinkHtml = 'Like what you see? Visit the ' +\n",
              "          '<a target=\"_blank\" href=https://colab.research.google.com/notebooks/data_table.ipynb>data table notebook</a>'\n",
              "          + ' to learn more about interactive tables.';\n",
              "        element.innerHTML = '';\n",
              "        dataTable['output_type'] = 'display_data';\n",
              "        await google.colab.output.renderOutput(dataTable, element);\n",
              "        const docLink = document.createElement('div');\n",
              "        docLink.innerHTML = docLinkHtml;\n",
              "        element.appendChild(docLink);\n",
              "      }\n",
              "    </script>\n",
              "  </div>\n",
              "\n",
              "\n",
              "<div id=\"df-17a58ef1-841d-4508-8295-cdd255294071\">\n",
              "  <button class=\"colab-df-quickchart\" onclick=\"quickchart('df-17a58ef1-841d-4508-8295-cdd255294071')\"\n",
              "            title=\"Suggest charts.\"\n",
              "            style=\"display:none;\">\n",
              "\n",
              "<svg xmlns=\"http://www.w3.org/2000/svg\" height=\"24px\"viewBox=\"0 0 24 24\"\n",
              "     width=\"24px\">\n",
              "    <g>\n",
              "        <path d=\"M19 3H5c-1.1 0-2 .9-2 2v14c0 1.1.9 2 2 2h14c1.1 0 2-.9 2-2V5c0-1.1-.9-2-2-2zM9 17H7v-7h2v7zm4 0h-2V7h2v10zm4 0h-2v-4h2v4z\"/>\n",
              "    </g>\n",
              "</svg>\n",
              "  </button>\n",
              "\n",
              "<style>\n",
              "  .colab-df-quickchart {\n",
              "      --bg-color: #E8F0FE;\n",
              "      --fill-color: #1967D2;\n",
              "      --hover-bg-color: #E2EBFA;\n",
              "      --hover-fill-color: #174EA6;\n",
              "      --disabled-fill-color: #AAA;\n",
              "      --disabled-bg-color: #DDD;\n",
              "  }\n",
              "\n",
              "  [theme=dark] .colab-df-quickchart {\n",
              "      --bg-color: #3B4455;\n",
              "      --fill-color: #D2E3FC;\n",
              "      --hover-bg-color: #434B5C;\n",
              "      --hover-fill-color: #FFFFFF;\n",
              "      --disabled-bg-color: #3B4455;\n",
              "      --disabled-fill-color: #666;\n",
              "  }\n",
              "\n",
              "  .colab-df-quickchart {\n",
              "    background-color: var(--bg-color);\n",
              "    border: none;\n",
              "    border-radius: 50%;\n",
              "    cursor: pointer;\n",
              "    display: none;\n",
              "    fill: var(--fill-color);\n",
              "    height: 32px;\n",
              "    padding: 0;\n",
              "    width: 32px;\n",
              "  }\n",
              "\n",
              "  .colab-df-quickchart:hover {\n",
              "    background-color: var(--hover-bg-color);\n",
              "    box-shadow: 0 1px 2px rgba(60, 64, 67, 0.3), 0 1px 3px 1px rgba(60, 64, 67, 0.15);\n",
              "    fill: var(--button-hover-fill-color);\n",
              "  }\n",
              "\n",
              "  .colab-df-quickchart-complete:disabled,\n",
              "  .colab-df-quickchart-complete:disabled:hover {\n",
              "    background-color: var(--disabled-bg-color);\n",
              "    fill: var(--disabled-fill-color);\n",
              "    box-shadow: none;\n",
              "  }\n",
              "\n",
              "  .colab-df-spinner {\n",
              "    border: 2px solid var(--fill-color);\n",
              "    border-color: transparent;\n",
              "    border-bottom-color: var(--fill-color);\n",
              "    animation:\n",
              "      spin 1s steps(1) infinite;\n",
              "  }\n",
              "\n",
              "  @keyframes spin {\n",
              "    0% {\n",
              "      border-color: transparent;\n",
              "      border-bottom-color: var(--fill-color);\n",
              "      border-left-color: var(--fill-color);\n",
              "    }\n",
              "    20% {\n",
              "      border-color: transparent;\n",
              "      border-left-color: var(--fill-color);\n",
              "      border-top-color: var(--fill-color);\n",
              "    }\n",
              "    30% {\n",
              "      border-color: transparent;\n",
              "      border-left-color: var(--fill-color);\n",
              "      border-top-color: var(--fill-color);\n",
              "      border-right-color: var(--fill-color);\n",
              "    }\n",
              "    40% {\n",
              "      border-color: transparent;\n",
              "      border-right-color: var(--fill-color);\n",
              "      border-top-color: var(--fill-color);\n",
              "    }\n",
              "    60% {\n",
              "      border-color: transparent;\n",
              "      border-right-color: var(--fill-color);\n",
              "    }\n",
              "    80% {\n",
              "      border-color: transparent;\n",
              "      border-right-color: var(--fill-color);\n",
              "      border-bottom-color: var(--fill-color);\n",
              "    }\n",
              "    90% {\n",
              "      border-color: transparent;\n",
              "      border-bottom-color: var(--fill-color);\n",
              "    }\n",
              "  }\n",
              "</style>\n",
              "\n",
              "  <script>\n",
              "    async function quickchart(key) {\n",
              "      const quickchartButtonEl =\n",
              "        document.querySelector('#' + key + ' button');\n",
              "      quickchartButtonEl.disabled = true;  // To prevent multiple clicks.\n",
              "      quickchartButtonEl.classList.add('colab-df-spinner');\n",
              "      try {\n",
              "        const charts = await google.colab.kernel.invokeFunction(\n",
              "            'suggestCharts', [key], {});\n",
              "      } catch (error) {\n",
              "        console.error('Error during call to suggestCharts:', error);\n",
              "      }\n",
              "      quickchartButtonEl.classList.remove('colab-df-spinner');\n",
              "      quickchartButtonEl.classList.add('colab-df-quickchart-complete');\n",
              "    }\n",
              "    (() => {\n",
              "      let quickchartButtonEl =\n",
              "        document.querySelector('#df-17a58ef1-841d-4508-8295-cdd255294071 button');\n",
              "      quickchartButtonEl.style.display =\n",
              "        google.colab.kernel.accessAllowed ? 'block' : 'none';\n",
              "    })();\n",
              "  </script>\n",
              "</div>\n",
              "    </div>\n",
              "  </div>\n"
            ]
          },
          "metadata": {},
          "execution_count": 100
        }
      ]
    },
    {
      "cell_type": "code",
      "execution_count": null,
      "metadata": {
        "colab": {
          "base_uri": "https://localhost:8080/"
        },
        "id": "wTo8C81SvjJm",
        "outputId": "7c3b0131-2b48-4cd3-ae7a-5df71fcb2455"
      },
      "outputs": [
        {
          "output_type": "execute_result",
          "data": {
            "text/plain": [
              "((150, 4), (150,))"
            ]
          },
          "metadata": {},
          "execution_count": 83
        }
      ],
      "source": [
        "# Lấy dữ liệu Feature, Label từ dataframe\n",
        "array = df.values\n",
        "X = array[:,0:4]\n",
        "Y = array[:,4]\n",
        "X.shape, Y.shape"
      ]
    },
    {
      "cell_type": "code",
      "execution_count": null,
      "metadata": {
        "colab": {
          "base_uri": "https://localhost:8080/"
        },
        "id": "Nya3RHk7J64I",
        "outputId": "18dc590e-1462-4d8f-f0eb-95c5be78d1b9"
      },
      "outputs": [
        {
          "output_type": "execute_result",
          "data": {
            "text/plain": [
              "((120, 4), (120,), (30, 4), (30,))"
            ]
          },
          "metadata": {},
          "execution_count": 84
        }
      ],
      "source": [
        "# Chia dữ liệu train-test\n",
        "test_size = 0.2\n",
        "seed = 7\n",
        "X_train, X_test, Y_train, Y_test = train_test_split(X, Y, test_size=test_size, random_state=seed)\n",
        "X_train.shape, Y_train.shape, X_test.shape, Y_test.shape"
      ]
    },
    {
      "cell_type": "markdown",
      "metadata": {
        "id": "rY7kfzZTKznA"
      },
      "source": [
        "## K-nearest Neighbors"
      ]
    },
    {
      "cell_type": "code",
      "execution_count": null,
      "metadata": {
        "colab": {
          "base_uri": "https://localhost:8080/",
          "height": 74
        },
        "id": "3mkvkt38vjJn",
        "outputId": "fc87eaf2-15d7-49d2-ec56-a4fef9712e32"
      },
      "outputs": [
        {
          "output_type": "execute_result",
          "data": {
            "text/plain": [
              "KNeighborsClassifier(n_neighbors=3)"
            ],
            "text/html": [
              "<style>#sk-container-id-2 {color: black;background-color: white;}#sk-container-id-2 pre{padding: 0;}#sk-container-id-2 div.sk-toggleable {background-color: white;}#sk-container-id-2 label.sk-toggleable__label {cursor: pointer;display: block;width: 100%;margin-bottom: 0;padding: 0.3em;box-sizing: border-box;text-align: center;}#sk-container-id-2 label.sk-toggleable__label-arrow:before {content: \"▸\";float: left;margin-right: 0.25em;color: #696969;}#sk-container-id-2 label.sk-toggleable__label-arrow:hover:before {color: black;}#sk-container-id-2 div.sk-estimator:hover label.sk-toggleable__label-arrow:before {color: black;}#sk-container-id-2 div.sk-toggleable__content {max-height: 0;max-width: 0;overflow: hidden;text-align: left;background-color: #f0f8ff;}#sk-container-id-2 div.sk-toggleable__content pre {margin: 0.2em;color: black;border-radius: 0.25em;background-color: #f0f8ff;}#sk-container-id-2 input.sk-toggleable__control:checked~div.sk-toggleable__content {max-height: 200px;max-width: 100%;overflow: auto;}#sk-container-id-2 input.sk-toggleable__control:checked~label.sk-toggleable__label-arrow:before {content: \"▾\";}#sk-container-id-2 div.sk-estimator input.sk-toggleable__control:checked~label.sk-toggleable__label {background-color: #d4ebff;}#sk-container-id-2 div.sk-label input.sk-toggleable__control:checked~label.sk-toggleable__label {background-color: #d4ebff;}#sk-container-id-2 input.sk-hidden--visually {border: 0;clip: rect(1px 1px 1px 1px);clip: rect(1px, 1px, 1px, 1px);height: 1px;margin: -1px;overflow: hidden;padding: 0;position: absolute;width: 1px;}#sk-container-id-2 div.sk-estimator {font-family: monospace;background-color: #f0f8ff;border: 1px dotted black;border-radius: 0.25em;box-sizing: border-box;margin-bottom: 0.5em;}#sk-container-id-2 div.sk-estimator:hover {background-color: #d4ebff;}#sk-container-id-2 div.sk-parallel-item::after {content: \"\";width: 100%;border-bottom: 1px solid gray;flex-grow: 1;}#sk-container-id-2 div.sk-label:hover label.sk-toggleable__label {background-color: #d4ebff;}#sk-container-id-2 div.sk-serial::before {content: \"\";position: absolute;border-left: 1px solid gray;box-sizing: border-box;top: 0;bottom: 0;left: 50%;z-index: 0;}#sk-container-id-2 div.sk-serial {display: flex;flex-direction: column;align-items: center;background-color: white;padding-right: 0.2em;padding-left: 0.2em;position: relative;}#sk-container-id-2 div.sk-item {position: relative;z-index: 1;}#sk-container-id-2 div.sk-parallel {display: flex;align-items: stretch;justify-content: center;background-color: white;position: relative;}#sk-container-id-2 div.sk-item::before, #sk-container-id-2 div.sk-parallel-item::before {content: \"\";position: absolute;border-left: 1px solid gray;box-sizing: border-box;top: 0;bottom: 0;left: 50%;z-index: -1;}#sk-container-id-2 div.sk-parallel-item {display: flex;flex-direction: column;z-index: 1;position: relative;background-color: white;}#sk-container-id-2 div.sk-parallel-item:first-child::after {align-self: flex-end;width: 50%;}#sk-container-id-2 div.sk-parallel-item:last-child::after {align-self: flex-start;width: 50%;}#sk-container-id-2 div.sk-parallel-item:only-child::after {width: 0;}#sk-container-id-2 div.sk-dashed-wrapped {border: 1px dashed gray;margin: 0 0.4em 0.5em 0.4em;box-sizing: border-box;padding-bottom: 0.4em;background-color: white;}#sk-container-id-2 div.sk-label label {font-family: monospace;font-weight: bold;display: inline-block;line-height: 1.2em;}#sk-container-id-2 div.sk-label-container {text-align: center;}#sk-container-id-2 div.sk-container {/* jupyter's `normalize.less` sets `[hidden] { display: none; }` but bootstrap.min.css set `[hidden] { display: none !important; }` so we also need the `!important` here to be able to override the default hidden behavior on the sphinx rendered scikit-learn.org. See: https://github.com/scikit-learn/scikit-learn/issues/21755 */display: inline-block !important;position: relative;}#sk-container-id-2 div.sk-text-repr-fallback {display: none;}</style><div id=\"sk-container-id-2\" class=\"sk-top-container\"><div class=\"sk-text-repr-fallback\"><pre>KNeighborsClassifier(n_neighbors=3)</pre><b>In a Jupyter environment, please rerun this cell to show the HTML representation or trust the notebook. <br />On GitHub, the HTML representation is unable to render, please try loading this page with nbviewer.org.</b></div><div class=\"sk-container\" hidden><div class=\"sk-item\"><div class=\"sk-estimator sk-toggleable\"><input class=\"sk-toggleable__control sk-hidden--visually\" id=\"sk-estimator-id-2\" type=\"checkbox\" checked><label for=\"sk-estimator-id-2\" class=\"sk-toggleable__label sk-toggleable__label-arrow\">KNeighborsClassifier</label><div class=\"sk-toggleable__content\"><pre>KNeighborsClassifier(n_neighbors=3)</pre></div></div></div></div></div>"
            ]
          },
          "metadata": {},
          "execution_count": 101
        }
      ],
      "source": [
        "n_neighbor=3\n",
        "model = KNeighborsClassifier(n_neighbor)\n",
        "model.fit(X_train, Y_train)"
      ]
    },
    {
      "cell_type": "code",
      "execution_count": null,
      "metadata": {
        "colab": {
          "base_uri": "https://localhost:8080/"
        },
        "id": "pipz4HvVvjJn",
        "outputId": "7c8c6206-2169-4a7f-9220-33ff88464292"
      },
      "outputs": [
        {
          "output_type": "stream",
          "name": "stdout",
          "text": [
            "Accuracy: 0.975\n"
          ]
        }
      ],
      "source": [
        "y_pred = model.predict(X_train)\n",
        "accuracy = accuracy_score(Y_train, y_pred)\n",
        "print(\"Accuracy:\", accuracy)"
      ]
    },
    {
      "cell_type": "code",
      "execution_count": null,
      "metadata": {
        "colab": {
          "base_uri": "https://localhost:8080/"
        },
        "id": "za6-PzEVIP1F",
        "outputId": "ea24322f-ec03-40af-aa7c-fe9d9a022df1"
      },
      "outputs": [
        {
          "output_type": "stream",
          "name": "stdout",
          "text": [
            "              precision    recall  f1-score   support\n",
            "\n",
            "      Setosa       1.00      1.00      1.00        43\n",
            "  Versicolor       0.97      0.95      0.96        38\n",
            "   Virginica       0.95      0.97      0.96        39\n",
            "\n",
            "    accuracy                           0.97       120\n",
            "   macro avg       0.97      0.97      0.97       120\n",
            "weighted avg       0.98      0.97      0.97       120\n",
            "\n"
          ]
        }
      ],
      "source": [
        "print(classification_report(Y_train, y_pred ))"
      ]
    },
    {
      "cell_type": "markdown",
      "metadata": {
        "id": "64gGPl3WIm1J"
      },
      "source": [
        "**Exercise 1.**\n",
        "\n",
        "Sử dụng `model` đã huấn luyện để dự đoán nhãn cho tập test (`X_test`) và Tính *accuracy*"
      ]
    },
    {
      "cell_type": "code",
      "execution_count": null,
      "metadata": {
        "id": "qJTnwMlRJB6S",
        "colab": {
          "base_uri": "https://localhost:8080/"
        },
        "outputId": "f26e305a-d113-43fd-b28d-df979aa33c41"
      },
      "outputs": [
        {
          "output_type": "execute_result",
          "data": {
            "text/plain": [
              "0.9"
            ]
          },
          "metadata": {},
          "execution_count": 105
        }
      ],
      "source": [
        "# your code here\n",
        "y_test_pred = model.predict(X_test)\n",
        "# y_test_pred.shape, y_test_pred\n",
        "acc_test = accuracy_score(Y_test, y_test_pred)\n",
        "acc_test"
      ]
    },
    {
      "cell_type": "markdown",
      "metadata": {
        "id": "GuTH43NcJHgy"
      },
      "source": [
        "**Exercise 2.**\n",
        "\n",
        "1. thay đổi giá trị seed\n",
        "2. Chia tập train-test theo mức 70-30\n",
        "3. Tạo model `KNeighborsClassifier` với số `n_neighbor`=5\n",
        "4. Huấn luyện mô hình và tính accuray cho tập test"
      ]
    },
    {
      "cell_type": "code",
      "execution_count": null,
      "metadata": {
        "id": "10sLbcXlJlGP"
      },
      "outputs": [],
      "source": [
        "# your code here"
      ]
    },
    {
      "cell_type": "markdown",
      "metadata": {
        "id": "KAwfwzEnK4Fh"
      },
      "source": [
        "## Support Vector Machine (SVM)"
      ]
    },
    {
      "cell_type": "code",
      "execution_count": null,
      "metadata": {
        "colab": {
          "base_uri": "https://localhost:8080/"
        },
        "id": "ebjzG-AavjJo",
        "outputId": "69167bb3-3cde-4d9f-e919-47641113daef"
      },
      "outputs": [
        {
          "output_type": "stream",
          "name": "stdout",
          "text": [
            "              precision    recall  f1-score   support\n",
            "\n",
            "      Setosa       1.00      1.00      1.00         7\n",
            "  Versicolor       0.83      0.83      0.83        12\n",
            "   Virginica       0.82      0.82      0.82        11\n",
            "\n",
            "    accuracy                           0.87        30\n",
            "   macro avg       0.88      0.88      0.88        30\n",
            "weighted avg       0.87      0.87      0.87        30\n",
            "\n"
          ]
        }
      ],
      "source": [
        "from sklearn.svm import SVC\n",
        "# Make predictions on validation dataset\n",
        "svn = SVC()\n",
        "svn.fit(X_train, Y_train)\n",
        "predictions = svn.predict(X_test)\n",
        "# print(accuracy_score(Y_test, predictions))\n",
        "print(classification_report(Y_test, predictions))"
      ]
    },
    {
      "cell_type": "markdown",
      "metadata": {
        "id": "N3XlpBZIvjJo"
      },
      "source": [
        "**Exercise3: Thử dự đoán dữ liệu tự tạo**\n",
        "\n",
        "Tự tạo dữ liệu của 1 bản ghi chứa giá trị của 4 thuộc tính (`X_new`) và cho mô hình `svm` dự đoán `label` của bản ghi đó"
      ]
    },
    {
      "cell_type": "code",
      "source": [
        "X_train.shape"
      ],
      "metadata": {
        "colab": {
          "base_uri": "https://localhost:8080/"
        },
        "id": "RK8lAe0WE5r9",
        "outputId": "66d77837-d359-4f2d-cf46-6224fab1f4b3"
      },
      "execution_count": null,
      "outputs": [
        {
          "output_type": "execute_result",
          "data": {
            "text/plain": [
              "(120, 4)"
            ]
          },
          "metadata": {},
          "execution_count": 113
        }
      ]
    },
    {
      "cell_type": "code",
      "source": [
        "X_train.shape\n",
        "x = np.array([1.2, 1.3, 0.7, 0.9])\n",
        "x.shape"
      ],
      "metadata": {
        "colab": {
          "base_uri": "https://localhost:8080/"
        },
        "id": "u7pMuTfUEnGt",
        "outputId": "2fd5b5e3-f820-4f4e-9aac-bd5b6d69d0fe"
      },
      "execution_count": null,
      "outputs": [
        {
          "output_type": "execute_result",
          "data": {
            "text/plain": [
              "(4,)"
            ]
          },
          "metadata": {},
          "execution_count": 112
        }
      ]
    },
    {
      "cell_type": "code",
      "source": [
        "x_tmp = x.reshape(1,4)\n",
        "x_tmp.shape"
      ],
      "metadata": {
        "colab": {
          "base_uri": "https://localhost:8080/"
        },
        "id": "eS0orLl-FJoA",
        "outputId": "04ba2c90-7fa2-4ba8-b993-01a8d4410ebd"
      },
      "execution_count": null,
      "outputs": [
        {
          "output_type": "execute_result",
          "data": {
            "text/plain": [
              "(1, 4)"
            ]
          },
          "metadata": {},
          "execution_count": 115
        }
      ]
    },
    {
      "cell_type": "code",
      "source": [
        "X_new = np.array([[1.2, 1.3, 0.7, 0.9]])\n",
        "pred = svn.predict(X_new)\n"
      ],
      "metadata": {
        "id": "V46mqYfDEWnX"
      },
      "execution_count": null,
      "outputs": []
    },
    {
      "cell_type": "code",
      "execution_count": null,
      "metadata": {
        "id": "-8E_1cmcLsXv"
      },
      "outputs": [],
      "source": [
        "# your code here\n",
        "X_new = ...\n",
        "\n",
        "prediction = ..."
      ]
    },
    {
      "cell_type": "markdown",
      "metadata": {
        "id": "ZxS38nWEE95_"
      },
      "source": [
        "## SVMs MNIST"
      ]
    },
    {
      "cell_type": "code",
      "execution_count": null,
      "metadata": {
        "id": "kWVApsG9E8t6"
      },
      "outputs": [],
      "source": [
        "# Required Libraries\n",
        "\n",
        "from torchvision import datasets # MNIST datasets\n",
        "from torchvision.transforms import ToTensor # transform PIL image to torch.Tensor\n",
        "\n",
        "import pandas as pd\n",
        "import numpy as np\n",
        "from sklearn.model_selection import train_test_split\n",
        "from sklearn.preprocessing import MinMaxScaler\n",
        "from sklearn import svm\n",
        "from sklearn.utils import shuffle\n",
        "from sklearn.decomposition import PCA\n",
        "import matplotlib.pyplot as plt\n",
        "\n",
        "from sklearn.metrics import classification_report\n",
        "\n",
        "from pathlib import Path\n",
        "import gdown"
      ]
    },
    {
      "cell_type": "code",
      "execution_count": null,
      "metadata": {
        "id": "-vQERX5JFDBU",
        "colab": {
          "base_uri": "https://localhost:8080/"
        },
        "outputId": "c5d6a755-e27e-4098-90c5-1bb1e8a387c4"
      },
      "outputs": [
        {
          "output_type": "stream",
          "name": "stderr",
          "text": [
            "Downloading...\n",
            "From: https://drive.google.com/uc?id=1c6CDZR6q5wAyqcvCX-XCmcbJmQ5D5Ydv\n",
            "To: /content/mnist_train.zip\n",
            "100%|██████████| 13.7M/13.7M [00:00<00:00, 37.3MB/s]\n",
            "Downloading...\n",
            "From: https://drive.google.com/uc?id=1G2FwNi1UEe47AMfXSWr4cYprNVOVEgNQ\n",
            "To: /content/mnist_test.zip\n",
            "100%|██████████| 2.28M/2.28M [00:00<00:00, 169MB/s]\n"
          ]
        }
      ],
      "source": [
        "# Loading Kaggle MNIST data from drive\n",
        "\n",
        "TRAIN_PATH = 'mnist_train.zip'\n",
        "\n",
        "if not Path(TRAIN_PATH).is_file():\n",
        "    gdown.download(\n",
        "        id='1c6CDZR6q5wAyqcvCX-XCmcbJmQ5D5Ydv',\n",
        "        output=TRAIN_PATH,\n",
        ")\n",
        "\n",
        "TEST_PATH = 'mnist_test.zip'\n",
        "if not Path(TEST_PATH).is_file():\n",
        "    gdown.download(\n",
        "        id='1G2FwNi1UEe47AMfXSWr4cYprNVOVEgNQ',\n",
        "        output=TEST_PATH,\n",
        ")"
      ]
    },
    {
      "cell_type": "code",
      "execution_count": null,
      "metadata": {
        "colab": {
          "base_uri": "https://localhost:8080/"
        },
        "id": "njWg16OwFFj7",
        "outputId": "e39fde96-9620-4b95-de76-8fedf2ba0b21"
      },
      "outputs": [
        {
          "output_type": "stream",
          "name": "stdout",
          "text": [
            "Archive:  mnist_train.zip\n",
            "  inflating: mnist_train.csv         \n",
            "Archive:  mnist_test.zip\n",
            "  inflating: mnist_test.csv          \n"
          ]
        }
      ],
      "source": [
        "# unzip data\n",
        "!unzip mnist_train.zip\n",
        "!unzip mnist_test.zip"
      ]
    },
    {
      "cell_type": "code",
      "execution_count": null,
      "metadata": {
        "colab": {
          "base_uri": "https://localhost:8080/",
          "height": 255
        },
        "id": "35jqGEYPF6li",
        "outputId": "b4f8dbce-066d-4711-9904-7cebf7f8e8ff"
      },
      "outputs": [
        {
          "output_type": "execute_result",
          "data": {
            "text/plain": [
              "   label  1x1  1x2  1x3  1x4  1x5  1x6  1x7  1x8  1x9  ...  28x19  28x20  \\\n",
              "0      5    0    0    0    0    0    0    0    0    0  ...      0      0   \n",
              "1      0    0    0    0    0    0    0    0    0    0  ...      0      0   \n",
              "2      4    0    0    0    0    0    0    0    0    0  ...      0      0   \n",
              "3      1    0    0    0    0    0    0    0    0    0  ...      0      0   \n",
              "4      9    0    0    0    0    0    0    0    0    0  ...      0      0   \n",
              "\n",
              "   28x21  28x22  28x23  28x24  28x25  28x26  28x27  28x28  \n",
              "0      0      0      0      0      0      0      0      0  \n",
              "1      0      0      0      0      0      0      0      0  \n",
              "2      0      0      0      0      0      0      0      0  \n",
              "3      0      0      0      0      0      0      0      0  \n",
              "4      0      0      0      0      0      0      0      0  \n",
              "\n",
              "[5 rows x 785 columns]"
            ],
            "text/html": [
              "\n",
              "  <div id=\"df-60c21a77-ef51-4e12-81cf-3787c12135ae\" class=\"colab-df-container\">\n",
              "    <div>\n",
              "<style scoped>\n",
              "    .dataframe tbody tr th:only-of-type {\n",
              "        vertical-align: middle;\n",
              "    }\n",
              "\n",
              "    .dataframe tbody tr th {\n",
              "        vertical-align: top;\n",
              "    }\n",
              "\n",
              "    .dataframe thead th {\n",
              "        text-align: right;\n",
              "    }\n",
              "</style>\n",
              "<table border=\"1\" class=\"dataframe\">\n",
              "  <thead>\n",
              "    <tr style=\"text-align: right;\">\n",
              "      <th></th>\n",
              "      <th>label</th>\n",
              "      <th>1x1</th>\n",
              "      <th>1x2</th>\n",
              "      <th>1x3</th>\n",
              "      <th>1x4</th>\n",
              "      <th>1x5</th>\n",
              "      <th>1x6</th>\n",
              "      <th>1x7</th>\n",
              "      <th>1x8</th>\n",
              "      <th>1x9</th>\n",
              "      <th>...</th>\n",
              "      <th>28x19</th>\n",
              "      <th>28x20</th>\n",
              "      <th>28x21</th>\n",
              "      <th>28x22</th>\n",
              "      <th>28x23</th>\n",
              "      <th>28x24</th>\n",
              "      <th>28x25</th>\n",
              "      <th>28x26</th>\n",
              "      <th>28x27</th>\n",
              "      <th>28x28</th>\n",
              "    </tr>\n",
              "  </thead>\n",
              "  <tbody>\n",
              "    <tr>\n",
              "      <th>0</th>\n",
              "      <td>5</td>\n",
              "      <td>0</td>\n",
              "      <td>0</td>\n",
              "      <td>0</td>\n",
              "      <td>0</td>\n",
              "      <td>0</td>\n",
              "      <td>0</td>\n",
              "      <td>0</td>\n",
              "      <td>0</td>\n",
              "      <td>0</td>\n",
              "      <td>...</td>\n",
              "      <td>0</td>\n",
              "      <td>0</td>\n",
              "      <td>0</td>\n",
              "      <td>0</td>\n",
              "      <td>0</td>\n",
              "      <td>0</td>\n",
              "      <td>0</td>\n",
              "      <td>0</td>\n",
              "      <td>0</td>\n",
              "      <td>0</td>\n",
              "    </tr>\n",
              "    <tr>\n",
              "      <th>1</th>\n",
              "      <td>0</td>\n",
              "      <td>0</td>\n",
              "      <td>0</td>\n",
              "      <td>0</td>\n",
              "      <td>0</td>\n",
              "      <td>0</td>\n",
              "      <td>0</td>\n",
              "      <td>0</td>\n",
              "      <td>0</td>\n",
              "      <td>0</td>\n",
              "      <td>...</td>\n",
              "      <td>0</td>\n",
              "      <td>0</td>\n",
              "      <td>0</td>\n",
              "      <td>0</td>\n",
              "      <td>0</td>\n",
              "      <td>0</td>\n",
              "      <td>0</td>\n",
              "      <td>0</td>\n",
              "      <td>0</td>\n",
              "      <td>0</td>\n",
              "    </tr>\n",
              "    <tr>\n",
              "      <th>2</th>\n",
              "      <td>4</td>\n",
              "      <td>0</td>\n",
              "      <td>0</td>\n",
              "      <td>0</td>\n",
              "      <td>0</td>\n",
              "      <td>0</td>\n",
              "      <td>0</td>\n",
              "      <td>0</td>\n",
              "      <td>0</td>\n",
              "      <td>0</td>\n",
              "      <td>...</td>\n",
              "      <td>0</td>\n",
              "      <td>0</td>\n",
              "      <td>0</td>\n",
              "      <td>0</td>\n",
              "      <td>0</td>\n",
              "      <td>0</td>\n",
              "      <td>0</td>\n",
              "      <td>0</td>\n",
              "      <td>0</td>\n",
              "      <td>0</td>\n",
              "    </tr>\n",
              "    <tr>\n",
              "      <th>3</th>\n",
              "      <td>1</td>\n",
              "      <td>0</td>\n",
              "      <td>0</td>\n",
              "      <td>0</td>\n",
              "      <td>0</td>\n",
              "      <td>0</td>\n",
              "      <td>0</td>\n",
              "      <td>0</td>\n",
              "      <td>0</td>\n",
              "      <td>0</td>\n",
              "      <td>...</td>\n",
              "      <td>0</td>\n",
              "      <td>0</td>\n",
              "      <td>0</td>\n",
              "      <td>0</td>\n",
              "      <td>0</td>\n",
              "      <td>0</td>\n",
              "      <td>0</td>\n",
              "      <td>0</td>\n",
              "      <td>0</td>\n",
              "      <td>0</td>\n",
              "    </tr>\n",
              "    <tr>\n",
              "      <th>4</th>\n",
              "      <td>9</td>\n",
              "      <td>0</td>\n",
              "      <td>0</td>\n",
              "      <td>0</td>\n",
              "      <td>0</td>\n",
              "      <td>0</td>\n",
              "      <td>0</td>\n",
              "      <td>0</td>\n",
              "      <td>0</td>\n",
              "      <td>0</td>\n",
              "      <td>...</td>\n",
              "      <td>0</td>\n",
              "      <td>0</td>\n",
              "      <td>0</td>\n",
              "      <td>0</td>\n",
              "      <td>0</td>\n",
              "      <td>0</td>\n",
              "      <td>0</td>\n",
              "      <td>0</td>\n",
              "      <td>0</td>\n",
              "      <td>0</td>\n",
              "    </tr>\n",
              "  </tbody>\n",
              "</table>\n",
              "<p>5 rows × 785 columns</p>\n",
              "</div>\n",
              "    <div class=\"colab-df-buttons\">\n",
              "\n",
              "  <div class=\"colab-df-container\">\n",
              "    <button class=\"colab-df-convert\" onclick=\"convertToInteractive('df-60c21a77-ef51-4e12-81cf-3787c12135ae')\"\n",
              "            title=\"Convert this dataframe to an interactive table.\"\n",
              "            style=\"display:none;\">\n",
              "\n",
              "  <svg xmlns=\"http://www.w3.org/2000/svg\" height=\"24px\" viewBox=\"0 -960 960 960\">\n",
              "    <path d=\"M120-120v-720h720v720H120Zm60-500h600v-160H180v160Zm220 220h160v-160H400v160Zm0 220h160v-160H400v160ZM180-400h160v-160H180v160Zm440 0h160v-160H620v160ZM180-180h160v-160H180v160Zm440 0h160v-160H620v160Z\"/>\n",
              "  </svg>\n",
              "    </button>\n",
              "\n",
              "  <style>\n",
              "    .colab-df-container {\n",
              "      display:flex;\n",
              "      gap: 12px;\n",
              "    }\n",
              "\n",
              "    .colab-df-convert {\n",
              "      background-color: #E8F0FE;\n",
              "      border: none;\n",
              "      border-radius: 50%;\n",
              "      cursor: pointer;\n",
              "      display: none;\n",
              "      fill: #1967D2;\n",
              "      height: 32px;\n",
              "      padding: 0 0 0 0;\n",
              "      width: 32px;\n",
              "    }\n",
              "\n",
              "    .colab-df-convert:hover {\n",
              "      background-color: #E2EBFA;\n",
              "      box-shadow: 0px 1px 2px rgba(60, 64, 67, 0.3), 0px 1px 3px 1px rgba(60, 64, 67, 0.15);\n",
              "      fill: #174EA6;\n",
              "    }\n",
              "\n",
              "    .colab-df-buttons div {\n",
              "      margin-bottom: 4px;\n",
              "    }\n",
              "\n",
              "    [theme=dark] .colab-df-convert {\n",
              "      background-color: #3B4455;\n",
              "      fill: #D2E3FC;\n",
              "    }\n",
              "\n",
              "    [theme=dark] .colab-df-convert:hover {\n",
              "      background-color: #434B5C;\n",
              "      box-shadow: 0px 1px 3px 1px rgba(0, 0, 0, 0.15);\n",
              "      filter: drop-shadow(0px 1px 2px rgba(0, 0, 0, 0.3));\n",
              "      fill: #FFFFFF;\n",
              "    }\n",
              "  </style>\n",
              "\n",
              "    <script>\n",
              "      const buttonEl =\n",
              "        document.querySelector('#df-60c21a77-ef51-4e12-81cf-3787c12135ae button.colab-df-convert');\n",
              "      buttonEl.style.display =\n",
              "        google.colab.kernel.accessAllowed ? 'block' : 'none';\n",
              "\n",
              "      async function convertToInteractive(key) {\n",
              "        const element = document.querySelector('#df-60c21a77-ef51-4e12-81cf-3787c12135ae');\n",
              "        const dataTable =\n",
              "          await google.colab.kernel.invokeFunction('convertToInteractive',\n",
              "                                                    [key], {});\n",
              "        if (!dataTable) return;\n",
              "\n",
              "        const docLinkHtml = 'Like what you see? Visit the ' +\n",
              "          '<a target=\"_blank\" href=https://colab.research.google.com/notebooks/data_table.ipynb>data table notebook</a>'\n",
              "          + ' to learn more about interactive tables.';\n",
              "        element.innerHTML = '';\n",
              "        dataTable['output_type'] = 'display_data';\n",
              "        await google.colab.output.renderOutput(dataTable, element);\n",
              "        const docLink = document.createElement('div');\n",
              "        docLink.innerHTML = docLinkHtml;\n",
              "        element.appendChild(docLink);\n",
              "      }\n",
              "    </script>\n",
              "  </div>\n",
              "\n",
              "\n",
              "<div id=\"df-d04ede37-cee6-4e38-a40b-e5c11d67af80\">\n",
              "  <button class=\"colab-df-quickchart\" onclick=\"quickchart('df-d04ede37-cee6-4e38-a40b-e5c11d67af80')\"\n",
              "            title=\"Suggest charts.\"\n",
              "            style=\"display:none;\">\n",
              "\n",
              "<svg xmlns=\"http://www.w3.org/2000/svg\" height=\"24px\"viewBox=\"0 0 24 24\"\n",
              "     width=\"24px\">\n",
              "    <g>\n",
              "        <path d=\"M19 3H5c-1.1 0-2 .9-2 2v14c0 1.1.9 2 2 2h14c1.1 0 2-.9 2-2V5c0-1.1-.9-2-2-2zM9 17H7v-7h2v7zm4 0h-2V7h2v10zm4 0h-2v-4h2v4z\"/>\n",
              "    </g>\n",
              "</svg>\n",
              "  </button>\n",
              "\n",
              "<style>\n",
              "  .colab-df-quickchart {\n",
              "      --bg-color: #E8F0FE;\n",
              "      --fill-color: #1967D2;\n",
              "      --hover-bg-color: #E2EBFA;\n",
              "      --hover-fill-color: #174EA6;\n",
              "      --disabled-fill-color: #AAA;\n",
              "      --disabled-bg-color: #DDD;\n",
              "  }\n",
              "\n",
              "  [theme=dark] .colab-df-quickchart {\n",
              "      --bg-color: #3B4455;\n",
              "      --fill-color: #D2E3FC;\n",
              "      --hover-bg-color: #434B5C;\n",
              "      --hover-fill-color: #FFFFFF;\n",
              "      --disabled-bg-color: #3B4455;\n",
              "      --disabled-fill-color: #666;\n",
              "  }\n",
              "\n",
              "  .colab-df-quickchart {\n",
              "    background-color: var(--bg-color);\n",
              "    border: none;\n",
              "    border-radius: 50%;\n",
              "    cursor: pointer;\n",
              "    display: none;\n",
              "    fill: var(--fill-color);\n",
              "    height: 32px;\n",
              "    padding: 0;\n",
              "    width: 32px;\n",
              "  }\n",
              "\n",
              "  .colab-df-quickchart:hover {\n",
              "    background-color: var(--hover-bg-color);\n",
              "    box-shadow: 0 1px 2px rgba(60, 64, 67, 0.3), 0 1px 3px 1px rgba(60, 64, 67, 0.15);\n",
              "    fill: var(--button-hover-fill-color);\n",
              "  }\n",
              "\n",
              "  .colab-df-quickchart-complete:disabled,\n",
              "  .colab-df-quickchart-complete:disabled:hover {\n",
              "    background-color: var(--disabled-bg-color);\n",
              "    fill: var(--disabled-fill-color);\n",
              "    box-shadow: none;\n",
              "  }\n",
              "\n",
              "  .colab-df-spinner {\n",
              "    border: 2px solid var(--fill-color);\n",
              "    border-color: transparent;\n",
              "    border-bottom-color: var(--fill-color);\n",
              "    animation:\n",
              "      spin 1s steps(1) infinite;\n",
              "  }\n",
              "\n",
              "  @keyframes spin {\n",
              "    0% {\n",
              "      border-color: transparent;\n",
              "      border-bottom-color: var(--fill-color);\n",
              "      border-left-color: var(--fill-color);\n",
              "    }\n",
              "    20% {\n",
              "      border-color: transparent;\n",
              "      border-left-color: var(--fill-color);\n",
              "      border-top-color: var(--fill-color);\n",
              "    }\n",
              "    30% {\n",
              "      border-color: transparent;\n",
              "      border-left-color: var(--fill-color);\n",
              "      border-top-color: var(--fill-color);\n",
              "      border-right-color: var(--fill-color);\n",
              "    }\n",
              "    40% {\n",
              "      border-color: transparent;\n",
              "      border-right-color: var(--fill-color);\n",
              "      border-top-color: var(--fill-color);\n",
              "    }\n",
              "    60% {\n",
              "      border-color: transparent;\n",
              "      border-right-color: var(--fill-color);\n",
              "    }\n",
              "    80% {\n",
              "      border-color: transparent;\n",
              "      border-right-color: var(--fill-color);\n",
              "      border-bottom-color: var(--fill-color);\n",
              "    }\n",
              "    90% {\n",
              "      border-color: transparent;\n",
              "      border-bottom-color: var(--fill-color);\n",
              "    }\n",
              "  }\n",
              "</style>\n",
              "\n",
              "  <script>\n",
              "    async function quickchart(key) {\n",
              "      const quickchartButtonEl =\n",
              "        document.querySelector('#' + key + ' button');\n",
              "      quickchartButtonEl.disabled = true;  // To prevent multiple clicks.\n",
              "      quickchartButtonEl.classList.add('colab-df-spinner');\n",
              "      try {\n",
              "        const charts = await google.colab.kernel.invokeFunction(\n",
              "            'suggestCharts', [key], {});\n",
              "      } catch (error) {\n",
              "        console.error('Error during call to suggestCharts:', error);\n",
              "      }\n",
              "      quickchartButtonEl.classList.remove('colab-df-spinner');\n",
              "      quickchartButtonEl.classList.add('colab-df-quickchart-complete');\n",
              "    }\n",
              "    (() => {\n",
              "      let quickchartButtonEl =\n",
              "        document.querySelector('#df-d04ede37-cee6-4e38-a40b-e5c11d67af80 button');\n",
              "      quickchartButtonEl.style.display =\n",
              "        google.colab.kernel.accessAllowed ? 'block' : 'none';\n",
              "    })();\n",
              "  </script>\n",
              "</div>\n",
              "    </div>\n",
              "  </div>\n"
            ]
          },
          "metadata": {},
          "execution_count": 119
        }
      ],
      "source": [
        "train = pd.read_csv('mnist_train.csv')\n",
        "test = pd.read_csv('mnist_test.csv')\n",
        "\n",
        "train.head()"
      ]
    },
    {
      "cell_type": "code",
      "execution_count": null,
      "metadata": {
        "colab": {
          "base_uri": "https://localhost:8080/"
        },
        "id": "1xnPtSdCF-9a",
        "outputId": "0f0c46b6-12a7-4713-fbd7-99fe4b846718"
      },
      "outputs": [
        {
          "output_type": "stream",
          "name": "stdout",
          "text": [
            "X_train = (60000, 784), y = (60000,), X_test = (10000, 784)\n"
          ]
        }
      ],
      "source": [
        "# Shuffeling training data\n",
        "train_shuffled = shuffle(train.values, random_state=0)\n",
        "\n",
        "# Extracting features as X and labels as y\n",
        "# X_train = train.drop(labels = [\"label\"],axis = 1)\n",
        "X_train = train.drop(labels = [\"label\"],axis = 1)\n",
        "y_train = train[\"label\"]\n",
        "\n",
        "# Loading test data (no labels are provieded)\n",
        "# X_test = test.values\n",
        "X_test = test.drop(labels = [\"label\"],axis = 1)\n",
        "y_test = test[\"label\"]\n",
        "\n",
        "print(f'X_train = {X_train.shape}, y = {y_train.shape}, X_test = {X_test.shape}')"
      ]
    },
    {
      "cell_type": "code",
      "execution_count": null,
      "metadata": {
        "colab": {
          "base_uri": "https://localhost:8080/",
          "height": 235
        },
        "id": "Y6j_SaN7GBFe",
        "outputId": "0cee75ce-1d53-44ef-ad1a-cd88c57d246a"
      },
      "outputs": [
        {
          "output_type": "display_data",
          "data": {
            "text/plain": [
              "<Figure size 1400x1200 with 30 Axes>"
            ],
            "image/png": "[encoded data removed]"
          },
          "metadata": {}
        }
      ],
      "source": [
        "# Plotting some digits\n",
        "\n",
        "plt.figure(figsize=(14,12))\n",
        "for digit_num in range(0,30):\n",
        "    plt.subplot(7,10,digit_num+1)\n",
        "    grid_data = X_train.iloc[digit_num].values.reshape(28,28)  # reshape from 1d to 2d pixel array\n",
        "    plt.imshow(grid_data, interpolation = \"none\", cmap = \"afmhot\")\n",
        "    plt.xticks([])\n",
        "    plt.yticks([])\n",
        "plt.tight_layout()"
      ]
    },
    {
      "cell_type": "code",
      "execution_count": null,
      "metadata": {
        "id": "LfjG-uWMGFgw",
        "colab": {
          "base_uri": "https://localhost:8080/"
        },
        "outputId": "b8abd588-3247-4c82-c7e1-a743996b65ad"
      },
      "outputs": [
        {
          "output_type": "execute_result",
          "data": {
            "text/plain": [
              "array([-1.        , -1.        , -1.        , -1.        , -1.        ,\n",
              "       -1.        , -1.        , -1.        , -1.        , -1.        ,\n",
              "       -1.        , -1.        , -1.        , -1.        , -1.        ,\n",
              "       -1.        , -1.        , -1.        , -1.        , -1.        ,\n",
              "       -1.        , -1.        , -1.        , -1.        , -1.        ,\n",
              "       -1.        , -1.        , -1.        , -1.        , -1.        ,\n",
              "       -1.        , -1.        , -1.        , -1.        , -1.        ,\n",
              "       -1.        , -1.        , -1.        , -1.        , -1.        ,\n",
              "       -1.        , -1.        , -1.        , -1.        , -1.        ,\n",
              "       -1.        , -1.        , -1.        , -1.        , -1.        ,\n",
              "       -1.        , -1.        , -1.        , -1.        , -1.        ,\n",
              "       -1.        , -1.        , -1.        , -1.        , -1.        ,\n",
              "       -1.        , -1.        , -1.        , -1.        , -1.        ,\n",
              "       -1.        , -1.        , -1.        , -1.        , -1.        ,\n",
              "       -1.        , -1.        , -1.        , -1.        , -1.        ,\n",
              "       -1.        , -1.        , -1.        , -1.        , -1.        ,\n",
              "       -1.        , -1.        , -1.        , -1.        , -1.        ,\n",
              "       -1.        , -1.        , -1.        , -1.        , -1.        ,\n",
              "       -1.        , -1.        , -1.        , -1.        , -1.        ,\n",
              "       -1.        , -1.        , -1.        , -1.        , -1.        ,\n",
              "       -1.        , -1.        , -1.        , -1.        , -1.        ,\n",
              "       -1.        , -1.        , -1.        , -1.        , -1.        ,\n",
              "       -1.        , -1.        , -1.        , -1.        , -1.        ,\n",
              "       -1.        , -1.        , -1.        , -1.        , -1.        ,\n",
              "       -1.        , -1.        , -1.        , -1.        , -1.        ,\n",
              "       -1.        , -1.        , -1.        , -1.        , -1.        ,\n",
              "       -1.        , -1.        , -1.        , -1.        , -1.        ,\n",
              "       -1.        , -1.        , -1.        , -1.        , -1.        ,\n",
              "       -1.        , -1.        , -1.        , -1.        , -1.        ,\n",
              "       -1.        , -1.        , -1.        , -1.        , -1.        ,\n",
              "       -1.        , -1.        , -0.97647059, -0.85882353, -0.85882353,\n",
              "       -0.85882353, -0.01176471,  0.06666667,  0.37254902, -0.79607843,\n",
              "        0.30196078,  1.        ,  0.9372549 , -0.00392157, -1.        ,\n",
              "       -1.        , -1.        , -1.        , -1.        , -1.        ,\n",
              "       -1.        , -1.        , -1.        , -1.        , -1.        ,\n",
              "       -1.        , -0.76470588, -0.71764706, -0.2627451 ,  0.20784314,\n",
              "        0.33333333,  0.98431373,  0.98431373,  0.98431373,  0.98431373,\n",
              "        0.98431373,  0.76470588,  0.34901961,  0.98431373,  0.89803922,\n",
              "        0.52941176, -0.49803922, -1.        , -1.        , -1.        ,\n",
              "       -1.        , -1.        , -1.        , -1.        , -1.        ,\n",
              "       -1.        , -1.        , -1.        , -0.61568627,  0.86666667,\n",
              "        0.98431373,  0.98431373,  0.98431373,  0.98431373,  0.98431373,\n",
              "        0.98431373,  0.98431373,  0.98431373,  0.96862745, -0.27058824,\n",
              "       -0.35686275, -0.35686275, -0.56078431, -0.69411765, -1.        ,\n",
              "       -1.        , -1.        , -1.        , -1.        , -1.        ,\n",
              "       -1.        , -1.        , -1.        , -1.        , -1.        ,\n",
              "       -1.        , -0.85882353,  0.71764706,  0.98431373,  0.98431373,\n",
              "        0.98431373,  0.98431373,  0.98431373,  0.55294118,  0.42745098,\n",
              "        0.9372549 ,  0.89019608, -1.        , -1.        , -1.        ,\n",
              "       -1.        , -1.        , -1.        , -1.        , -1.        ,\n",
              "       -1.        , -1.        , -1.        , -1.        , -1.        ,\n",
              "       -1.        , -1.        , -1.        , -1.        , -1.        ,\n",
              "       -0.37254902,  0.22352941, -0.16078431,  0.98431373,  0.98431373,\n",
              "        0.60784314, -0.91372549, -1.        , -0.6627451 ,  0.20784314,\n",
              "       -1.        , -1.        , -1.        , -1.        , -1.        ,\n",
              "       -1.        , -1.        , -1.        , -1.        , -1.        ,\n",
              "       -1.        , -1.        , -1.        , -1.        , -1.        ,\n",
              "       -1.        , -1.        , -1.        , -1.        , -0.89019608,\n",
              "       -0.99215686,  0.20784314,  0.98431373, -0.29411765, -1.        ,\n",
              "       -1.        , -1.        , -1.        , -1.        , -1.        ,\n",
              "       -1.        , -1.        , -1.        , -1.        , -1.        ,\n",
              "       -1.        , -1.        , -1.        , -1.        , -1.        ,\n",
              "       -1.        , -1.        , -1.        , -1.        , -1.        ,\n",
              "       -1.        , -1.        , -1.        , -1.        ,  0.09019608,\n",
              "        0.98431373,  0.49019608, -0.98431373, -1.        , -1.        ,\n",
              "       -1.        , -1.        , -1.        , -1.        , -1.        ,\n",
              "       -1.        , -1.        , -1.        , -1.        , -1.        ,\n",
              "       -1.        , -1.        , -1.        , -1.        , -1.        ,\n",
              "       -1.        , -1.        , -1.        , -1.        , -1.        ,\n",
              "       -1.        , -1.        , -0.91372549,  0.49019608,  0.98431373,\n",
              "       -0.45098039, -1.        , -1.        , -1.        , -1.        ,\n",
              "       -1.        , -1.        , -1.        , -1.        , -1.        ,\n",
              "       -1.        , -1.        , -1.        , -1.        , -1.        ,\n",
              "       -1.        , -1.        , -1.        , -1.        , -1.        ,\n",
              "       -1.        , -1.        , -1.        , -1.        , -1.        ,\n",
              "       -1.        , -0.7254902 ,  0.89019608,  0.76470588,  0.25490196,\n",
              "       -0.15294118, -0.99215686, -1.        , -1.        , -1.        ,\n",
              "       -1.        , -1.        , -1.        , -1.        , -1.        ,\n",
              "       -1.        , -1.        , -1.        , -1.        , -1.        ,\n",
              "       -1.        , -1.        , -1.        , -1.        , -1.        ,\n",
              "       -1.        , -1.        , -1.        , -1.        , -1.        ,\n",
              "       -0.36470588,  0.88235294,  0.98431373,  0.98431373, -0.06666667,\n",
              "       -0.80392157, -1.        , -1.        , -1.        , -1.        ,\n",
              "       -1.        , -1.        , -1.        , -1.        , -1.        ,\n",
              "       -1.        , -1.        , -1.        , -1.        , -1.        ,\n",
              "       -1.        , -1.        , -1.        , -1.        , -1.        ,\n",
              "       -1.        , -1.        , -1.        , -1.        , -0.64705882,\n",
              "        0.45882353,  0.98431373,  0.98431373,  0.17647059, -0.78823529,\n",
              "       -1.        , -1.        , -1.        , -1.        , -1.        ,\n",
              "       -1.        , -1.        , -1.        , -1.        , -1.        ,\n",
              "       -1.        , -1.        , -1.        , -1.        , -1.        ,\n",
              "       -1.        , -1.        , -1.        , -1.        , -1.        ,\n",
              "       -1.        , -1.        , -1.        , -0.8745098 , -0.27058824,\n",
              "        0.97647059,  0.98431373,  0.46666667, -1.        , -1.        ,\n",
              "       -1.        , -1.        , -1.        , -1.        , -1.        ,\n",
              "       -1.        , -1.        , -1.        , -1.        , -1.        ,\n",
              "       -1.        , -1.        , -1.        , -1.        , -1.        ,\n",
              "       -1.        , -1.        , -1.        , -1.        , -1.        ,\n",
              "       -1.        , -1.        , -1.        ,  0.95294118,  0.98431373,\n",
              "        0.95294118, -0.49803922, -1.        , -1.        , -1.        ,\n",
              "       -1.        , -1.        , -1.        , -1.        , -1.        ,\n",
              "       -1.        , -1.        , -1.        , -1.        , -1.        ,\n",
              "       -1.        , -1.        , -1.        , -1.        , -1.        ,\n",
              "       -1.        , -1.        , -1.        , -0.63921569,  0.01960784,\n",
              "        0.43529412,  0.98431373,  0.98431373,  0.62352941, -0.98431373,\n",
              "       -1.        , -1.        , -1.        , -1.        , -1.        ,\n",
              "       -1.        , -1.        , -1.        , -1.        , -1.        ,\n",
              "       -1.        , -1.        , -1.        , -1.        , -1.        ,\n",
              "       -1.        , -1.        , -1.        , -1.        , -0.69411765,\n",
              "        0.16078431,  0.79607843,  0.98431373,  0.98431373,  0.98431373,\n",
              "        0.96078431,  0.42745098, -1.        , -1.        , -1.        ,\n",
              "       -1.        , -1.        , -1.        , -1.        , -1.        ,\n",
              "       -1.        , -1.        , -1.        , -1.        , -1.        ,\n",
              "       -1.        , -1.        , -1.        , -1.        , -1.        ,\n",
              "       -0.81176471, -0.10588235,  0.73333333,  0.98431373,  0.98431373,\n",
              "        0.98431373,  0.98431373,  0.57647059, -0.38823529, -1.        ,\n",
              "       -1.        , -1.        , -1.        , -1.        , -1.        ,\n",
              "       -1.        , -1.        , -1.        , -1.        , -1.        ,\n",
              "       -1.        , -1.        , -1.        , -1.        , -1.        ,\n",
              "       -1.        , -0.81960784, -0.48235294,  0.67058824,  0.98431373,\n",
              "        0.98431373,  0.98431373,  0.98431373,  0.55294118, -0.36470588,\n",
              "       -0.98431373, -1.        , -1.        , -1.        , -1.        ,\n",
              "       -1.        , -1.        , -1.        , -1.        , -1.        ,\n",
              "       -1.        , -1.        , -1.        , -1.        , -1.        ,\n",
              "       -1.        , -1.        , -0.85882353,  0.34117647,  0.71764706,\n",
              "        0.98431373,  0.98431373,  0.98431373,  0.98431373,  0.52941176,\n",
              "       -0.37254902, -0.92941176, -1.        , -1.        , -1.        ,\n",
              "       -1.        , -1.        , -1.        , -1.        , -1.        ,\n",
              "       -1.        , -1.        , -1.        , -1.        , -1.        ,\n",
              "       -1.        , -1.        , -1.        , -0.56862745,  0.34901961,\n",
              "        0.77254902,  0.98431373,  0.98431373,  0.98431373,  0.98431373,\n",
              "        0.91372549,  0.04313725, -0.91372549, -1.        , -1.        ,\n",
              "       -1.        , -1.        , -1.        , -1.        , -1.        ,\n",
              "       -1.        , -1.        , -1.        , -1.        , -1.        ,\n",
              "       -1.        , -1.        , -1.        , -1.        , -1.        ,\n",
              "       -1.        ,  0.06666667,  0.98431373,  0.98431373,  0.98431373,\n",
              "        0.6627451 ,  0.05882353,  0.03529412, -0.8745098 , -1.        ,\n",
              "       -1.        , -1.        , -1.        , -1.        , -1.        ,\n",
              "       -1.        , -1.        , -1.        , -1.        , -1.        ,\n",
              "       -1.        , -1.        , -1.        , -1.        , -1.        ,\n",
              "       -1.        , -1.        , -1.        , -1.        , -1.        ,\n",
              "       -1.        , -1.        , -1.        , -1.        , -1.        ,\n",
              "       -1.        , -1.        , -1.        , -1.        , -1.        ,\n",
              "       -1.        , -1.        , -1.        , -1.        , -1.        ,\n",
              "       -1.        , -1.        , -1.        , -1.        , -1.        ,\n",
              "       -1.        , -1.        , -1.        , -1.        , -1.        ,\n",
              "       -1.        , -1.        , -1.        , -1.        , -1.        ,\n",
              "       -1.        , -1.        , -1.        , -1.        , -1.        ,\n",
              "       -1.        , -1.        , -1.        , -1.        , -1.        ,\n",
              "       -1.        , -1.        , -1.        , -1.        , -1.        ,\n",
              "       -1.        , -1.        , -1.        , -1.        , -1.        ,\n",
              "       -1.        , -1.        , -1.        , -1.        , -1.        ,\n",
              "       -1.        , -1.        , -1.        , -1.        , -1.        ,\n",
              "       -1.        , -1.        , -1.        , -1.        , -1.        ,\n",
              "       -1.        , -1.        , -1.        , -1.        , -1.        ,\n",
              "       -1.        , -1.        , -1.        , -1.        , -1.        ,\n",
              "       -1.        , -1.        , -1.        , -1.        ])"
            ]
          },
          "metadata": {},
          "execution_count": 122
        }
      ],
      "source": [
        "# Normalizing data .. Normilization was found better in this dataset than Standardization\n",
        "# Normilization between (0, 1) was tested vs (-1, 1) and (-1, 1) showed better results\n",
        "\n",
        "scaler = MinMaxScaler(feature_range=(-1, 1))\n",
        "scaler.fit(X_train)\n",
        "normalized_X_train = scaler.transform(X_train)\n",
        "normalized_X_test = scaler.transform(X_test)\n",
        "normalized_X_train[0]"
      ]
    },
    {
      "cell_type": "code",
      "execution_count": null,
      "metadata": {
        "id": "dtvtvJUxGGCn"
      },
      "outputs": [],
      "source": [
        "# # Finding best gamma and C for RBF kernel (not recommended to re-run as it consumes too much time)\n",
        "# # Result: gamma =  0.00728932024638, C = 2.82842712475\n",
        "\n",
        "# %%time\n",
        "\n",
        "# from sklearn.svm import SVC\n",
        "# from sklearn.model_selection import StratifiedShuffleSplit\n",
        "# from sklearn.model_selection import GridSearchCV\n",
        "\n",
        "# # C_range = np.logspace(-2, 2, 10)\n",
        "# # gamma_range = np.logspace(-2, 2, 10)\n",
        "# # param_grid = dict(gamma=gamma_range, C=C_range)\n",
        "\n",
        "# param_grid = {'C': [0.001, 0.01, 0.1, 1, 10, 100],\n",
        "#           'gamma': [0.0001, 0.001, 0.01, 0.1],\n",
        "#           'kernel':['linear','rbf'] }\n",
        "# cv = StratifiedShuffleSplit(test_size=0.2, random_state=42)\n",
        "# grid = GridSearchCV(SVC(), param_grid=param_grid, cv=cv)\n",
        "# grid.fit(normalized_X_train, y_train)\n",
        "\n",
        "# print(\"The best parameters are %s with a score of %0.2f\"\n",
        "#       % (grid.best_params_, grid.best_score_))"
      ]
    },
    {
      "cell_type": "markdown",
      "metadata": {
        "id": "wOcvlppuGK-v"
      },
      "source": [
        "![alt text](https://scikit-learn.org/dev/_images/sphx_glr_plot_rbf_parameters_002.png)\n",
        "\n",
        "\n",
        "```\n",
        "The best parameters are {'C': 2.82842712475, 'gamma': 0.00728932024638} with a score of 0.97\n",
        "```\n",
        "\n"
      ]
    },
    {
      "cell_type": "code",
      "execution_count": null,
      "metadata": {
        "colab": {
          "base_uri": "https://localhost:8080/"
        },
        "id": "P53D23cxGIan",
        "outputId": "578ac967-3021-4d3e-a4d9-4e1400a7366c"
      },
      "outputs": [
        {
          "output_type": "stream",
          "name": "stdout",
          "text": [
            "[20.46749228 14.96556378 13.01083442 11.36648413 10.2684713   9.09465393\n",
            "  6.90062017  6.08224189  5.82522129  4.97099854  4.44835448  4.26655421\n",
            "  3.61866368  3.56866749  3.32917954] \n",
            " Number of PCA Vectors = 15\n"
          ]
        }
      ],
      "source": [
        "# Dimensionality Reduction with PCA (Principal Component Analysis)\n",
        "\n",
        "pca = PCA(n_components=15)\n",
        "pca_X_train = pca.fit_transform(normalized_X_train)\n",
        "pca_X_test = pca.transform(normalized_X_test)\n",
        "print(f'{pca.explained_variance_} \\n Number of PCA Vectors = {len(pca.explained_variance_)}' )"
      ]
    },
    {
      "cell_type": "code",
      "execution_count": null,
      "metadata": {
        "colab": {
          "base_uri": "https://localhost:8080/",
          "height": 282
        },
        "id": "rl_8yVnmGOo_",
        "outputId": "b90bf825-326b-4083-85b8-ef1d213a59e4"
      },
      "outputs": [
        {
          "output_type": "display_data",
          "data": {
            "text/plain": [
              "<Figure size 1600x600 with 1 Axes>"
            ],
            "image/png": "[encoded data removed]"
          },
          "metadata": {}
        }
      ],
      "source": [
        "# Plotting PCA output\n",
        "f, ax = plt.subplots(1, 1)\n",
        "for i in range(10):\n",
        "    ax.scatter(pca_X_train[y_train == i, 0], pca_X_train[y_train == i, 1], label=i)\n",
        "ax.set_xlabel(\"PCA Analysis\")\n",
        "ax.legend()\n",
        "f.set_size_inches(16, 6)\n",
        "ax.set_title(\"Digits (training set)\")\n",
        "plt.show()"
      ]
    },
    {
      "cell_type": "code",
      "execution_count": null,
      "metadata": {
        "id": "fPkpYp1GGR4N"
      },
      "outputs": [],
      "source": [
        "# Trainging the SVC model with gamma and C found in previous step\n",
        "\n",
        "# classifier = svm.SVC(gamma=0.00728932024638, C=2.82842712475) # best parameters\n",
        "classifier = svm.SVC(verbose=1)\n",
        "classifier.fit(pca_X_train, y_train)\n",
        "\n",
        "# Calculating the training accuracy (to measure the bias)\n",
        "train_accuracy = classifier.score(pca_X_train, y_train)\n",
        "print (f\"Training Accuracy: {train_accuracy*100:.3f}%\")\n",
        "\n",
        "# Getting predictions\n",
        "predictions = classifier.predict(pca_X_test)"
      ]
    },
    {
      "cell_type": "code",
      "execution_count": null,
      "metadata": {
        "id": "9xwE2g37GUxO"
      },
      "outputs": [],
      "source": [
        "from sklearn.metrics import classification_report\n",
        "\n",
        "y_test = test[\"label\"]\n",
        "print(classification_report(y_test, predictions))"
      ]
    },
    {
      "cell_type": "markdown",
      "metadata": {
        "id": "5H3MEvEJGYlZ"
      },
      "source": [
        "## No PCA (Không khuyến khích chạy)"
      ]
    },
    {
      "cell_type": "code",
      "execution_count": null,
      "metadata": {
        "id": "WfSzhv8XGZhm"
      },
      "outputs": [],
      "source": [
        "# Not recommend run -> It takes much time\n",
        "\n",
        "classifier = svm.SVC(gamma=0.00728932024638, C=2.82842712475, verbose=1)\n",
        "classifier.fit(X_train, y_train, )\n",
        "\n",
        "# Calculating the training accuracy (to measure the bias)\n",
        "train_accuracy = classifier.score(pca_X_train, y_train)\n",
        "print (f\"Training Accuracy: {train_accuracy*100:.3f}%\")\n",
        "\n",
        "# Getting predictions\n",
        "predictions = classifier.predict(pca_X_test)\n",
        "\n",
        "# report\n",
        "y_test = test[\"label\"]\n",
        "print(classification_report(y_test, predictions))"
      ]
    },
    {
      "cell_type": "code",
      "execution_count": null,
      "metadata": {
        "id": "QTOJLDIzYrW5"
      },
      "outputs": [],
      "source": []
    },
    {
      "cell_type": "markdown",
      "metadata": {
        "id": "gZ0W0xdrYuFM"
      },
      "source": [
        "# Tiền xử lý dữ liệu"
      ]
    },
    {
      "cell_type": "markdown",
      "metadata": {
        "id": "s_fQQ4MVZCXY"
      },
      "source": [
        "NLTK, viết tắt của \"Natural Language Toolkit,\" là một thư viện và nền tảng phát triển cho xử lý ngôn ngữ tự nhiên (NLP) trong ngôn ngữ lập trình Python. NLTK được phát triển bởi nhóm nghiên cứu NLP tại Đại học Pennsylvania và là một công cụ phổ biến trong cộng đồng NLP và AI. Read more [NLTK](https://www.nltk.org/)"
      ]
    },
    {
      "cell_type": "code",
      "execution_count": null,
      "metadata": {
        "id": "t4nwuZDRZRh-"
      },
      "outputs": [],
      "source": [
        "import nltk\n",
        "import string\n",
        "import re"
      ]
    },
    {
      "cell_type": "markdown",
      "metadata": {
        "id": "uCI-w0zmaqji"
      },
      "source": [
        "## Text lowercase"
      ]
    },
    {
      "cell_type": "markdown",
      "metadata": {
        "id": "S_Tjdf7BZjs_"
      },
      "source": [
        "Chúng ta thường chuyển đổi chữ hoa thành chữ thường trong văn bản để giảm kích thước của từ vựng trong dữ liệu văn bản của chúng ta."
      ]
    },
    {
      "cell_type": "code",
      "execution_count": null,
      "metadata": {
        "id": "yHGSEnurZZR9"
      },
      "outputs": [],
      "source": [
        "def lowercase_text(text):\n",
        "    return text.lower()\n",
        "\n",
        "input_str = \"Weather is too Cloudy.Possiblity of Rain is High,Today!!\"\n",
        "lowercase_text(input_str)"
      ]
    },
    {
      "cell_type": "markdown",
      "metadata": {
        "id": "AWm3olzMatuk"
      },
      "source": [
        "## Remove numbers"
      ]
    },
    {
      "cell_type": "markdown",
      "metadata": {
        "id": "Uz2Pn_9DZtnA"
      },
      "source": [
        "loại bỏ các số hoặc chuyển đổi các số đó thành biểu diễn văn bản. Sử dụng các biểu thức chính quy (regular expressions - re) để loại bỏ các số."
      ]
    },
    {
      "cell_type": "code",
      "execution_count": null,
      "metadata": {
        "id": "CKM1eDfhZmZp"
      },
      "outputs": [],
      "source": [
        "# For Removing numbers\n",
        "def remove_num(text):\n",
        "    result = re.sub(r'\\d+', '', text)\n",
        "    return result\n",
        "\n",
        "input_s = \"You bought 6 candies from shop, and 4 candies are in home.\"\n",
        "remove_num(input_s)"
      ]
    },
    {
      "cell_type": "markdown",
      "metadata": {
        "id": "NlVBm6Q_awrW"
      },
      "source": [
        "##Remove Punctuation"
      ]
    },
    {
      "cell_type": "markdown",
      "metadata": {
        "id": "R1890tGwaGkU"
      },
      "source": [
        "Loại bỏ dấu câu vì nếu không loại bỏ chúng, thì các biểu diễn khác nhau của cùng một từ sẽ bị xử lý một cách riêng biệt. Nếu không loại bỏ dấu câu thì ví dụ \"been,\" và \"been!\" sẽ được xem xét là hai từ khác nhau."
      ]
    },
    {
      "cell_type": "code",
      "execution_count": null,
      "metadata": {
        "id": "2lB8_pxpaF-T"
      },
      "outputs": [],
      "source": [
        "def rem_punct(text):\n",
        "    translator = str.maketrans('', '', string.punctuation)\n",
        "    return text.translate(translator)\n",
        "\n",
        "input_str = \"Hey, Are you excited??, After a week, we will be in Shimla!!!\"\n",
        "rem_punct(input_str)"
      ]
    },
    {
      "cell_type": "markdown",
      "metadata": {
        "id": "KU93XkHua01e"
      },
      "source": [
        "## Remove stopwords"
      ]
    },
    {
      "cell_type": "markdown",
      "metadata": {
        "id": "tcLKzUa4aYDa"
      },
      "source": [
        "Stopwords là những từ không đóng góp vào ý nghĩa của câu. Do đó, chúng có thể bị loại bỏ một cách an toàn mà không gây thay đổi nghĩa của một câu. Thư viện NLTK (Natural Language Toolkit) chứa danh sách các stopwords và chúng ta có thể sử dụng chúng để loại bỏ stopwords khỏi văn bản của chúng ta và trả về một danh sách các từ (word tokens)."
      ]
    },
    {
      "cell_type": "code",
      "execution_count": null,
      "metadata": {
        "id": "CK_NvIZAaXlt",
        "colab": {
          "base_uri": "https://localhost:8080/"
        },
        "outputId": "284cf4e0-d11c-4db7-f037-628bf013dac0"
      },
      "outputs": [
        {
          "output_type": "execute_result",
          "data": {
            "text/plain": [
              "['Data', 'new', 'oil', '.', 'A.I', 'last', 'invention']"
            ]
          },
          "metadata": {},
          "execution_count": 127
        }
      ],
      "source": [
        "# importing nltk library\n",
        "from nltk.corpus import stopwords\n",
        "from nltk.tokenize import word_tokenize\n",
        "\n",
        "nltk.download('stopwords', quiet='true')\n",
        "nltk.download('punkt', quiet='true')\n",
        "\n",
        "# remove stopwords function\n",
        "def rem_stopwords(text):\n",
        "    stop_words = set(stopwords.words(\"english\"))\n",
        "    word_tokens = word_tokenize(text)\n",
        "    filtered_text = [word for word in word_tokens if word not in stop_words]\n",
        "    return filtered_text\n",
        "\n",
        "ex_text = \"Data is the new oil. A.I is the last invention\"\n",
        "rem_stopwords(ex_text)"
      ]
    },
    {
      "cell_type": "markdown",
      "metadata": {
        "id": "eNW1DRJicKR5"
      },
      "source": [
        "## Tokenizer"
      ]
    },
    {
      "cell_type": "markdown",
      "metadata": {
        "id": "RxyQrWF_cl4X"
      },
      "source": [
        "Một điểm đặc biệt trong văn bản tiếng Việt đó là một từ có thể được kết hợp bởi nhiều tiếng khác nhau, ví dụ như: sử_dụng, bắt_đầu,... khác với tiếng Anh và một số ngôn ngữ khác, các từ được phân cách nhau bằng khoảng trắng. Vì vậy chúng ta cần `tách từ(tokenizer)` để có thể đảm bảo ý nghĩa của từ được toàn vẹn"
      ]
    },
    {
      "cell_type": "code",
      "execution_count": null,
      "metadata": {
        "id": "lk_hEYghc0LR",
        "colab": {
          "base_uri": "https://localhost:8080/",
          "height": 71
        },
        "outputId": "0a732982-057e-481b-b198-68c7f28dfd0b"
      },
      "outputs": [
        {
          "output_type": "stream",
          "name": "stdout",
          "text": [
            "\u001b[2K     \u001b[90m━━━━━━━━━━━━━━━━━━━━━━━━━━━━━━━━━━━━━━━━\u001b[0m \u001b[32m8.5/8.5 MB\u001b[0m \u001b[31m9.9 MB/s\u001b[0m eta \u001b[36m0:00:00\u001b[0m\n",
            "\u001b[2K     \u001b[90m━━━━━━━━━━━━━━━━━━━━━━━━━━━━━━━━━━━━━━\u001b[0m \u001b[32m993.5/993.5 kB\u001b[0m \u001b[31m14.6 MB/s\u001b[0m eta \u001b[36m0:00:00\u001b[0m\n",
            "\u001b[?25h"
          ]
        },
        {
          "output_type": "execute_result",
          "data": {
            "text/plain": [
              "'Phân_loại văn_bản tự_động bằng Machine_Learning'"
            ],
            "application/vnd.google.colaboratory.intrinsic+json": {
              "type": "string"
            }
          },
          "metadata": {},
          "execution_count": 128
        }
      ],
      "source": [
        "!pip install -q pyvi # cài đặt thư viện pyvi dành riêng cho tiếng việt\n",
        "from pyvi import ViTokenizer\n",
        "\n",
        "line = \"Phân loại văn bản tự động bằng Machine Learning\"\n",
        "lines = ViTokenizer.tokenize(line)\n",
        "lines"
      ]
    }
  ],
  "metadata": {
    "_change_revision": 1,
    "_is_fork": false,
    "colab": {
      "toc_visible": true,
      "provenance": []
    },
    "kernelspec": {
      "display_name": "Python 3",
      "language": "python",
      "name": "python3"
    },
    "language_info": {
      "codemirror_mode": {
        "name": "ipython",
        "version": 3
      },
      "file_extension": ".py",
      "mimetype": "text/x-python",
      "name": "python",
      "nbconvert_exporter": "python",
      "pygments_lexer": "ipython3",
      "version": "3.6.0"
    }
  },
  "nbformat": 4,
  "nbformat_minor": 0
}